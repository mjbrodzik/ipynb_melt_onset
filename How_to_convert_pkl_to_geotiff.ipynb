{
 "cells": [
  {
   "cell_type": "code",
   "execution_count": null,
   "id": "a6c6fd8f",
   "metadata": {},
   "outputs": [],
   "source": [
    "%pylab notebook\n",
    "# check if a windows machine, it needs special attention\n",
    "# this extra step will bypass an error from mpl_toolkits.basemap\n",
    "import os\n",
    "if os.name == 'nt':\n",
    "    os.environ[\"PROJ_LIB\"] = os.path.join(os.environ[\"CONDA_PREFIX\"], \"Library\", \"share\")\n",
    "    os.environ[\"GDAL_DATA\"] = os.path.join(os.environ[\"CONDA_PREFIX\"], \"Library\", \"share\", \"gdal\")\n",
    "import matplotlib.pyplot as plt\n",
    "from mpl_toolkits.axes_grid1 import make_axes_locatable\n",
    "from netCDF4 import Dataset, num2date\n",
    "import numpy as np\n",
    "from osgeo import gdal, osr   # noqa\n",
    "import pandas as pd\n",
    "from pathlib import Path\n",
    "import re\n",
    "from cetbtools.ease2conv import Ease2Transform\n",
    "from mpl_toolkits.basemap import Basemap\n",
    "import glob\n",
    "from pathlib import Path"
   ]
  },
  {
   "cell_type": "markdown",
   "id": "eed01587",
   "metadata": {},
   "source": [
    "# Read a GRD MOD pkl file with geolocation"
   ]
  },
  {
   "cell_type": "code",
   "execution_count": null,
   "id": "921d52ef",
   "metadata": {},
   "outputs": [],
   "source": [
    "dataDir = Path(Path.home(), 'nsidc0630_v1') # Mariah's PC or Mary Jo's Mac\n",
    "scriptDir = Path(Path.home(), 'ipynb_melt_onset', 'scripts')\n",
    "\n",
    "modsDir = \"%s/MODs\" % dataDir\n",
    "modsDir"
   ]
  },
  {
   "cell_type": "code",
   "execution_count": null,
   "id": "b19a7d12",
   "metadata": {},
   "outputs": [],
   "source": [
    "%cd $scriptDir"
   ]
  },
  {
   "cell_type": "code",
   "execution_count": null,
   "id": "00a626ec",
   "metadata": {},
   "outputs": [],
   "source": [
    "from CETB_IO import write_MOD_df_to_geotiff"
   ]
  },
  {
   "cell_type": "code",
   "execution_count": null,
   "id": "b54b30c2",
   "metadata": {},
   "outputs": [],
   "source": [
    "os.chdir(modsDir)\n",
    "gpd = \"EASE2_N3.125km\"\n",
    "modFiles = sort(glob.glob(\"%s-WesternCA*MOD.pkl\" % gpd))\n",
    "modFiles"
   ]
  },
  {
   "cell_type": "code",
   "execution_count": null,
   "id": "1edc041a",
   "metadata": {},
   "outputs": [],
   "source": [
    "#fidx needs to be set to file index in the array\n",
    "\n",
    "fidx = 0\n",
    "MOD_df = pd.read_pickle(modFiles[fidx])"
   ]
  },
  {
   "cell_type": "code",
   "execution_count": null,
   "id": "e92c6c2c",
   "metadata": {},
   "outputs": [],
   "source": [
    "MOD_df"
   ]
  },
  {
   "cell_type": "code",
   "execution_count": null,
   "id": "15b1b792",
   "metadata": {},
   "outputs": [],
   "source": [
    "%pwd"
   ]
  },
  {
   "cell_type": "code",
   "execution_count": null,
   "id": "e60e82e6",
   "metadata": {},
   "outputs": [],
   "source": [
    "outbasename = 'bathurst_range'\n",
    "out = write_MOD_df_to_geotiff(MOD_df, gpd, outbasename, verbose=True)"
   ]
  },
  {
   "cell_type": "code",
   "execution_count": null,
   "id": "0bcc96ba",
   "metadata": {},
   "outputs": [],
   "source": [
    "out"
   ]
  },
  {
   "cell_type": "code",
   "execution_count": null,
   "id": "44ba38db",
   "metadata": {},
   "outputs": [],
   "source": [
    "out.keys()"
   ]
  },
  {
   "cell_type": "code",
   "execution_count": null,
   "id": "a2c3e9b2",
   "metadata": {},
   "outputs": [],
   "source": [
    "out[1996]"
   ]
  }
 ],
 "metadata": {
  "kernelspec": {
   "display_name": "Python 3 (ipykernel)",
   "language": "python",
   "name": "python3"
  },
  "language_info": {
   "codemirror_mode": {
    "name": "ipython",
    "version": 3
   },
   "file_extension": ".py",
   "mimetype": "text/x-python",
   "name": "python",
   "nbconvert_exporter": "python",
   "pygments_lexer": "ipython3",
   "version": "3.7.12"
  }
 },
 "nbformat": 4,
 "nbformat_minor": 5
}
