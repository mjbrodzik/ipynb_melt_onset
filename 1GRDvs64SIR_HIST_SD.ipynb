{
 "cells": [
  {
   "cell_type": "markdown",
   "metadata": {},
   "source": [
    "## Load in all the modules needed"
   ]
  },
  {
   "cell_type": "code",
   "execution_count": 1,
   "metadata": {},
   "outputs": [
    {
     "name": "stdout",
     "output_type": "stream",
     "text": [
      "Populating the interactive namespace from numpy and matplotlib\n"
     ]
    }
   ],
   "source": [
    "%pylab notebook\n",
    "import glob\n",
    "import matplotlib.pyplot as plt\n",
    "from mpl_toolkits.basemap import Basemap\n",
    "from netCDF4 import Dataset, num2date\n",
    "import numpy as np\n",
    "import os\n",
    "import pandas as pd\n",
    "import re\n",
    "\n",
    "from cetbtools.ease2conv import Ease2Transform\n",
    "\n",
    "# the set_trace() command is helpful for entering interactive\n",
    "# debugging mode to step through lines of code in this notebook\n",
    "from IPython.core.debugger import set_trace"
   ]
  },
  {
   "cell_type": "code",
   "execution_count": 2,
   "metadata": {},
   "outputs": [],
   "source": [
    "# Set pandas display options to display entire DataFrame, use None for all \n",
    "pd.set_option('display.max_rows', 500)\n",
    "pd.set_option('display.min_rows', 120)\n",
    "pd.set_option('display.max_columns', 10)\n",
    "pd.set_option('display.width', 120)\n",
    "pd.set_option('display.max_colwidth', 10)"
   ]
  },
  {
   "cell_type": "code",
   "execution_count": 3,
   "metadata": {},
   "outputs": [
    {
     "name": "stdout",
     "output_type": "stream",
     "text": [
      "/mnt/data3/cetb/ipynb_melt_onset/scripts\n"
     ]
    },
    {
     "data": {
      "text/plain": [
       "('/mnt/data3/cetb/nsidc0630_v1/', 'Joan')"
      ]
     },
     "execution_count": 3,
     "metadata": {},
     "output_type": "execute_result"
    }
   ],
   "source": [
    "# Define the local machine location of CETB data cubes\n",
    "# This directory is expected to contain subdirectories in the following hierarchy\n",
    "# that duplicates the hierarchy on the Google Shared Drive NSIDC-SD-CETB/v1/, \n",
    "# for example:\n",
    "# dataDir/F13_SSMI/N/nc_cubes/cubes_<regionName>\n",
    "user = 'Joan' #Mariah #MJWindows\n",
    "if ('Joan' == user):\n",
    "    dataDir = '/mnt/data3/cetb/nsidc0630_v1/' #jmr machine fringe \n",
    "    scriptDir = '/mnt/data3/cetb/ipynb_melt_onset/scripts'\n",
    "elif ('Mariah' == user):\n",
    "    dataDir = Path(Path.home(), 'nsidc0630_v1') # Mariah's PC or Mary Jo's Mac\n",
    "    scriptDir = Path(Path.home(), 'ipynb_melt_onset', 'scripts')\n",
    "elif ('MJWindows' == user):\n",
    "    dataDir = Path('Z:/mj On My Mac/nsidc0630_v1') # Mary Jo's Windows machine\n",
    "    scriptDir = Path(Path.home(), 'ipynb_melt_onset', 'scripts')\n",
    "else:\n",
    "    raise ValueError(\"unknown user= %s\\n\" % (user) )\n",
    "    \n",
    "%cd $scriptDir\n",
    "dataDir, user"
   ]
  },
  {
   "cell_type": "code",
   "execution_count": 4,
   "metadata": {
    "scrolled": true
   },
   "outputs": [],
   "source": [
    "from CETB_read_functions import read_Tb\n",
    "from CETB_read_functions import read_Tb_std_dev\n",
    "from CETB_read_functions import coords\n",
    "from CETB_read_functions import calc_DAV\n",
    "from CETB_read_functions import read_Tb_whole\n",
    "from CETB_read_functions import find_cube_offset\n",
    "from CETB_read_functions import grid_locations_of_subset\n",
    "from CETB_read_functions import years_for\n",
    "from CETB_algorithms import DAV_MOD\n",
    "from CETB_algorithms import XPGR\n",
    "from CETB_algorithms import end_high_DAV\n",
    "from CETB_algorithms import D_DAV\n",
    "from CETB_algorithms import Winter_DAV\n",
    "from CETB_analysis import Tb_hist_annual\n",
    "from CETB_analysis import DAV_hist_annual\n",
    "from CETB_analysis import Tb_hist_monthly\n",
    "from CETB_analysis import DAV_hist_monthly\n",
    "from CETB_analysis import TbDAV_series_one_year\n",
    "from CETB_analysis import early_melt_events\n",
    "from CETB_analysis import min_max_series\n",
    "from CETB_analysis import MOD_array"
   ]
  },
  {
   "cell_type": "markdown",
   "metadata": {},
   "source": [
    "## Specify inputs"
   ]
  },
  {
   "cell_type": "code",
   "execution_count": 5,
   "metadata": {},
   "outputs": [],
   "source": [
    "#Specify region, satellite, sensor, channel, and image reconstruction algorithm of interest in file name\n",
    "# this notebook will read in 2 CETB datasets so that channels/algorithms/sensors can be compared\n",
    "region='WesternCA'  #make this the same syntax as cubefilenames and sub-directory #GLaIL\n",
    "sat_GRD='F13'   #'AQUA' for AMSRE, 'F13','F14','F15'... for SSMI\n",
    "sat_SIR= 'F13'\n",
    "sensor_GRD='SSMI'  #'AMSRE', 'SSMI', etc.\n",
    "sensor_SIR='SSMI'\n",
    "channel_GRD='37V'  #'36V','36H', '18V','18H', etc. '19V','19H' and '37V','37H' for SSMI)\n",
    "channel_SIR='37V'\n",
    "alg_GRD='GRD'   #SIR or GRD\n",
    "alg_SIR='SIR'\n",
    "\n",
    "\n",
    "# set the sir to grd factor, depends on the channel\n",
    "if (re.match('^[389]', channel_GRD)):\n",
    "    sir_2_grd_factor = 8 # assume 3.125 km to 25 km\n",
    "elif (re.match('^[12]', channel_GRD)):\n",
    "    sir_2_grd_factor = 4 # assume 6.25 km to 25 km\n",
    "else:\n",
    "    raise ValueError(\"Cannot determine sir_2_grd_factor from channel %s\\n\" % (channel_GRD) )\n",
    "    \n",
    "cubeType_GRD = channel_GRD + '-' + alg_GRD\n",
    "cubeType_SIR = channel_SIR + '-' + alg_SIR\n",
    "  \n",
    "if ('SSMI' == sensor_GRD) or ('SSMIS' == sensor_GRD):\n",
    "    provider='CSU' \n",
    "    version='v1.*'\n",
    "elif 'AMSRE' == sensor_GRD:\n",
    "    provider='RSS'\n",
    "    version='v1.3'\n",
    "\n",
    "\n",
    "Years=years_for(sat_GRD)\n",
    "#might want to truncate Years to subset if very slow during testing\n",
    "#if we give it more years than available what do we want it to do? \n",
    "#warn me but return what it finds\n",
    "    \n",
    "hemName = 'N'    \n",
    "    \n",
    "# either change to the directory where the data is or specify it\n",
    "datadir_GRD = \"%s/%s_%s/%s/nc_cubes/cubes_%s\" % (\n",
    "    dataDir, sat_GRD, sensor_GRD, hemName, region)\n",
    "datadir_SIR = \"%s/%s_%s/%s/nc_cubes/cubes_%s\" % (\n",
    "    dataDir, sat_SIR, sensor_SIR, hemName, region)\n",
    "\n",
    "\n",
    "# filepath patterns for each type of cubefile\n",
    "prefix_GRD = \"CETB.cubefile.%s.%s_%s-%s-%s-%s-%s\" % (\n",
    "    region, sat_GRD, sensor_GRD, channel_GRD, alg_GRD, provider, version)\n",
    "prefix_SIR = \"CETB.cubefile.%s.%s_%s-%s-%s-%s-%s\" % (\n",
    "    region, sat_SIR, sensor_SIR, channel_SIR, alg_SIR, provider, version)\n",
    "\n",
    "# on MJ's machine\n",
    "hemName = 'N'\n",
    "\n",
    "#Enter a site name for titles of plots\n",
    "# enter latitutde and longitude in decimal degrees\n",
    "\n",
    "#Site='Low Relief Test, Alberta 49.73,-111.14'\n",
    "\n",
    "#Site='Great Lakes Test Site, Lake Superior E of Duluth'\n",
    "#lat_start=47.353097   \n",
    "#lon_start=-89.861310\n",
    "\n",
    "Site='NWT C57 04242006 Spring Migration'\n",
    "lat_start=62.61\n",
    "lon_start=-109.64\n",
    "\n",
    "#Site='Great Slave Lake'\n",
    "#lat_start=61.87167\n",
    "#lon_start=-114.05\n",
    "\n",
    "#Site='Iceland, Central Vatnajokull'\n",
    "#lat_start=64.442   \n",
    "#lon_start=-16.730 \n",
    "\n",
    "#Site='Iceland, Katla Caldera Test'\n",
    "#lat_start=63.64361111   \n",
    "#lon_start=-19.20138889\n",
    "\n",
    "#Site='Iceland, Vatnajokull Site 1'\n",
    "#lat_start=64.64903   \n",
    "#lon_start=-17.32128\n",
    "\n",
    "#Site = 'Iceland, Vatnajokull Site 2'\n",
    "#lat_start=64.25860278\n",
    "#lon_start=-16.93241667\n",
    "\n",
    "#Site='Iceland, Vatnajokull Site 3'\n",
    "#lat_start=64.423333\n",
    "#lon_start=-16.77305556\n",
    "#Site='Iceland, Vatnajokull Site 4'\n",
    "#lat_start=64.66222\n",
    "#lon_start=-17.399444\n",
    "\n",
    "#Site='Senator Beck Basin (SASP), Colorado'\n",
    "#lat_start=37.9069   \n",
    "#lon_start=-107.710\n",
    "\n",
    "if Site=='Rabbit Ears':\n",
    "    lat_start=40.5  #southern boundary\n",
    "    lat_end=40.5  #northern boundary\n",
    "    lon_start=-106.7  #western boundary\n",
    "    lon_end=-106.7 #eastern boundary\n",
    "elif Site=='Fraser':\n",
    "    lat_start=39.85  #southern boundary\n",
    "    lat_end=40.0  #northern boundary\n",
    "    lon_start=-106.0  #western boundary\n",
    "    lon_end=-105.9 #eastern boundary\n",
    "elif Site=='North Park':\n",
    "    lat_start=40.7  #southern boundary\n",
    "    lat_end=40.7  #northern boundary\n",
    "    lon_start=-106.15  #western boundary\n",
    "    lon_end=-106.15 #eastern boundary\n",
    "elif Site=='CLPX-LSA':\n",
    "    lat_start=39.7  #southern boundary\n",
    "    lat_end=41.0  #northern boundary\n",
    "    lon_start=-106.7  #western boundary\n",
    "    lon_end=-105.4 #eastern boundary\n",
    "elif Site=='CUSTOM':\n",
    "    lat_start=43  #southern boundary\n",
    "    lat_end=43  #northern boundary\n",
    "    lon_start=-110  #western boundary\n",
    "    lon_end=-110 #eastern boundary\n",
    "elif Site=='Senator Beck':\n",
    "    # enter latitutde and longitude in decimal degrees\n",
    "    lat_start=37.9069   #southern boundary\n",
    "    lat_end=37.9069   #northern boundary\n",
    "    lon_start=-107.726   #western boundary\n",
    "    lon_end=-107.726 "
   ]
  },
  {
   "cell_type": "code",
   "execution_count": null,
   "metadata": {},
   "outputs": [],
   "source": []
  },
  {
   "cell_type": "code",
   "execution_count": 6,
   "metadata": {},
   "outputs": [
    {
     "data": {
      "text/plain": [
       "'CETB.cubefile.WesternCA.F13_SSMI-37V-GRD-CSU-v1.*'"
      ]
     },
     "execution_count": 6,
     "metadata": {},
     "output_type": "execute_result"
    }
   ],
   "source": [
    "# check that the GRD filename prefix is really what we have on the local machine\n",
    "prefix_GRD"
   ]
  },
  {
   "cell_type": "code",
   "execution_count": 7,
   "metadata": {},
   "outputs": [
    {
     "name": "stdout",
     "output_type": "stream",
     "text": [
      "Reading offset information from cubeFile=/mnt/data3/cetb/nsidc0630_v1//F13_SSMI/N/nc_cubes/cubes_WesternCA/CETB.cubefile.WesternCA.F13_SSMI-37V-SIR-CSU-v1.3.2005.TB.nc...\n"
     ]
    },
    {
     "data": {
      "text/plain": [
       "(1895.9999999131005, 1743.9999998996689)"
      ]
     },
     "execution_count": 7,
     "metadata": {},
     "output_type": "execute_result"
    }
   ],
   "source": [
    "# get cube offset for finding row/col\n",
    "find_cube_offset(region, cubeDir=datadir_SIR, cubeType=cubeType_SIR, verbose=False)"
   ]
  },
  {
   "cell_type": "code",
   "execution_count": 9,
   "metadata": {
    "scrolled": true
   },
   "outputs": [
    {
     "name": "stdout",
     "output_type": "stream",
     "text": [
      "Input lat, lon = 62.610000, -109.640000\n",
      " EASE2_N3.125km         : row, col = 2553.818380, 1966.896357\n",
      "Reading offset information from cubeFile=/mnt/data3/cetb/nsidc0630_v1//F13_SSMI/N/nc_cubes/cubes_WesternCA/CETB.cubefile.WesternCA.F13_SSMI-37V-SIR-CSU-v1.3.2005.TB.nc...\n",
      "      WesternCA(3?V-SIR): row, col = 657.818380, 222.896357\n",
      "  EASE2_N6.25km         : row, col = 1276.659190, 983.198178\n",
      "Reading offset information from cubeFile=/mnt/data3/cetb/nsidc0630_v1//F13_SSMI/N/nc_cubes/cubes_WesternCA/CETB.cubefile.WesternCA.F13_SSMI-19V-SIR-CSU-v1.3.1998.TB.nc...\n",
      "      WesternCA(1?V-SIR): row, col = 328.659190, 111.198179\n",
      "    EASE2_N25km         : row, col = 318.789798, 245.424545\n",
      "Reading offset information from cubeFile=/mnt/data3/cetb/nsidc0630_v1//F13_SSMI/N/nc_cubes/cubes_WesternCA/CETB.cubefile.WesternCA.F13_SSMI-19V-GRD-CSU-v1.3.1998.TB.nc...\n",
      "      WesternCA(1?V-GRD): row, col = 81.789798, 27.424545\n",
      "['EASE2_N3.125km', 'EASE2_N6.25km', 'EASE2_N25km']\n",
      "223 658 111 329 27 82\n"
     ]
    },
    {
     "data": {
      "text/plain": [
       "[82, 83, 27, 28]"
      ]
     },
     "execution_count": 9,
     "metadata": {},
     "output_type": "execute_result"
    }
   ],
   "source": [
    "# row and col numbers of the GRD pixels that include this region\n",
    "rows_cols = grid_locations_of_subset(region, lat_start, lon_start, cubeDir=datadir_GRD)\n",
    "rows_cols_GRD=[rows_cols[0][2],rows_cols[0][2]+1, rows_cols[1][2], rows_cols[1][2]+1]\n",
    "rows_cols_GRD"
   ]
  },
  {
   "cell_type": "code",
   "execution_count": 12,
   "metadata": {},
   "outputs": [
    {
     "data": {
      "text/plain": [
       "[656, 664, 216, 224]"
      ]
     },
     "execution_count": 12,
     "metadata": {},
     "output_type": "execute_result"
    }
   ],
   "source": [
    "# row and col numbers of the envelope of 64 SIR pixels\n",
    "#MJB: I am not convinced that this is a good approach to calculate these coordinates\n",
    "#I need to look at this a little more closely\n",
    "rows_cols_env=[rows_cols_GRD[0]*sir_2_grd_factor,rows_cols_GRD[1]*sir_2_grd_factor, rows_cols_GRD[2]*sir_2_grd_factor, rows_cols_GRD[3]*sir_2_grd_factor]\n",
    "rows_cols_env"
   ]
  },
  {
   "cell_type": "code",
   "execution_count": 13,
   "metadata": {},
   "outputs": [
    {
     "data": {
      "text/plain": [
       "('/mnt/data3/cetb/nsidc0630_v1//F13_SSMI/N/nc_cubes/cubes_WesternCA',\n",
       " 'CETB.cubefile.WesternCA.F13_SSMI-37V-SIR-CSU-v1.*',\n",
       " [1995, 1996])"
      ]
     },
     "execution_count": 13,
     "metadata": {},
     "output_type": "execute_result"
    }
   ],
   "source": [
    "# check that the directory, filename pattern and Years are what we expect\n",
    "# subset Years to a shorter set if only testing, because this takes a long time\n",
    "Years = Years[0:2]\n",
    "datadir_SIR, prefix_SIR, Years"
   ]
  },
  {
   "cell_type": "code",
   "execution_count": 14,
   "metadata": {
    "scrolled": true
   },
   "outputs": [
    {
     "name": "stdout",
     "output_type": "stream",
     "text": [
      "No subset specified, fetching complete cube...\n",
      "Next filename=/mnt/data3/cetb/nsidc0630_v1//F13_SSMI/N/nc_cubes/cubes_WesternCA/CETB.cubefile.WesternCA.F13_SSMI-37V-SIR-CSU-v1.3.1995.TB.nc...\n",
      "Next filename=/mnt/data3/cetb/nsidc0630_v1//F13_SSMI/N/nc_cubes/cubes_WesternCA/CETB.cubefile.WesternCA.F13_SSMI-37V-SIR-CSU-v1.3.1996.TB.nc...\n",
      "No subset specified, fetching complete cube...\n",
      "Next filename=/mnt/data3/cetb/nsidc0630_v1//F13_SSMI/N/nc_cubes/cubes_WesternCA/CETB.cubefile.WesternCA.F13_SSMI-37V-GRD-CSU-v1.3.1995.TB.nc...\n",
      "Next filename=/mnt/data3/cetb/nsidc0630_v1//F13_SSMI/N/nc_cubes/cubes_WesternCA/CETB.cubefile.WesternCA.F13_SSMI-37V-GRD-CSU-v1.3.1996.TB.nc...\n"
     ]
    }
   ],
   "source": [
    "#new cell to read whole dataset\n",
    "#takes a long time, for testing substitute a year for Years\n",
    "data_SIR = read_Tb_whole(datadir_SIR, prefix_SIR, Years)\n",
    "\n",
    "#FIXME: instead of copying these elements into new variables, just\n",
    "#use the values directly in subsequent cells.  This is a more direct way to\n",
    "#work with the output from the read_Tb_whole function.  It also would\n",
    "#make it clear in subsequent cells that, for example \"cal_month\" is the\n",
    "#month output from the SIR call.\n",
    "CETB_SIR = data_SIR['TB']   # 3-D Tb time-series array\n",
    "cal_date = data_SIR['cal_date']    # 1-D array of dates\n",
    "cal_year = data_SIR['cal_year']    # 1-D array of years\n",
    "cal_month = data_SIR['cal_month']   # 1-D array of months\n",
    "\n",
    "#FIXME: same issue here, instead of copying the GRD TB data, subsequent\n",
    "#cells should just use data_GRD['TB']\n",
    "data_GRD = read_Tb_whole(datadir_GRD, prefix_GRD, Years)\n",
    "CETB_GRD = data_GRD['TB']"
   ]
  },
  {
   "cell_type": "code",
   "execution_count": 15,
   "metadata": {},
   "outputs": [],
   "source": [
    "#region version, may not need\n",
    "# 'data' will be a tuple with the first element as the Tb time-series data, days, months, and years \n",
    "# to be used in plot/algorithm functions later\n",
    "#data_SIR=read_Tb(datadir_SIR, prefix_SIR, Years,rows_cols_env[0],rows_cols_env[1],rows_cols_env[2],rows_cols_env[3])\n",
    "#CETB_SIR=data_SIR[0]   # 3-D Tb time-series array\n",
    "#cal_date=data_SIR[1]    # 1-D array of dates\n",
    "#cal_year=data_SIR[2]    # 1-D array of years\n",
    "#cal_month=data_SIR[3]   # 1-D array of months\n",
    "#data_GRD=read_Tb(datadir_GRD, prefix_GRD, Years,rows_cols_GRD[0],rows_cols_GRD[1],rows_cols_GRD[2],rows_cols_GRD[3])\n",
    "#CETB_GRD=data_GRD[0]"
   ]
  },
  {
   "cell_type": "code",
   "execution_count": 16,
   "metadata": {},
   "outputs": [],
   "source": [
    "# calculate DAV for the Tb data that was imported\n",
    "DAV_SIR = calc_DAV(CETB_SIR)\n",
    "DAV_GRD = calc_DAV(CETB_GRD)"
   ]
  },
  {
   "cell_type": "code",
   "execution_count": 17,
   "metadata": {},
   "outputs": [],
   "source": [
    "# calculate melt onset date, each row returned is the MOD for that year, \n",
    "# shows '3' with the first pixel in the subset to melt\n",
    "# can tweak thresholds and count/window, legacy algorithm used \n",
    "# 3 occurrences in 5 day window\n",
    "#DAV_threshold = 18\n",
    "#Tb_threshold = 252\n",
    "occurrences = 3\n",
    "window = 10\n",
    "DAV_threshold = 18\n",
    "Tb_threshold = 252"
   ]
  },
  {
   "cell_type": "code",
   "execution_count": 19,
   "metadata": {
    "scrolled": false
   },
   "outputs": [],
   "source": [
    "#MOD_SIR1, melt_flag_df = DAV_MOD(DAV_threshold, Tb_threshold, occurrences, window, \n",
    "#                                 DAV_SIR, CETB_SIR, Years, cal_year, cal_date, \n",
    "#                                 rows_cols_env)\n",
    "#MOD_SIR1"
   ]
  },
  {
   "cell_type": "markdown",
   "metadata": {},
   "source": [
    "## MAPS"
   ]
  },
  {
   "cell_type": "code",
   "execution_count": 20,
   "metadata": {},
   "outputs": [
    {
     "data": {
      "text/plain": [
       "(masked_array(data=[62.40487135, 62.43206683, 62.45925729, 62.4864427 ,\n",
       "                    62.51362308, 62.54079841, 62.56796868, 62.59513388,\n",
       "                    62.41454528, 62.4417495 , 62.46894872, 62.49614292,\n",
       "                    62.52333209, 62.55051623, 62.57769533, 62.60486938,\n",
       "                    62.42419271, 62.45140567, 62.47861363, 62.50581659,\n",
       "                    62.53301454, 62.56020747, 62.58739538, 62.61457826,\n",
       "                    62.43381363, 62.4610353 , 62.48825199, 62.51546369,\n",
       "                    62.5426704 , 62.56987211, 62.59706882, 62.62426051,\n",
       "                    62.44340801, 62.47063837, 62.49786377, 62.5250842 ,\n",
       "                    62.55229966, 62.57951013, 62.60671561, 62.63391609,\n",
       "                    62.45297583, 62.48021486, 62.50744896, 62.53467809,\n",
       "                    62.56190227, 62.58912149, 62.61633573, 62.64354499,\n",
       "                    62.46251705, 62.48976475, 62.51700751, 62.54424535,\n",
       "                    62.57147823, 62.59870617, 62.62592915, 62.65314717,\n",
       "                    62.47203167, 62.499288  , 62.52653942, 62.55378593,\n",
       "                    62.58102751, 62.60826415, 62.63549585, 62.66272261],\n",
       "              mask=False,\n",
       "        fill_value=1e+20),\n",
       " masked_array(data=[-109.6044669 , -109.62418116, -109.64393354,\n",
       "                    -109.66372415, -109.68355309, -109.70342048,\n",
       "                    -109.72332641, -109.743271  , -109.5491509 ,\n",
       "                    -109.56881848, -109.58852411, -109.60826791,\n",
       "                    -109.62804998, -109.64787043, -109.66772935,\n",
       "                    -109.68762687, -109.49379695, -109.51341774,\n",
       "                    -109.53307652, -109.55277341, -109.57250849,\n",
       "                    -109.59228189, -109.61209371, -109.63194405,\n",
       "                    -109.43840512, -109.45797901, -109.47759084,\n",
       "                    -109.49724069, -109.51692869, -109.53665494,\n",
       "                    -109.55641954, -109.5762226 , -109.38297546,\n",
       "                    -109.40250235, -109.42206711, -109.44166984,\n",
       "                    -109.46131065, -109.48098963, -109.50070691,\n",
       "                    -109.52046257, -109.32750804, -109.34698783,\n",
       "                    -109.36650542, -109.38606091, -109.40565442,\n",
       "                    -109.42528604, -109.44495588, -109.46466405,\n",
       "                    -109.27200293, -109.29143551, -109.31090583,\n",
       "                    -109.33041398, -109.34996007, -109.36954422,\n",
       "                    -109.38916652, -109.40882709, -109.21646019,\n",
       "                    -109.23584546, -109.25526839, -109.2747291 ,\n",
       "                    -109.29422768, -109.31376425, -109.3333389 ,\n",
       "                    -109.35295175],\n",
       "              mask=False,\n",
       "        fill_value=1e+20))"
      ]
     },
     "execution_count": 20,
     "metadata": {},
     "output_type": "execute_result"
    }
   ],
   "source": [
    "# Get lat/lon of each pixel in the subset of 64 in the data_SIR dict\n",
    "lat_lon = np.dstack((data_SIR['latitude'], data_SIR['longitude']))\n",
    "coordinates = lat_lon[rows_cols_env[0]:rows_cols_env[1],\n",
    "                      rows_cols_env[2]:rows_cols_env[3]]\n",
    "coordinates = coordinates.reshape(\n",
    "    ((rows_cols_env[1]-rows_cols_env[0])*(rows_cols_env[3]-rows_cols_env[2])),\n",
    "    2)\n",
    "\n",
    "pixel_lats = coordinates[:,0]\n",
    "pixel_lons = coordinates[:,1]\n",
    "pixel_lats, pixel_lons"
   ]
  },
  {
   "cell_type": "code",
   "execution_count": 21,
   "metadata": {
    "scrolled": false
   },
   "outputs": [
    {
     "name": "stdout",
     "output_type": "stream",
     "text": [
      "newdata.shape (1462, 322560)\n",
      "moving flag array to newdata...\n",
      "number of days = 1462\n",
      "Next d = 0\n",
      "Next d = 100\n",
      "Next d = 200\n",
      "Next d = 300\n",
      "Next d = 400\n",
      "Next d = 500\n",
      "Next d = 600\n",
      "Next d = 700\n",
      "Next d = 800\n",
      "Next d = 900\n",
      "Next d = 1000\n",
      "Next d = 1100\n",
      "Next d = 1200\n",
      "Next d = 1300\n",
      "Next d = 1400\n"
     ]
    },
    {
     "ename": "ValueError",
     "evalue": "Shape of passed values is (1462, 322560), indices imply (1462, 64)",
     "output_type": "error",
     "traceback": [
      "\u001b[0;31m---------------------------------------------------------------------------\u001b[0m",
      "\u001b[0;31mValueError\u001b[0m                                Traceback (most recent call last)",
      "\u001b[0;32m~/miniconda3/envs/cetb/lib/python3.7/site-packages/pandas/core/internals/managers.py\u001b[0m in \u001b[0;36mcreate_block_manager_from_blocks\u001b[0;34m(blocks, axes)\u001b[0m\n\u001b[1;32m   1677\u001b[0m                 blocks = [\n\u001b[0;32m-> 1678\u001b[0;31m                     \u001b[0mmake_block\u001b[0m\u001b[0;34m(\u001b[0m\u001b[0mvalues\u001b[0m\u001b[0;34m=\u001b[0m\u001b[0mblocks\u001b[0m\u001b[0;34m[\u001b[0m\u001b[0;36m0\u001b[0m\u001b[0;34m]\u001b[0m\u001b[0;34m,\u001b[0m \u001b[0mplacement\u001b[0m\u001b[0;34m=\u001b[0m\u001b[0mslice\u001b[0m\u001b[0;34m(\u001b[0m\u001b[0;36m0\u001b[0m\u001b[0;34m,\u001b[0m \u001b[0mlen\u001b[0m\u001b[0;34m(\u001b[0m\u001b[0maxes\u001b[0m\u001b[0;34m[\u001b[0m\u001b[0;36m0\u001b[0m\u001b[0;34m]\u001b[0m\u001b[0;34m)\u001b[0m\u001b[0;34m)\u001b[0m\u001b[0;34m)\u001b[0m\u001b[0;34m\u001b[0m\u001b[0;34m\u001b[0m\u001b[0m\n\u001b[0m\u001b[1;32m   1679\u001b[0m                 ]\n",
      "\u001b[0;32m~/miniconda3/envs/cetb/lib/python3.7/site-packages/pandas/core/internals/blocks.py\u001b[0m in \u001b[0;36mmake_block\u001b[0;34m(values, placement, klass, ndim, dtype, fastpath)\u001b[0m\n\u001b[1;32m   3283\u001b[0m \u001b[0;34m\u001b[0m\u001b[0m\n\u001b[0;32m-> 3284\u001b[0;31m     \u001b[0;32mreturn\u001b[0m \u001b[0mklass\u001b[0m\u001b[0;34m(\u001b[0m\u001b[0mvalues\u001b[0m\u001b[0;34m,\u001b[0m \u001b[0mndim\u001b[0m\u001b[0;34m=\u001b[0m\u001b[0mndim\u001b[0m\u001b[0;34m,\u001b[0m \u001b[0mplacement\u001b[0m\u001b[0;34m=\u001b[0m\u001b[0mplacement\u001b[0m\u001b[0;34m)\u001b[0m\u001b[0;34m\u001b[0m\u001b[0;34m\u001b[0m\u001b[0m\n\u001b[0m\u001b[1;32m   3285\u001b[0m \u001b[0;34m\u001b[0m\u001b[0m\n",
      "\u001b[0;32m~/miniconda3/envs/cetb/lib/python3.7/site-packages/pandas/core/internals/blocks.py\u001b[0m in \u001b[0;36m__init__\u001b[0;34m(self, values, placement, ndim)\u001b[0m\n\u001b[1;32m    127\u001b[0m                 \u001b[0;34m\"Wrong number of items passed {val}, placement implies \"\u001b[0m\u001b[0;34m\u001b[0m\u001b[0;34m\u001b[0m\u001b[0m\n\u001b[0;32m--> 128\u001b[0;31m                 \u001b[0;34m\"{mgr}\"\u001b[0m\u001b[0;34m.\u001b[0m\u001b[0mformat\u001b[0m\u001b[0;34m(\u001b[0m\u001b[0mval\u001b[0m\u001b[0;34m=\u001b[0m\u001b[0mlen\u001b[0m\u001b[0;34m(\u001b[0m\u001b[0mself\u001b[0m\u001b[0;34m.\u001b[0m\u001b[0mvalues\u001b[0m\u001b[0;34m)\u001b[0m\u001b[0;34m,\u001b[0m \u001b[0mmgr\u001b[0m\u001b[0;34m=\u001b[0m\u001b[0mlen\u001b[0m\u001b[0;34m(\u001b[0m\u001b[0mself\u001b[0m\u001b[0;34m.\u001b[0m\u001b[0mmgr_locs\u001b[0m\u001b[0;34m)\u001b[0m\u001b[0;34m)\u001b[0m\u001b[0;34m\u001b[0m\u001b[0;34m\u001b[0m\u001b[0m\n\u001b[0m\u001b[1;32m    129\u001b[0m             )\n",
      "\u001b[0;31mValueError\u001b[0m: Wrong number of items passed 322560, placement implies 64",
      "\nDuring handling of the above exception, another exception occurred:\n",
      "\u001b[0;31mValueError\u001b[0m                                Traceback (most recent call last)",
      "\u001b[0;32m/tmp/ipykernel_568491/3974402768.py\u001b[0m in \u001b[0;36m<module>\u001b[0;34m\u001b[0m\n\u001b[1;32m      6\u001b[0m MOD_DOY_array = MOD_array(datadir_SIR, prefix_SIR, CETB_SIR, \n\u001b[1;32m      7\u001b[0m     \u001b[0mDAV_SIR\u001b[0m\u001b[0;34m,\u001b[0m \u001b[0mrows_cols_env\u001b[0m\u001b[0;34m,\u001b[0m \u001b[0mcal_date\u001b[0m\u001b[0;34m,\u001b[0m \u001b[0mYears\u001b[0m\u001b[0;34m,\u001b[0m \u001b[0mwindow\u001b[0m\u001b[0;34m,\u001b[0m \u001b[0mcount\u001b[0m\u001b[0;34m,\u001b[0m\u001b[0;34m\u001b[0m\u001b[0;34m\u001b[0m\u001b[0m\n\u001b[0;32m----> 8\u001b[0;31m     DAV_threshold, Tb_threshold)\n\u001b[0m\u001b[1;32m      9\u001b[0m \u001b[0mMOD_DOY_array\u001b[0m\u001b[0;34m\u001b[0m\u001b[0;34m\u001b[0m\u001b[0m\n",
      "\u001b[0;32m/mnt/data3/cetb/ipynb_melt_onset/scripts/CETB_analysis.py\u001b[0m in \u001b[0;36mMOD_array\u001b[0;34m(datadir, prefix, CETB_data, DAV, rows_cols, cal_date, Years, window, count, DAV_threshold, Tb_threshold)\u001b[0m\n\u001b[1;32m    220\u001b[0m         \u001b[0mnewdata\u001b[0m\u001b[0;34m[\u001b[0m\u001b[0md\u001b[0m\u001b[0;34m,\u001b[0m\u001b[0;34m]\u001b[0m \u001b[0;34m=\u001b[0m \u001b[0mflag\u001b[0m\u001b[0;34m[\u001b[0m\u001b[0md\u001b[0m\u001b[0;34m,\u001b[0m \u001b[0;34m:\u001b[0m\u001b[0;34m,\u001b[0m \u001b[0;34m:\u001b[0m\u001b[0;34m]\u001b[0m\u001b[0;34m.\u001b[0m\u001b[0mflatten\u001b[0m\u001b[0;34m(\u001b[0m\u001b[0;34m)\u001b[0m\u001b[0;34m\u001b[0m\u001b[0;34m\u001b[0m\u001b[0m\n\u001b[1;32m    221\u001b[0m \u001b[0;34m\u001b[0m\u001b[0m\n\u001b[0;32m--> 222\u001b[0;31m     \u001b[0mmatrix\u001b[0m \u001b[0;34m=\u001b[0m \u001b[0mpd\u001b[0m\u001b[0;34m.\u001b[0m\u001b[0mDataFrame\u001b[0m\u001b[0;34m(\u001b[0m\u001b[0mdata\u001b[0m\u001b[0;34m=\u001b[0m\u001b[0mnewdata\u001b[0m\u001b[0;34m,\u001b[0m \u001b[0mcolumns\u001b[0m\u001b[0;34m=\u001b[0m\u001b[0mcol_names\u001b[0m\u001b[0;34m)\u001b[0m\u001b[0;34m\u001b[0m\u001b[0;34m\u001b[0m\u001b[0m\n\u001b[0m\u001b[1;32m    223\u001b[0m     \u001b[0mmatrix\u001b[0m\u001b[0;34m.\u001b[0m\u001b[0mset_index\u001b[0m\u001b[0;34m(\u001b[0m\u001b[0mpd\u001b[0m\u001b[0;34m.\u001b[0m\u001b[0mIndex\u001b[0m\u001b[0;34m(\u001b[0m\u001b[0mcal_date\u001b[0m\u001b[0;34m)\u001b[0m\u001b[0;34m,\u001b[0m \u001b[0minplace\u001b[0m\u001b[0;34m=\u001b[0m\u001b[0;32mTrue\u001b[0m\u001b[0;34m)\u001b[0m\u001b[0;34m\u001b[0m\u001b[0;34m\u001b[0m\u001b[0m\n\u001b[1;32m    224\u001b[0m \u001b[0;34m\u001b[0m\u001b[0m\n",
      "\u001b[0;32m~/miniconda3/envs/cetb/lib/python3.7/site-packages/pandas/core/frame.py\u001b[0m in \u001b[0;36m__init__\u001b[0;34m(self, data, index, columns, dtype, copy)\u001b[0m\n\u001b[1;32m    438\u001b[0m                 \u001b[0mmgr\u001b[0m \u001b[0;34m=\u001b[0m \u001b[0minit_dict\u001b[0m\u001b[0;34m(\u001b[0m\u001b[0;34m{\u001b[0m\u001b[0mdata\u001b[0m\u001b[0;34m.\u001b[0m\u001b[0mname\u001b[0m\u001b[0;34m:\u001b[0m \u001b[0mdata\u001b[0m\u001b[0;34m}\u001b[0m\u001b[0;34m,\u001b[0m \u001b[0mindex\u001b[0m\u001b[0;34m,\u001b[0m \u001b[0mcolumns\u001b[0m\u001b[0;34m,\u001b[0m \u001b[0mdtype\u001b[0m\u001b[0;34m=\u001b[0m\u001b[0mdtype\u001b[0m\u001b[0;34m)\u001b[0m\u001b[0;34m\u001b[0m\u001b[0;34m\u001b[0m\u001b[0m\n\u001b[1;32m    439\u001b[0m             \u001b[0;32melse\u001b[0m\u001b[0;34m:\u001b[0m\u001b[0;34m\u001b[0m\u001b[0;34m\u001b[0m\u001b[0m\n\u001b[0;32m--> 440\u001b[0;31m                 \u001b[0mmgr\u001b[0m \u001b[0;34m=\u001b[0m \u001b[0minit_ndarray\u001b[0m\u001b[0;34m(\u001b[0m\u001b[0mdata\u001b[0m\u001b[0;34m,\u001b[0m \u001b[0mindex\u001b[0m\u001b[0;34m,\u001b[0m \u001b[0mcolumns\u001b[0m\u001b[0;34m,\u001b[0m \u001b[0mdtype\u001b[0m\u001b[0;34m=\u001b[0m\u001b[0mdtype\u001b[0m\u001b[0;34m,\u001b[0m \u001b[0mcopy\u001b[0m\u001b[0;34m=\u001b[0m\u001b[0mcopy\u001b[0m\u001b[0;34m)\u001b[0m\u001b[0;34m\u001b[0m\u001b[0;34m\u001b[0m\u001b[0m\n\u001b[0m\u001b[1;32m    441\u001b[0m \u001b[0;34m\u001b[0m\u001b[0m\n\u001b[1;32m    442\u001b[0m         \u001b[0;31m# For data is list-like, or Iterable (will consume into list)\u001b[0m\u001b[0;34m\u001b[0m\u001b[0;34m\u001b[0m\u001b[0;34m\u001b[0m\u001b[0m\n",
      "\u001b[0;32m~/miniconda3/envs/cetb/lib/python3.7/site-packages/pandas/core/internals/construction.py\u001b[0m in \u001b[0;36minit_ndarray\u001b[0;34m(values, index, columns, dtype, copy)\u001b[0m\n\u001b[1;32m    211\u001b[0m         \u001b[0mblock_values\u001b[0m \u001b[0;34m=\u001b[0m \u001b[0;34m[\u001b[0m\u001b[0mvalues\u001b[0m\u001b[0;34m]\u001b[0m\u001b[0;34m\u001b[0m\u001b[0;34m\u001b[0m\u001b[0m\n\u001b[1;32m    212\u001b[0m \u001b[0;34m\u001b[0m\u001b[0m\n\u001b[0;32m--> 213\u001b[0;31m     \u001b[0;32mreturn\u001b[0m \u001b[0mcreate_block_manager_from_blocks\u001b[0m\u001b[0;34m(\u001b[0m\u001b[0mblock_values\u001b[0m\u001b[0;34m,\u001b[0m \u001b[0;34m[\u001b[0m\u001b[0mcolumns\u001b[0m\u001b[0;34m,\u001b[0m \u001b[0mindex\u001b[0m\u001b[0;34m]\u001b[0m\u001b[0;34m)\u001b[0m\u001b[0;34m\u001b[0m\u001b[0;34m\u001b[0m\u001b[0m\n\u001b[0m\u001b[1;32m    214\u001b[0m \u001b[0;34m\u001b[0m\u001b[0m\n\u001b[1;32m    215\u001b[0m \u001b[0;34m\u001b[0m\u001b[0m\n",
      "\u001b[0;32m~/miniconda3/envs/cetb/lib/python3.7/site-packages/pandas/core/internals/managers.py\u001b[0m in \u001b[0;36mcreate_block_manager_from_blocks\u001b[0;34m(blocks, axes)\u001b[0m\n\u001b[1;32m   1686\u001b[0m         \u001b[0mblocks\u001b[0m \u001b[0;34m=\u001b[0m \u001b[0;34m[\u001b[0m\u001b[0mgetattr\u001b[0m\u001b[0;34m(\u001b[0m\u001b[0mb\u001b[0m\u001b[0;34m,\u001b[0m \u001b[0;34m\"values\"\u001b[0m\u001b[0;34m,\u001b[0m \u001b[0mb\u001b[0m\u001b[0;34m)\u001b[0m \u001b[0;32mfor\u001b[0m \u001b[0mb\u001b[0m \u001b[0;32min\u001b[0m \u001b[0mblocks\u001b[0m\u001b[0;34m]\u001b[0m\u001b[0;34m\u001b[0m\u001b[0;34m\u001b[0m\u001b[0m\n\u001b[1;32m   1687\u001b[0m         \u001b[0mtot_items\u001b[0m \u001b[0;34m=\u001b[0m \u001b[0msum\u001b[0m\u001b[0;34m(\u001b[0m\u001b[0mb\u001b[0m\u001b[0;34m.\u001b[0m\u001b[0mshape\u001b[0m\u001b[0;34m[\u001b[0m\u001b[0;36m0\u001b[0m\u001b[0;34m]\u001b[0m \u001b[0;32mfor\u001b[0m \u001b[0mb\u001b[0m \u001b[0;32min\u001b[0m \u001b[0mblocks\u001b[0m\u001b[0;34m)\u001b[0m\u001b[0;34m\u001b[0m\u001b[0;34m\u001b[0m\u001b[0m\n\u001b[0;32m-> 1688\u001b[0;31m         \u001b[0mconstruction_error\u001b[0m\u001b[0;34m(\u001b[0m\u001b[0mtot_items\u001b[0m\u001b[0;34m,\u001b[0m \u001b[0mblocks\u001b[0m\u001b[0;34m[\u001b[0m\u001b[0;36m0\u001b[0m\u001b[0;34m]\u001b[0m\u001b[0;34m.\u001b[0m\u001b[0mshape\u001b[0m\u001b[0;34m[\u001b[0m\u001b[0;36m1\u001b[0m\u001b[0;34m:\u001b[0m\u001b[0;34m]\u001b[0m\u001b[0;34m,\u001b[0m \u001b[0maxes\u001b[0m\u001b[0;34m,\u001b[0m \u001b[0me\u001b[0m\u001b[0;34m)\u001b[0m\u001b[0;34m\u001b[0m\u001b[0;34m\u001b[0m\u001b[0m\n\u001b[0m\u001b[1;32m   1689\u001b[0m \u001b[0;34m\u001b[0m\u001b[0m\n\u001b[1;32m   1690\u001b[0m \u001b[0;34m\u001b[0m\u001b[0m\n",
      "\u001b[0;32m~/miniconda3/envs/cetb/lib/python3.7/site-packages/pandas/core/internals/managers.py\u001b[0m in \u001b[0;36mconstruction_error\u001b[0;34m(tot_items, block_shape, axes, e)\u001b[0m\n\u001b[1;32m   1717\u001b[0m         \u001b[0;32mraise\u001b[0m \u001b[0mValueError\u001b[0m\u001b[0;34m(\u001b[0m\u001b[0;34m\"Empty data passed with indices specified.\"\u001b[0m\u001b[0;34m)\u001b[0m\u001b[0;34m\u001b[0m\u001b[0;34m\u001b[0m\u001b[0m\n\u001b[1;32m   1718\u001b[0m     raise ValueError(\n\u001b[0;32m-> 1719\u001b[0;31m         \u001b[0;34m\"Shape of passed values is {0}, indices imply {1}\"\u001b[0m\u001b[0;34m.\u001b[0m\u001b[0mformat\u001b[0m\u001b[0;34m(\u001b[0m\u001b[0mpassed\u001b[0m\u001b[0;34m,\u001b[0m \u001b[0mimplied\u001b[0m\u001b[0;34m)\u001b[0m\u001b[0;34m\u001b[0m\u001b[0;34m\u001b[0m\u001b[0m\n\u001b[0m\u001b[1;32m   1720\u001b[0m     )\n\u001b[1;32m   1721\u001b[0m \u001b[0;34m\u001b[0m\u001b[0m\n",
      "\u001b[0;31mValueError\u001b[0m: Shape of passed values is (1462, 322560), indices imply (1462, 64)"
     ]
    }
   ],
   "source": [
    "# get array of MODs for each pixel in the 64 set to use for map\n",
    "window = 10\n",
    "count = 3\n",
    "#DAV_threshold = 18\n",
    "#Tb_threshold = 252\n",
    "MOD_DOY_array = MOD_array(datadir_SIR, prefix_SIR, CETB_SIR, \n",
    "    DAV_SIR, rows_cols_env, cal_date, Years, window, count, \n",
    "    DAV_threshold, Tb_threshold)\n",
    "MOD_DOY_array"
   ]
  },
  {
   "cell_type": "raw",
   "metadata": {},
   "source": [
    "# get array of MOD for each pixel SIR - one year of interest\n",
    "window=10\n",
    "count=3\n",
    "#DAV_threshold=10\n",
    "#Tb_threshold=247\n",
    "year=2004\n",
    "#replace MOD_array_year with MOD_array\n",
    "MOD_DOY_array_year=MOD_array_year(datadir_SIR, prefix_SIR, CETB_SIR, DAV_SIR, rows_cols_env, cal_date, year, window, count, DAV_threshold, Tb_threshold)\n",
    "MOD_DOY_array_year"
   ]
  },
  {
   "cell_type": "raw",
   "metadata": {},
   "source": [
    "# MOD of the GRD pixel - avg all years\n",
    "MOD_DOY_array_GRD=MOD_array(datadir_GRD, prefix_GRD, CETB_GRD, DAV_GRD, rows_cols_GRD, cal_date, Years, 10, 3, 18, 252)\n",
    "MOD_DOY_array_GRD=MOD_DOY_array_GRD[0]\n",
    "MOD_DOY_array_GRD"
   ]
  },
  {
   "cell_type": "raw",
   "metadata": {},
   "source": [
    "# get MOD for GRD pixel - one year of interest\n",
    "window=10\n",
    "count=3\n",
    "#DAV_threshold=18\n",
    "#Tb_threshold=252\n",
    "#year=2003\n",
    "MOD_DOY_array_GRD_year=MOD_array_year(datadir_GRD, prefix_GRD, CETB_GRD, DAV_GRD, rows_cols_GRD, cal_date, year, window, count, DAV_threshold, Tb_threshold)\n",
    "MOD_DOY_array_GRD_year=MOD_DOY_array_GRD_year[0]\n",
    "print(MOD_DOY_array_GRD_year)"
   ]
  },
  {
   "cell_type": "raw",
   "metadata": {
    "scrolled": false
   },
   "source": [
    "# PLOT the MOD MAP - avg of all years or one year of interest\n",
    "plot_type='year'  #choose plot type, 'all' to get avg of all years (switch #)\n",
    "#plot_type='all'\n",
    "#year=2003\n",
    "window=10\n",
    "count=3\n",
    "#DAV_threshold=18\n",
    "#Tb_threshold=252\n",
    "\n",
    "if plot_type=='all':\n",
    "    array=MOD_array(datadir_SIR, prefix_SIR, CETB_SIR, DAV_SIR, rows_cols_env, cal_date, Years, window, count, DAV_threshold, Tb_threshold)\n",
    "    title=sensor_SIR+'-'+Site+' - MOD - (Avg DOY '+str(Years[0])+'-'+str(Years[-1])+')'\n",
    "    GRD=MOD_array(datadir_GRD, prefix_GRD, CETB_GRD, DAV_GRD, rows_cols_GRD, cal_date, Years, 10, 3, 18, 252)\n",
    "    GRD=GRD[0]\n",
    "elif plot_type=='year':\n",
    "    array=MOD_array_year(datadir_SIR, prefix_SIR, CETB_SIR, DAV_SIR, rows_cols_env, cal_date, year, window, count, DAV_threshold, Tb_threshold)\n",
    "    GRD=MOD_array_year(datadir_GRD, prefix_GRD, CETB_GRD, DAV_GRD, rows_cols_GRD, cal_date, year, window, count, DAV_threshold, Tb_threshold)\n",
    "    GRD=GRD[0]\n",
    "    title=sensor_SIR+'-'+Site+' - MOD - ('+str(year)+' DOY)'\n",
    "fig = plt.figure(figsize=(8,8))\n",
    "# create figure and axes instances\n",
    "#fig = plt.figure()\n",
    "ax = fig.add_axes([0.1,0.1,0.8,0.8])\n",
    "#ax = fig.add_subplot(121)\n",
    "# create polar stereographic Basemap instance.\n",
    "m = Basemap(projection='stere',lon_0=lon_start,lat_0=lat_start,lat_ts=90.,\\\n",
    "            llcrnrlat=(lat_start-.7),urcrnrlat=(lat_start+.7),\\\n",
    "            llcrnrlon=(lon_start-.7),urcrnrlon=(lon_start+.7),\\\n",
    "            rsphere=6371200.,resolution='l',area_thresh=10000, epsg=3857)\n",
    "m.drawcoastlines()\n",
    "m.drawcountries()\n",
    "m.drawstates()\n",
    "#m.etopo(scale=5, alpha=0.7)\n",
    "#m.bluemarble(scale=1)\n",
    "parallels = np.arange(0.,90,0.5)\n",
    "m.drawparallels(parallels,labels=[1,0,0,0],fontsize=10)\n",
    "# draw meridians\n",
    "meridians = np.arange(180.,360.,0.5)\n",
    "m.drawmeridians(meridians,labels=[0,0,0,1],fontsize=10)\n",
    "m.arcgisimage(service='World_Physical_Map', xpixels = 1500, verbose= True)\n",
    "\n",
    "x,y=m(pixel_lons, pixel_lats)\n",
    "#m.plot(x,y, 'bs', markersize=11, markeredgewidth=1, alpha=0.2)\n",
    "m.scatter(x,y,c=array, s=100, marker='s',lw=0,cmap='RdBu', alpha=.8)\n",
    "#x,y=m(ISAlons,ISAlats)\n",
    "#m.plot(x,y,'ro',markersize=2,markeredgewidth=0.0)\n",
    "plt.title(title)\n",
    "\n",
    "# plot a red line on colorbar for the MOD for the GRD pixel\n",
    "cbar=plt.colorbar()\n",
    "cbar.ax.hlines(cbar.norm(GRD), 0, 1, color='green') \n",
    "#cbar.ax.clim(95,120)  #color bar limits\n",
    "\n",
    "plt.show()\n",
    "\n",
    "fig = plt.figure(figsize=(8,8))\n",
    "ax = fig.add_axes([0.1,0.1,0.8,0.8])\n",
    "\n",
    "# create polar stereographic Basemap instance.\n",
    "m = Basemap(projection='stere',lon_0=lon_start,lat_0=lat_start,lat_ts=90.,\\\n",
    "            llcrnrlat=(lat_start-.7),urcrnrlat=(lat_start+.7),\\\n",
    "            llcrnrlon=(lon_start-.7),urcrnrlon=(lon_start+.7),\\\n",
    "            rsphere=6371200.,resolution='l',area_thresh=10000, epsg=3857)\n",
    "m.drawcoastlines()\n",
    "m.drawcountries()\n",
    "m.drawstates()\n",
    "#m.etopo(scale=5, alpha=0.7)\n",
    "#m.bluemarble(scale=1)\n",
    "parallels = np.arange(0.,90,0.5)\n",
    "m.drawparallels(parallels,labels=[1,0,0,0],fontsize=10)\n",
    "# draw meridians\n",
    "meridians = np.arange(180.,360.,0.5)\n",
    "m.drawmeridians(meridians,labels=[0,0,0,1],fontsize=10)\n",
    "m.arcgisimage(service='World_Physical_Map', xpixels = 1500, verbose= True)\n",
    "\n",
    "#x,y=m(pixel_lons, pixel_lats)\n",
    "#m.plot(x,y, 'bs', markersize=11, markeredgewidth=1, alpha=0.2)\n",
    "#m.scatter(x,y,c=MOD_DOY_array, s=150, marker='s',lw=0,cmap='Blues', alpha=.0)\n",
    "#x,y=m(ISAlons,ISAlats)\n",
    "#m.plot(x,y,'ro',markersize=2,markeredgewidth=0.0)\n",
    "plt.title(title)\n",
    "#plt.colorbar()\n",
    "plt.show()\n"
   ]
  },
  {
   "cell_type": "code",
   "execution_count": null,
   "metadata": {},
   "outputs": [],
   "source": [
    "# load SIR Tb standard deviation data from netCDF file with function\n",
    "Tb_std_dev=read_Tb_std_dev(datadir_SIR, prefix_SIR, Years,rows_cols_env[0],rows_cols_env[1],rows_cols_env[2],rows_cols_env[3])\n",
    "#Tb_std_dev"
   ]
  },
  {
   "cell_type": "code",
   "execution_count": null,
   "metadata": {
    "scrolled": true
   },
   "outputs": [],
   "source": [
    "#need to run this cell for the max DAV to work\n",
    "y_dims_list=list(range(len(CETB_SIR[0,:,0])))  # creates a list of the y-dimension pixel indices, used for plotting\n",
    "x_dims_list=list(range(len(CETB_SIR[0,0,:])))\t# creates a list of the x-dimension pixel indices, for plotting\n",
    "y_s=list(range(rows_cols_env[0],rows_cols_env[1]))  # makes a list of the y(row) numbers so the dataframe of early melt events can be indexed\n",
    "x_s=list(range(rows_cols_env[2],rows_cols_env[3]))  # makes a list of the x(col) numbers so the dataframe of early melt events can be indexed\n",
    "\n",
    "# create dataframe of the 64 SIR pixels\n",
    "Tb_std_frame=pd.DataFrame()\n",
    "for i in y_dims_list:\n",
    "    for j in x_dims_list:\n",
    "        column=pd.DataFrame(data=Tb_std_dev[:,i,j], columns=[str(y_s[i])+','+str(x_s[j])])\n",
    "        Tb_std_frame=pd.concat([Tb_std_frame,column],axis=1)\n",
    "Tb_std_frame.index=cal_date\n",
    "Tb_std_frame"
   ]
  },
  {
   "cell_type": "code",
   "execution_count": null,
   "metadata": {},
   "outputs": [],
   "source": [
    "# load dataframe of Tb GRD for plotting Tb on specified day and observation\n",
    "Tb_std_dev_GRD=read_Tb_std_dev(datadir_GRD, prefix_GRD, Years,rows_cols_GRD[0],rows_cols_GRD[1],rows_cols_GRD[2],rows_cols_GRD[3])\n",
    "Tb_std_dev_GRD"
   ]
  },
  {
   "cell_type": "code",
   "execution_count": null,
   "metadata": {
    "scrolled": false
   },
   "outputs": [],
   "source": [
    "# slice of dataframe described above\n",
    "Tb_sd_frame_GRD=pd.DataFrame(Tb_std_dev_GRD[:,0,0], index=cal_date)\n",
    "Tb_sd_frame_GRD"
   ]
  },
  {
   "cell_type": "code",
   "execution_count": null,
   "metadata": {},
   "outputs": [],
   "source": [
    "# load dataframe of Tb GRD for plotting Tb on specified day and observation\n",
    "Tb_frame_GRD=pd.DataFrame(CETB_GRD[:,0,0], index=cal_date)\n",
    "Tb_frame_GRD"
   ]
  },
  {
   "cell_type": "code",
   "execution_count": null,
   "metadata": {},
   "outputs": [],
   "source": [
    "# load dataframe of Tb SIR for plotting Tb on specified day and observation\n",
    "Tb_frame=pd.DataFrame()\n",
    "for i in y_dims_list:\n",
    "    for j in x_dims_list:\n",
    "        column=pd.DataFrame(data=CETB_SIR[:,i,j], columns=[str(y_s[i])+','+str(x_s[j])])\n",
    "        Tb_frame=pd.concat([Tb_frame,column],axis=1)\n",
    "Tb_frame.index=cal_date\n",
    "Tb_frame"
   ]
  },
  {
   "cell_type": "code",
   "execution_count": null,
   "metadata": {},
   "outputs": [],
   "source": [
    "# get the min and max Tb of the 64 for each time step\n",
    "Tb_64_min=Tb_frame.min(axis=1)\n",
    "Tb_64_max=Tb_frame.max(axis=1)"
   ]
  },
  {
   "cell_type": "code",
   "execution_count": null,
   "metadata": {
    "scrolled": true
   },
   "outputs": [],
   "source": [
    "# compute std dev of the 64 SIR pixels\n",
    "Tb_std_64=Tb_frame.std(axis=1)\n",
    "Tb_std_64"
   ]
  },
  {
   "cell_type": "code",
   "execution_count": null,
   "metadata": {},
   "outputs": [],
   "source": [
    "# take difference of the GRD_std_dev variable and the computed sd of the 64 SIR pixels\n",
    "Tb_sd_diff=Tb_sd_frame_GRD[0]-Tb_std_64\n",
    "Tb_sd_diff"
   ]
  },
  {
   "cell_type": "code",
   "execution_count": null,
   "metadata": {},
   "outputs": [],
   "source": [
    "DAV_GRD_frame=pd.DataFrame(DAV_GRD[:,0,0], index=cal_date)\n",
    "DAV_GRD_frame"
   ]
  },
  {
   "cell_type": "code",
   "execution_count": null,
   "metadata": {},
   "outputs": [],
   "source": [
    "DAV_SIR_frame=pd.DataFrame()\n",
    "for i in y_dims_list:\n",
    "    for j in x_dims_list:\n",
    "        column=pd.DataFrame(data=DAV_SIR[:,i,j], columns=[str(y_s[i])+','+str(x_s[j])])\n",
    "        DAV_SIR_frame=pd.concat([DAV_SIR_frame,column],axis=1)\n",
    "DAV_SIR_frame=DAV_SIR_frame.set_index(cal_date)\n",
    "DAV_SIR_frame"
   ]
  },
  {
   "cell_type": "code",
   "execution_count": null,
   "metadata": {
    "scrolled": false
   },
   "outputs": [],
   "source": [
    "#Generate a time series of specified length (any window in dataset)\n",
    "#Make sure to update filename in last line to export new file\n",
    "fig,(ax1,ax2,ax3)=plt.subplots(3,1, sharex=True, figsize=(10,10))\n",
    "#ax.xlim('2003-1-1', '2011-12-31')\n",
    "ax1.set_title(str(lat_start)+'_'+str(lon_start)+' '+Site)\n",
    "#Tb_sd_frame_GRD.plot(xlim=['2019-01-01','2019-12-31'])\n",
    "\n",
    "ax1.plot(Tb_64_max, color='red', label='SIR-Tb-max')\n",
    "ax1.plot(Tb_64_min, color='blue', label='SIR-Tb-min')\n",
    "ax1.plot(Tb_nearest, color = 'black',label='SIR-Site')\n",
    "ax1.plot(Tb_frame_GRD, color='#636363', label='GRD-Tb')\n",
    "ax1.set_ylabel('Tb (K)', fontsize=16)\n",
    "ax1.set_ylim(150,300)\n",
    "#ax1.yticks(fontsize=12)\n",
    "ax1.legend(fontsize=12)\n",
    "ax2.plot(Tb_sd_frame_GRD, color='black', label='GRD-StDev')\n",
    "ax2.plot(Tb_std_frame[str(rows_cols[0][0])+','+str(rows_cols[1][0])], color='#fdbb84', label='SIR-1px')\n",
    "ax2.set_ylabel('Tb-STD (K)',fontsize=16)\n",
    "ax2.plot(Tb_std_64, color='#4292c6',label='SIR-64px-StDev')\n",
    "ax2.plot(Tb_sd_diff, label='StDevDiff_GRD-64SIR', color='green')\n",
    "ax2.legend(fontsize=10,loc='lower right')\n",
    "ax2.set_ylim(-12,30)\n",
    "ax3.plot(DAV_GRD_frame, color='black', label='GRD-DAV')\n",
    "ax3.plot(DAV_SIR_frame[str(rows_cols[0][0])+','+str(rows_cols[1][0])], color='#4292c6', label='SIR-DAV')\n",
    "ax3.set_ylabel('DAV (K)',fontsize=16)\n",
    "ax3.legend(fontsize=12)\n",
    "ax3.set_ylim(0,100)\n",
    "ax1.set_xlim('2003-01-01', '2011-12-31')\n",
    "\n",
    "fig.autofmt_xdate()\n",
    "plt.savefig('../jmr_plots/Caribou.png')\n"
   ]
  },
  {
   "cell_type": "code",
   "execution_count": null,
   "metadata": {},
   "outputs": [],
   "source": [
    "# histogram of the difference between GRD_Tb_std variable and the computed std of the 64 SIR pixels\n",
    "#plt.close()\n",
    "fig,ax=plt.subplots()\n",
    "values=Tb_sd_diff.dropna().values\n",
    "ax.hist(values,bins=50, label='STD_Dif GRD-64SIR')\n",
    "ax.set_title(Site+' all data')\n",
    "ax.axvline(x=Tb_sd_diff.mean(), color='red', linestyle='dashed', label=Tb_sd_diff.mean().round(3))\n",
    "ax.legend(fontsize=12)\n",
    "ax.set_ylabel('Frequency',fontsize=14)\n",
    "ax.set_xlabel('Standard Deviation Difference (K)',fontsize=14)\n",
    "plt.savefig('../jmr_plots/Iceland_Katla_histdif_F18_all.png')"
   ]
  },
  {
   "cell_type": "raw",
   "metadata": {
    "scrolled": false
   },
   "source": [
    "# PLOT the std dev of Tb MAP - \n",
    "date='2003-04-16' # specify date of interest\n",
    "obs=0 # 0 or 1 for morning or evening observation\n",
    "\n",
    "# load Tb_std_dev array\n",
    "array=Tb_std_frame.loc[date].values\n",
    "array=array[obs]\n",
    "GRD=Tb_sd_frame_GRD.loc[date].values\n",
    "GRD=GRD[obs]\n",
    "\n",
    "fig = plt.figure(figsize=(8,8))\n",
    "# create figure and axes instances\n",
    "#fig = plt.figure()\n",
    "ax = fig.add_axes([0.1,0.1,0.8,0.8])\n",
    "#ax = fig.add_subplot(121)\n",
    "# create polar stereographic Basemap instance.\n",
    "m = Basemap(projection='stere',lon_0=lon_start,lat_0=lat_start,lat_ts=90.,\\\n",
    "            llcrnrlat=(lat_start-.7),urcrnrlat=(lat_start+.7),\\\n",
    "            llcrnrlon=(lon_start-.7),urcrnrlon=(lon_start+.7),\\\n",
    "            rsphere=6371200.,resolution='l',area_thresh=10000, epsg=3857)\n",
    "m.drawcoastlines()\n",
    "m.drawcountries()\n",
    "m.drawstates()\n",
    "#m.etopo(scale=5, alpha=0.7)\n",
    "#m.bluemarble(scale=1)\n",
    "parallels = np.arange(0.,90,0.5)\n",
    "m.drawparallels(parallels,labels=[1,0,0,0],fontsize=10)\n",
    "# draw meridians\n",
    "meridians = np.arange(180.,360.,0.5)\n",
    "m.drawmeridians(meridians,labels=[0,0,0,1],fontsize=10)\n",
    "m.arcgisimage(service='World_Physical_Map', xpixels = 1500, verbose= True)\n",
    "\n",
    "x,y=m(pixel_lons, pixel_lats)\n",
    "#m.plot(x,y, 'bs', markersize=11, markeredgewidth=1, alpha=0.2)\n",
    "m.scatter(x,y,c=array, s=100, marker='s',lw=0, cmap='Oranges', alpha=.8)  # cmap='Blues'\n",
    "x,y=m(lon_start,lat_start)\n",
    "m.plot(x,y,'ro',markersize=4,markeredgewidth=0.0)\n",
    "plt.title('Tb - std dev - '+date)\n",
    "\n",
    "# plot a red line on colorbar for the MOD for the GRD pixel\n",
    "cbar=plt.colorbar()\n",
    "cbar.ax.hlines(cbar.norm(GRD), 0, 1, color='green') \n",
    "#cbar.ax.clim(0,1)  #color bar limits\n",
    "\n",
    "plt.show()\n",
    "\n",
    "fig = plt.figure(figsize=(8,8))\n",
    "ax = fig.add_axes([0.1,0.1,0.8,0.8])\n",
    "\n",
    "# create polar stereographic Basemap instance.\n",
    "m = Basemap(projection='stere',lon_0=lon_start,lat_0=lat_start,lat_ts=90.,\\\n",
    "            llcrnrlat=(lat_start-.7),urcrnrlat=(lat_start+.7),\\\n",
    "            llcrnrlon=(lon_start-.7),urcrnrlon=(lon_start+.7),\\\n",
    "            rsphere=6371200.,resolution='l',area_thresh=10000, epsg=3857)\n",
    "m.drawcoastlines()\n",
    "m.drawcountries()\n",
    "m.drawstates()\n",
    "#m.etopo(scale=5, alpha=0.7)\n",
    "#m.bluemarble(scale=1)\n",
    "parallels = np.arange(0.,90,0.5)\n",
    "m.drawparallels(parallels,labels=[1,0,0,0],fontsize=10)\n",
    "# draw meridians\n",
    "meridians = np.arange(180.,360.,0.5)\n",
    "m.drawmeridians(meridians,labels=[0,0,0,1],fontsize=10)\n",
    "m.arcgisimage(service='World_Physical_Map', xpixels = 1500, verbose= True)\n",
    "\n",
    "#x,y=m(pixel_lons, pixel_lats)\n",
    "#m.plot(x,y, 'bs', markersize=11, markeredgewidth=1, alpha=0.2)\n",
    "#m.scatter(x,y,c=MOD_DOY_array, s=150, marker='s',lw=0,cmap='Blues', alpha=.0)\n",
    "x,y=m(lon_start,lat_start)\n",
    "m.plot(x,y,'ro',markersize=4,markeredgewidth=0.0)\n",
    "#plt.title('Tb - std dev')\n",
    "#plt.colorbar()\n",
    "plt.show()"
   ]
  },
  {
   "cell_type": "code",
   "execution_count": null,
   "metadata": {
    "scrolled": false
   },
   "outputs": [],
   "source": [
    "# Plot Tb map\n",
    "date='2019-05-08' # specify date of interest\n",
    "obs=0 # 0 for morning or 1 for evening observation\n",
    "\n",
    "# load Tb_std_dev array\n",
    "array=Tb_frame.loc[date].values\n",
    "array=array[obs]\n",
    "GRD=Tb_frame_GRD.loc[date].values\n",
    "GRD=GRD[obs]\n",
    "\n",
    "fig = plt.figure(figsize=(8,8))\n",
    "# create figure and axes instances\n",
    "#fig = plt.figure()\n",
    "ax = fig.add_axes([0.1,0.1,0.8,0.8])\n",
    "#ax = fig.add_subplot(121)\n",
    "# create polar stereographic Basemap instance.\n",
    "m = Basemap(projection='stere',lon_0=lon_start,lat_0=lat_start,lat_ts=90.,\\\n",
    "            llcrnrlat=(lat_start-.7),urcrnrlat=(lat_start+.7),\\\n",
    "            llcrnrlon=(lon_start-.7),urcrnrlon=(lon_start+.7),\\\n",
    "            rsphere=6371200.,resolution='l',area_thresh=10000, epsg=3857)\n",
    "m.drawcoastlines()\n",
    "m.drawcountries()\n",
    "m.drawstates()\n",
    "#m.etopo(scale=5, alpha=0.7)\n",
    "#m.bluemarble(scale=1)\n",
    "parallels = np.arange(0.,90,0.5)\n",
    "m.drawparallels(parallels,labels=[1,0,0,0],fontsize=10)\n",
    "# draw meridians\n",
    "meridians = np.arange(180.,360.,0.5)\n",
    "m.drawmeridians(meridians,labels=[0,0,0,1],fontsize=10)\n",
    "m.arcgisimage(service='World_Physical_Map', xpixels = 1500, verbose= True)\n",
    "\n",
    "x,y=m(pixel_lons, pixel_lats)\n",
    "#m.plot(x,y, 'bs', markersize=11, markeredgewidth=1, alpha=0.2)\n",
    "m.scatter(x,y,c=array, s=100, marker='s',lw=0, cmap='Greys', alpha=.8)  # cmap='Blues'\n",
    "#x,y=m(ISAlons,ISAlats)\n",
    "#m.plot(x,y,'ro',markersize=2,markeredgewidth=0.0)\n",
    "plt.title('Tb_'+date+' '+str(obs))\n",
    "\n",
    "# plot a red line on colorbar for the MOD for the GRD pixel\n",
    "cbar=plt.colorbar()\n",
    "cbar.ax.hlines(cbar.norm(GRD), 0, 1, color='red') \n",
    "plt.clim(230,250)  #color bar limits\n",
    "\n",
    "plt.show()\n",
    "#plt.savefig('../jmr_plots/PnOWL_amsre_TB_040107-1.png')\n",
    "ax = fig.add_axes([0.1,0.1,0.8,0.8])\n",
    "\n",
    "# create polar stereographic Basemap instance.\n",
    "m = Basemap(projection='stere',lon_0=lon_start,lat_0=lat_start,lat_ts=90.,\\\n",
    "            llcrnrlat=(lat_start-.7),urcrnrlat=(lat_start+.7),\\\n",
    "            llcrnrlon=(lon_start-.7),urcrnrlon=(lon_start+.7),\\\n",
    "            rsphere=6371200.,resolution='l',area_thresh=10000, epsg=3857)\n",
    "m.drawcoastlines()\n",
    "m.drawcountries()\n",
    "m.drawstates()\n",
    "#m.etopo(scale=5, alpha=0.7)\n",
    "#m.bluemarble(scale=1)\n",
    "parallels = np.arange(0.,90,0.5)\n",
    "m.drawparallels(parallels,labels=[1,0,0,0],fontsize=10)\n",
    "# draw meridians\n",
    "meridians = np.arange(180.,360.,0.5)\n",
    "m.drawmeridians(meridians,labels=[0,0,0,1],fontsize=10)\n",
    "m.arcgisimage(service='World_Physical_Map', xpixels = 1500, verbose= True)\n",
    "\n",
    "#x,y=m(pixel_lons, pixel_lats)\n",
    "#m.plot(x,y, 'bs', markersize=11, markeredgewidth=1, alpha=0.2)\n",
    "#m.scatter(x,y,c=MOD_DOY_array, s=150, marker='s',lw=0,cmap='Blues', alpha=.0)\n",
    "#x,y=m(ISAlons,ISAlats)\n",
    "#m.plot(x,y,'ro',markersize=2,markeredgewidth=0.0)\n",
    "#plt.title('Tb - std dev')\n",
    "#plt.colorbar()\n",
    "plt.show()\n",
    "plt.savefig('../jmr_plots/Iceland_Katla_f18_05082019AM.png')\n"
   ]
  },
  {
   "cell_type": "code",
   "execution_count": null,
   "metadata": {},
   "outputs": [],
   "source": [
    "GRD\n"
   ]
  },
  {
   "cell_type": "raw",
   "metadata": {},
   "source": [
    "# PLOT THE EARLY EVENTS MAP\n",
    "# if getting errors, likely because there are 0 or only 1 early melt event for the subset\n",
    "\n",
    "fig = plt.figure(figsize=(8,8))\n",
    "# create figure and axes instances\n",
    "#fig = plt.figure()\n",
    "ax = fig.add_axes([0.1,0.1,0.8,0.8])\n",
    "#ax = fig.add_subplot(121)\n",
    "# create polar stereographic Basemap instance.\n",
    "m = Basemap(projection='stere',lon_0=lon_start,lat_0=lat_start,lat_ts=90.,\\\n",
    "            llcrnrlat=(lat_start-.7),urcrnrlat=(lat_start+.7),\\\n",
    "            llcrnrlon=(lon_start-.7),urcrnrlon=(lon_start+.7),\\\n",
    "            rsphere=6371200.,resolution='l',area_thresh=10000, epsg=3857)\n",
    "m.drawcoastlines()\n",
    "m.drawcountries()\n",
    "m.drawstates()\n",
    "#m.etopo(scale=5, alpha=0.7)\n",
    "#m.bluemarble(scale=1)\n",
    "parallels = np.arange(0.,90,5.)\n",
    "m.drawparallels(parallels,labels=[1,0,0,0],fontsize=10)\n",
    "# draw meridians\n",
    "meridians = np.arange(180.,360.,5.)\n",
    "m.drawmeridians(meridians,labels=[0,0,0,1],fontsize=10)\n",
    "m.arcgisimage(service='World_Physical_Map', xpixels = 1500, verbose= True)\n",
    "\n",
    "x,y=m(pixel_lons, pixel_lats)\n",
    "#m.plot(x,y, 'bs', markersize=11, markeredgewidth=1, alpha=0.2)\n",
    "m.scatter(x,y,c=events_array, s=150, marker='s',lw=0,cmap='RdBu', alpha=.8)\n",
    "#x,y=m(ISAlons,ISAlats)\n",
    "#m.plot(x,y,'ro',markersize=2,markeredgewidth=0.0)\n",
    "plt.title(sensor_SIR+'-'+Site+' - Early Melt Events - (Avg '+str(Years[0])+'-'+str(Years[-1])+')')\n",
    "plt.colorbar()\n",
    "plt.show()\n",
    "\n",
    "fig = plt.figure(figsize=(8,8))\n",
    "ax = fig.add_axes([0.1,0.1,0.8,0.8])\n",
    "\n",
    "# create polar stereographic Basemap instance.\n",
    "m = Basemap(projection='stere',lon_0=lon_start,lat_0=lat_start,lat_ts=90.,\\\n",
    "            llcrnrlat=(lat_start-.7),urcrnrlat=(lat_start+.7),\\\n",
    "            llcrnrlon=(lon_start-.7),urcrnrlon=(lon_start+.7),\\\n",
    "            rsphere=6371200.,resolution='l',area_thresh=10000, epsg=3857)\n",
    "m.drawcoastlines()\n",
    "m.drawcountries()\n",
    "m.drawstates()\n",
    "#m.etopo(scale=5, alpha=0.7)\n",
    "#m.bluemarble(scale=1)\n",
    "parallels = np.arange(0.,90,0.5)\n",
    "m.drawparallels(parallels,labels=[1,0,0,0],fontsize=10)\n",
    "# draw meridians\n",
    "meridians = np.arange(180.,360.,0.5)\n",
    "m.drawmeridians(meridians,labels=[0,0,0,1],fontsize=10)\n",
    "m.arcgisimage(service='World_Physical_Map', xpixels = 1500, verbose= True)\n",
    "\n",
    "#x,y=m(pixel_lons, pixel_lats)\n",
    "#m.plot(x,y, 'bs', markersize=11, markeredgewidth=1, alpha=0.2)\n",
    "#m.scatter(x,y,c=MOD_DOY_array, s=150, marker='s',lw=0,cmap='Blues', alpha=.0)\n",
    "#x,y=m(ISAlons,ISAlats)\n",
    "#m.plot(x,y,'ro',markersize=2,markeredgewidth=0.0)\n",
    "plt.title(sensor_SIR+'-'+Site+' - Early Melt Events - (Avg '+str(Years[0])+'-'+str(Years[-1])+')')\n",
    "#plt.colorbar()\n",
    "plt.show()"
   ]
  },
  {
   "cell_type": "code",
   "execution_count": null,
   "metadata": {},
   "outputs": [],
   "source": [
    "# returns the average Jan-Feb DAV for each pixel for each year - SIR\n",
    "Jan_Feb_DAV=Winter_DAV(CETB_SIR, cal_date, cal_year, Years, rows_cols_env)\n",
    "Jan_Feb_DAV"
   ]
  },
  {
   "cell_type": "code",
   "execution_count": null,
   "metadata": {},
   "outputs": [],
   "source": [
    "Jan_Feb_DAV_avg=Jan_Feb_DAV.mean(axis=0)\n",
    "Jan_Feb_DAV_avg=Jan_Feb_DAV_avg.values\n",
    "#Jan_Feb_DAV_avg=np.round(Jan_Feb_DAV_avg)\n",
    "Jan_Feb_DAV_avg"
   ]
  },
  {
   "cell_type": "code",
   "execution_count": null,
   "metadata": {},
   "outputs": [],
   "source": [
    "# returns the average Jan-Feb DAV for the GRD pixel for each year\n",
    "Jan_Feb_DAV_GRD=Winter_DAV(CETB_GRD, cal_date, cal_year, Years, rows_cols_GRD)\n",
    "Jan_Feb_DAV_GRD"
   ]
  },
  {
   "cell_type": "code",
   "execution_count": null,
   "metadata": {},
   "outputs": [],
   "source": [
    "# avg Jan-Feb DAV for all years - GRD pixel\n",
    "Jan_Feb_DAV_GRD_all=np.nanmean(Jan_Feb_DAV_GRD)\n",
    "Jan_Feb_DAV_GRD_all"
   ]
  },
  {
   "cell_type": "code",
   "execution_count": null,
   "metadata": {
    "scrolled": false
   },
   "outputs": [],
   "source": [
    "# PLOT WINTER DAV MAP\n",
    "# if getting errors, likely because there are 0 or only 1 early melt event for the subset\n",
    "fig = plt.figure(figsize=(8,8))\n",
    "# create figure and axes instances\n",
    "#fig = plt.figure()\n",
    "ax = fig.add_axes([0.1,0.1,0.8,0.8])\n",
    "#ax = fig.add_subplot(121)\n",
    "# create polar stereographic Basemap instance.\n",
    "m = Basemap(projection='stere',lon_0=lon_start,lat_0=lat_start,lat_ts=90.,\\\n",
    "            llcrnrlat=(lat_start-.7),urcrnrlat=(lat_start+.7),\\\n",
    "            llcrnrlon=(lon_start-.7),urcrnrlon=(lon_start+.7),\\\n",
    "            rsphere=6371200.,resolution='l',area_thresh=10000, epsg=3857)\n",
    "m.drawcoastlines()\n",
    "m.drawcountries()\n",
    "m.drawstates()\n",
    "#m.etopo(scale=5, alpha=0.7)\n",
    "#m.bluemarble(scale=1)\n",
    "parallels = np.arange(0.,90,0.5)\n",
    "m.drawparallels(parallels,labels=[1,0,0,0],fontsize=10)\n",
    "# draw meridians\n",
    "meridians = np.arange(180.,360.,0.5)\n",
    "m.drawmeridians(meridians,labels=[0,0,0,1],fontsize=10)\n",
    "m.arcgisimage(service='World_Physical_Map', xpixels = 1500, verbose= True)\n",
    "\n",
    "x,y=m(pixel_lons, pixel_lats)\n",
    "#m.plot(x,y, 'bs', markersize=11, markeredgewidth=1, alpha=0.2)\n",
    "m.scatter(x,y,c=Jan_Feb_DAV_avg, s=100, marker='s',lw=0,cmap='Blues', alpha=.8)\n",
    "#x,y=m(ISAlons,ISAlats)\n",
    "#m.plot(x,y,'ro',markersize=2,markeredgewidth=0.0)\n",
    "plt.title(sensor_SIR+'-'+Site+' - DAV - (Avg '+str(Years[0])+'-'+str(Years[-1])+')')\n",
    "\n",
    "# plot a red line on colorbar for the GRD mean - all years\n",
    "cbar=plt.colorbar()\n",
    "cbar.ax.hlines(cbar.norm(Jan_Feb_DAV_GRD_all), 0, 1, color='green') \n",
    "\n",
    "plt.show()\n",
    "\n",
    "fig = plt.figure(figsize=(8,8))\n",
    "ax = fig.add_axes([0.1,0.1,0.8,0.8])\n",
    "\n",
    "# create polar stereographic Basemap instance.\n",
    "m = Basemap(projection='stere',lon_0=lon_start,lat_0=lat_start,lat_ts=90.,\\\n",
    "            llcrnrlat=(lat_start-.7),urcrnrlat=(lat_start+.7),\\\n",
    "            llcrnrlon=(lon_start-.7),urcrnrlon=(lon_start+.7),\\\n",
    "            rsphere=6371200.,resolution='l',area_thresh=10000, epsg=3857)\n",
    "m.drawcoastlines()\n",
    "m.drawcountries()\n",
    "m.drawstates()\n",
    "#m.etopo(scale=5, alpha=0.7)\n",
    "#m.bluemarble(scale=1)\n",
    "parallels = np.arange(0.,90,0.5)\n",
    "m.drawparallels(parallels,labels=[1,0,0,0],fontsize=10)\n",
    "# draw meridians\n",
    "meridians = np.arange(180.,360.,0.5)\n",
    "m.drawmeridians(meridians,labels=[0,0,0,1],fontsize=10)\n",
    "m.arcgisimage(service='World_Physical_Map', xpixels = 1500, verbose= True)\n",
    "\n",
    "#x,y=m(pixel_lons, pixel_lats)\n",
    "#m.plot(x,y, 'bs', markersize=11, markeredgewidth=1, alpha=0.2)\n",
    "#m.scatter(x,y,c=MOD_DOY_array, s=150, marker='s',lw=0,cmap='Blues', alpha=.0)\n",
    "#x,y=m(ISAlons,ISAlats)\n",
    "#m.plot(x,y,'ro',markersize=2,markeredgewidth=0.0)\n",
    "plt.title(sensor_SIR+'-'+Site+' - DAV - (Avg '+str(Years[0])+'-'+str(Years[-1])+')')\n",
    "#plt.colorbar()\n",
    "plt.show()\n",
    "\n"
   ]
  },
  {
   "cell_type": "code",
   "execution_count": null,
   "metadata": {},
   "outputs": [],
   "source": [
    "# winter DAV histogram\n",
    "plt.close()\n",
    "fig,ax=plt.subplots()\n",
    "ax.hist(Jan_Feb_DAV_avg)\n",
    "avg=np.mean(Jan_Feb_DAV_avg)  # calculate average winter DAV all pixels\n",
    "ax.axvline(x=avg, color='blue', linestyle='dashed')  # plot a line for the average winter DAV for all pixels\n",
    "ax.axvline(x=Jan_Feb_DAV_GRD_all, color='red')  # plot a line for winter DAV for GRD pixel\n",
    "ax.set_xlabel('DAV (K)')\n",
    "ax.set_ylabel('Count')\n",
    "ax.set_title('Winter (Jan-Feb) DAV')"
   ]
  },
  {
   "cell_type": "code",
   "execution_count": null,
   "metadata": {},
   "outputs": [],
   "source": [
    "#need to run this cell for the max DAV to work\n",
    "y_dims_list=list(range(len(CETB_SIR[0,:,0])))  # creates a list of the y-dimension pixel indices, used for plotting\n",
    "x_dims_list=list(range(len(CETB_SIR[0,0,:])))\t# creates a list of the x-dimension pixel indices, for plotting\n",
    "y_s=list(range(rows_cols_env[0],rows_cols_env[1]))  # makes a list of the y(row) numbers so the dataframe of early melt events can be indexed\n",
    "x_s=list(range(rows_cols_env[2],rows_cols_env[3]))  # makes a list of the x(col) numbers so the dataframe of early melt events can be indexed"
   ]
  },
  {
   "cell_type": "code",
   "execution_count": null,
   "metadata": {},
   "outputs": [],
   "source": [
    "# create array of the max DAV for each pixel for all years\n",
    "DAV_frame=pd.DataFrame()\n",
    "for i in y_dims_list:\n",
    "    for j in x_dims_list:\n",
    "        column=pd.DataFrame(data=DAV_SIR[:,i,j], columns=[str(y_s[i])+','+str(x_s[j])])\n",
    "        DAV_frame=pd.concat([DAV_frame,column],axis=1)\n",
    "DAV_frame=DAV_frame.set_index(cal_date)\n",
    "#DAV_frame=DAV_frame.groupby(pd.Grouper(freq='A')).max()\n",
    "DAV_max_array=DAV_frame.max().values\n",
    "DAV_max_array"
   ]
  },
  {
   "cell_type": "code",
   "execution_count": null,
   "metadata": {},
   "outputs": [],
   "source": [
    "# create array of the max DAV for each pixel for year of interest\n",
    "year=2019  #specify year\n",
    "DAV_max_array_year=DAV_frame[str(year)].max().values\n",
    "DAV_max_array_year"
   ]
  },
  {
   "cell_type": "code",
   "execution_count": null,
   "metadata": {},
   "outputs": [],
   "source": [
    "DAV_max_GRD=np.nanmax(DAV_GRD)\n",
    "DAV_max_GRD"
   ]
  },
  {
   "cell_type": "code",
   "execution_count": null,
   "metadata": {},
   "outputs": [],
   "source": [
    "#Note this year needs to be the same as the max dav plot below\n",
    "#year=2005\n",
    "DAV_max_GRD_year=np.nanmax(DAV_GRD[cal_year==year])\n",
    "DAV_max_GRD_year"
   ]
  },
  {
   "cell_type": "code",
   "execution_count": null,
   "metadata": {},
   "outputs": [],
   "source": [
    "# PLOT MAX DAV MAP\n",
    "#plot_type='all'\n",
    "year = 2019\n",
    "plot_type=year\n",
    "#NOTE YEAR SPECIFIED UP A FEW LEVELS (~3)\n",
    "#year=2005\n",
    "\n",
    "if plot_type=='all':\n",
    "    array=DAV_max_array\n",
    "    title=sensor_SIR+'-'+Site+' - Max DAV (K) - (Avg of '+str(Years[0])+'-'+str(Years[-1])+')'\n",
    "    GRD=DAV_max_GRD\n",
    "elif plot_type==year:\n",
    "\n",
    "    array=DAV_max_array_year\n",
    "    GRD=DAV_max_GRD_year\n",
    "    title=sensor_SIR+'-'+Site+' - Max DAV (K) - ('+str(year)+')'\n",
    "\n",
    "fig = plt.figure(figsize=(8,8))\n",
    "# create figure and axes instances\n",
    "#fig = plt.figure()\n",
    "ax = fig.add_axes([0.1,0.1,0.8,0.8])\n",
    "#ax = fig.add_subplot(121)\n",
    "# create polar stereographic Basemap instance.\n",
    "m = Basemap(projection='stere',lon_0=lon_start,lat_0=lat_start,lat_ts=90.,\\\n",
    "            llcrnrlat=(lat_start-.7),urcrnrlat=(lat_start+.7),\\\n",
    "            llcrnrlon=(lon_start-.7),urcrnrlon=(lon_start+.7),\\\n",
    "            rsphere=6371200.,resolution='l',area_thresh=10000, epsg=3857)\n",
    "m.drawcoastlines()\n",
    "m.drawcountries()\n",
    "m.drawstates()\n",
    "#m.etopo(scale=5, alpha=0.7)\n",
    "#m.bluemarble(scale=1)\n",
    "parallels = np.arange(0.,90,0.5)\n",
    "m.drawparallels(parallels,labels=[1,0,0,0],fontsize=10)\n",
    "# draw meridians\n",
    "meridians = np.arange(180.,360.,0.5)\n",
    "m.drawmeridians(meridians,labels=[0,0,0,1],fontsize=10)\n",
    "m.arcgisimage(service='World_Physical_Map', xpixels = 1500, verbose= True)\n",
    "\n",
    "x,y=m(pixel_lons, pixel_lats)\n",
    "#m.plot(x,y, 'bs', markersize=11, markeredgewidth=1, alpha=0.2)\n",
    "m.scatter(x,y,c=array, s=100, marker='s',lw=0,cmap='Blues', alpha=.8)\n",
    "#x,y=m(ISAlons,ISAlats)\n",
    "#m.plot(x,y,'ro',markersize=2,markeredgewidth=0.0)\n",
    "plt.title(title)\n",
    "\n",
    "# plot a red line on colorbar for the GRD max\n",
    "cbar=plt.colorbar()\n",
    "#cbar.ax.hlines(cbar.norm(DAV_max_GRD), 0, 1, color='red') \n",
    "cbar.ax.hlines(cbar.norm(DAV_max_GRD_year), 0, 1, color='red')\n",
    "plt.show()\n",
    "\n",
    "fig = plt.figure(figsize=(8,8))\n",
    "ax = fig.add_axes([0.1,0.1,0.8,0.8])\n",
    "\n",
    "# create polar stereographic Basemap instance.\n",
    "m = Basemap(projection='stere',lon_0=lon_start,lat_0=lat_start,lat_ts=90.,\\\n",
    "            llcrnrlat=(lat_start-.7),urcrnrlat=(lat_start+.7),\\\n",
    "            llcrnrlon=(lon_start-.7),urcrnrlon=(lon_start+.7),\\\n",
    "            rsphere=6371200.,resolution='l',area_thresh=10000, epsg=3857)\n",
    "m.drawcoastlines()\n",
    "m.drawcountries()\n",
    "m.drawstates()\n",
    "#m.etopo(scale=5, alpha=0.7)\n",
    "#m.bluemarble(scale=1)\n",
    "parallels = np.arange(0.,90,0.5)\n",
    "m.drawparallels(parallels,labels=[1,0,0,0],fontsize=10)\n",
    "# draw meridians\n",
    "meridians = np.arange(180.,360.,0.5)\n",
    "m.drawmeridians(meridians,labels=[0,0,0,1],fontsize=10)\n",
    "m.arcgisimage(service='World_Physical_Map', xpixels = 1500, verbose= True)\n",
    "\n",
    "#x,y=m(pixel_lons, pixel_lats)\n",
    "#m.plot(x,y, 'bs', markersize=11, markeredgewidth=1, alpha=0.2)\n",
    "#m.scatter(x,y,c=MOD_DOY_array, s=150, marker='s',lw=0,cmap='Blues', alpha=.0)\n",
    "#x,y=m(ISAlons,ISAlats)\n",
    "#m.plot(x,y,'ro',markersize=2,markeredgewidth=0.0)\n",
    "plt.title(title)\n",
    "#plt.colorbar()\n",
    "plt.show()"
   ]
  },
  {
   "cell_type": "markdown",
   "metadata": {},
   "source": [
    "## Histograms"
   ]
  },
  {
   "cell_type": "code",
   "execution_count": null,
   "metadata": {},
   "outputs": [],
   "source": [
    "# generate histogram - SIR - pick year \n",
    "year=2019  # specify year here\n",
    "Tb_threshold=252  #specify threshold\n",
    "data = CETB_SIR[cal_year==year] # CETB_data for all pixels in subset\n",
    "data = data[data>=0]\n",
    "bins = range(150,300)  # bins for histogram\n",
    "fig,ax=plt.subplots()\n",
    "ax.axvline(x=Tb_threshold, color='red')\n",
    "ax.hist(data, bins)\n",
    "ax.set_title(str(year)+' SIR Histogram')\n",
    "#ax.set_title(prefix+'row'+str(x)+'col'+str(y))\n",
    "ax.set_xlabel('Brightness Temp (K)')\n",
    "#fig.savefig('/home/mij216/Documents/GLaIL/'+prefix+'row'+str(x)+'col'+str(y)+'.png')\n",
    "plt.savefig('../jmr_plots/Iceland_Katla_F18_histsir2019.png')"
   ]
  },
  {
   "cell_type": "code",
   "execution_count": null,
   "metadata": {},
   "outputs": [],
   "source": [
    "# generate histogram - SIR - all data\n",
    "#year=2005\n",
    "#Tb_threshold=252\n",
    "data = CETB_SIR[:] # CETB_data for all pixels in subset\n",
    "data = data[data>=0]\n",
    "bins = range(150,300)  # bins for histogram\n",
    "fig,ax=plt.subplots()\n",
    "ax.hist(data, bins)\n",
    "ax.set_title('All data SIR Histogram')\n",
    "ax.axvline(x=Tb_threshold, color='red')\n",
    "#ax.set_title(prefix+'row'+str(x)+'col'+str(y))\n",
    "ax.set_xlabel('Brightness Temp (K)')\n",
    "#fig.savefig('/home/mij216/Documents/GLaIL/'+prefix+'row'+str(x)+'col'+str(y)+'.png')\n",
    "plt.savefig('../jmr_plots/Iceland_Katla_F182019_HISTsirall.png')"
   ]
  },
  {
   "cell_type": "code",
   "execution_count": null,
   "metadata": {},
   "outputs": [],
   "source": [
    "# generate histogram - GRD - all data\n",
    "data = CETB_GRD[:] # CETB_data for all pixels in subset\n",
    "data = data[data>=0]\n",
    "bins = range(150,300)  # bins for histogram\n",
    "fig,ax=plt.subplots()\n",
    "ax.hist(data, bins)\n",
    "ax.set_title('All data GRD Histogram')\n",
    "ax.axvline(x=Tb_threshold, color='red')\n",
    "#ax.set_title(prefix+'row'+str(x)+'col'+str(y))\n",
    "ax.set_xlabel('Brightness Temp (K)')\n",
    "#fig.savefig('/home/mij216/Documents/GLaIL/'+prefix+'row'+str(x)+'col'+str(y)+'.png')\n",
    "plt.savefig('../jmr_plots/Iceland_Katla_f18_histGRDall.png')"
   ]
  },
  {
   "cell_type": "code",
   "execution_count": null,
   "metadata": {
    "scrolled": false
   },
   "outputs": [],
   "source": [
    "# min/max/avg time series and histogram of the 64 SIR pixels, plus the GRD pixel\n",
    "year=2019\n",
    "min_max_series(CETB_GRD, CETB_SIR, cal_date, cal_year, year, str(lat_start)+'_'+str(lon_start))\n",
    "plt.savefig('../jmr_plots/Iceland_site4Vatna_f18_minmaxhists2019.png')"
   ]
  },
  {
   "cell_type": "markdown",
   "metadata": {},
   "source": [
    "## TIME SERIES"
   ]
  },
  {
   "cell_type": "code",
   "execution_count": null,
   "metadata": {},
   "outputs": [],
   "source": [
    "# Tb and DAV time series for GRD pixel, pick one year\n",
    "#year=2003\n",
    "Tb_threshold=252\n",
    "DAV_threshold=18\n",
    "TbDAV_series_one_year(CETB_GRD,DAV_GRD, cal_date, cal_year, year, Tb_threshold, DAV_threshold)"
   ]
  },
  {
   "cell_type": "code",
   "execution_count": null,
   "metadata": {},
   "outputs": [],
   "source": [
    "# Tb and DAV time series for SIR pixels, pick one year\n",
    "#year=2003\n",
    "#Tb_threshold=252\n",
    "#DAV_threshold=18\n",
    "TbDAV_series_one_year(CETB_SIR, DAV_SIR, cal_date, cal_year, year, Tb_threshold, DAV_threshold)"
   ]
  },
  {
   "cell_type": "code",
   "execution_count": null,
   "metadata": {},
   "outputs": [],
   "source": [
    "# Tb and DAV time series of the single SIR pixel closest to the user-specified lat/lon at top of notebook\n",
    "year=2019\n",
    "#Tb_threshold=252\n",
    "#DAV_threshold=18\n",
    "data=read_Tb(datadir_SIR, prefix_SIR, Years,rows_cols[0][0],rows_cols[0][0]+1,rows_cols[1][0],rows_cols[1][0]+1)\n",
    "SIR_1px=data[0]\n",
    "DAV_1px=calc_DAV(SIR_1px)\n",
    "TbDAV_series_one_year(SIR_1px, DAV_1px, cal_date, cal_year, year, Tb_threshold, DAV_threshold) "
   ]
  },
  {
   "cell_type": "markdown",
   "metadata": {
    "collapsed": true
   },
   "source": [
    "## CREATE CSVs"
   ]
  },
  {
   "cell_type": "code",
   "execution_count": null,
   "metadata": {},
   "outputs": [],
   "source": [
    "TB_SIR_1px=pd.DataFrame([SIR_1px.flatten()]).T\n",
    "\n",
    "TB_SIR_1px.index=cal_date\n",
    "TB_SIR_1px"
   ]
  },
  {
   "cell_type": "code",
   "execution_count": null,
   "metadata": {},
   "outputs": [],
   "source": [
    "DAV_SIR_1px=pd.DataFrame([DAV_1px.flatten()]).T\n",
    "DAV_SIR_1px.index=cal_date\n",
    "DAV_SIR_1px"
   ]
  },
  {
   "cell_type": "code",
   "execution_count": null,
   "metadata": {},
   "outputs": [],
   "source": [
    "# CREATE CSV of GRD and SIR TB, GRD and SIR64 ST, and GRD And SIR DAV\n",
    "\n",
    "# CREATE CSV OF TB, DAV, SD and sirSD FOR THE GRD PIXEL - ALL YEARS\n",
    "Tb_frame=pd.DataFrame(CETB_GRD[:,0,0], index=cal_date)\n",
    "DAV_frame=pd.DataFrame(DAV_GRD[:,0,0], index=cal_date)\n",
    "GRD_data_out=pd.concat([Tb_frame,DAV_frame,TB_SIR_1px,DAV_SIR_1px,Tb_sd_frame_GRD,Tb_std_64,Tb_sd_diff],axis=1)\n",
    "GRD_data_out.columns=['GRDTb36V','GRDDAV36V','SIRTB36V','SIRDAV36V','GRD_SD_36V','SIR64_to_SD_36V','SD_diff[GRD-SIR]']\n",
    "GRD_data_out"
   ]
  },
  {
   "cell_type": "code",
   "execution_count": null,
   "metadata": {},
   "outputs": [],
   "source": []
  },
  {
   "cell_type": "code",
   "execution_count": null,
   "metadata": {},
   "outputs": [],
   "source": [
    "GRD_data_out.to_csv('/home/jmr204/noisy/sd/'+sat_GRD+'_'+sensor_GRD+'-'+channel_GRD+'-'+alg_GRD+'_'+str(lat_start)+'_'+str(lon_start)+'DATA.csv')  # modify destination to save csv"
   ]
  },
  {
   "cell_type": "code",
   "execution_count": null,
   "metadata": {
    "scrolled": true
   },
   "outputs": [],
   "source": [
    "# CREATE CSV OF TB FOR THE GRD PIXEL - ALL YEARS\n",
    "Tb_frame=pd.DataFrame(CETB_GRD[:,0,0], index=cal_date)\n",
    "Tb_frame.to_csv('/home/jmr204/noisy/noisytb_csv/'+sat_GRD+'_'+sensor_GRD+'-'+channel_GRD+'-'+alg_GRD+'_'+str(lat_start)+'_'+str(lon_start)+'.csv')  # modify destination to save csv"
   ]
  },
  {
   "cell_type": "code",
   "execution_count": null,
   "metadata": {
    "scrolled": true
   },
   "outputs": [],
   "source": [
    "# CREATE CSV of DAV FOR THE GRD PIXEL - ALL YEARS\n",
    "DAV_frame=pd.DataFrame(DAV_GRD[:,0,0], index=cal_date)\n",
    "DAV_frame.to_csv('/home/jmr204/noisy/noisydav_csv/'+sat_GRD+'_'+sensor_GRD+'-'+channel_GRD+'-'+alg_GRD+'_'+str(lat_start)+'_'+str(lon_start)+'.csv') # modify destination to save csv"
   ]
  },
  {
   "cell_type": "code",
   "execution_count": null,
   "metadata": {},
   "outputs": [],
   "source": [
    "# CREATE CSV of TB FOR 64pixel subset OF SIR PIXELS - ALL YEARS\n",
    "Tb_frame=pd.DataFrame()\n",
    "for i in y_dims_list:\n",
    "    for j in x_dims_list:\n",
    "        column=pd.DataFrame(data=CETB_SIR[:,i,j], columns=[str(y_s[i])+','+str(x_s[j])])\n",
    "        Tb_frame=pd.concat([Tb_frame,column],axis=1)\n",
    "Tb_frame=Tb_frame.set_index(cal_date)\n",
    "Tb_frame.to_csv('/home/jmr204/noisy/noisytbSIR_csv/'+sat_GRD+'_'+sensor_GRD+'-'+channel_GRD+'-'+alg_GRD+'_'+str(lat_start)+'_'+str(lon_start)+'.csv')  # modify destination to save csv"
   ]
  },
  {
   "cell_type": "code",
   "execution_count": null,
   "metadata": {},
   "outputs": [],
   "source": [
    "# CREATE CSV of DAV FOR 64pixel subset OF SIR PIXELS - ALL YEARS\n",
    "DAV_frame=pd.DataFrame()\n",
    "for i in y_dims_list:\n",
    "    for j in x_dims_list:\n",
    "        column=pd.DataFrame(data=DAV_SIR[:,i,j], columns=[str(y_s[i])+','+str(x_s[j])])\n",
    "        DAV_frame=pd.concat([DAV_frame,column],axis=1)\n",
    "DAV_frame=DAV_frame.set_index(cal_date)\n",
    "DAV_frame.to_csv('/home/jmr204/noisy/noisydavSIR_csv/'+sat_GRD+'_'+sensor_GRD+'-'+channel_GRD+'-'+alg_GRD+'_'+str(lat_start)+'_'+str(lon_start)+'.csv')  # modify destination to save csv\n",
    "\n"
   ]
  },
  {
   "cell_type": "code",
   "execution_count": null,
   "metadata": {},
   "outputs": [],
   "source": []
  },
  {
   "cell_type": "code",
   "execution_count": null,
   "metadata": {},
   "outputs": [],
   "source": []
  },
  {
   "cell_type": "code",
   "execution_count": null,
   "metadata": {},
   "outputs": [],
   "source": []
  }
 ],
 "metadata": {
  "kernelspec": {
   "display_name": "Python 3 (ipykernel)",
   "language": "python",
   "name": "python3"
  },
  "language_info": {
   "codemirror_mode": {
    "name": "ipython",
    "version": 3
   },
   "file_extension": ".py",
   "mimetype": "text/x-python",
   "name": "python",
   "nbconvert_exporter": "python",
   "pygments_lexer": "ipython3",
   "version": "3.7.10"
  }
 },
 "nbformat": 4,
 "nbformat_minor": 2
}
