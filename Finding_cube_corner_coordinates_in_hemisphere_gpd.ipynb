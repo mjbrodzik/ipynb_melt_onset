{
 "cells": [
  {
   "cell_type": "markdown",
   "metadata": {},
   "source": [
    "# Finding cube corner coordinates\n",
    "\n",
    "Given .nc CETB cube files for a specific region, \n",
    "this notebook demonstrates how to extract the geolocation (lat,lon)\n",
    "of the corners, and then finding the row,col coordinates of these locations\n",
    "in the full hemisphere grid\n",
    "\n"
   ]
  },
  {
   "cell_type": "code",
   "execution_count": null,
   "metadata": {},
   "outputs": [],
   "source": [
    "from cetbtools import ease2conv\n",
    "import glob\n",
    "from netCDF4 import Dataset"
   ]
  },
  {
   "cell_type": "code",
   "execution_count": null,
   "metadata": {},
   "outputs": [],
   "source": [
    "help(ease2conv)"
   ]
  },
  {
   "cell_type": "code",
   "execution_count": null,
   "metadata": {},
   "outputs": [],
   "source": [
    "cubeName = 'AKYukon'\n",
    "dir = \"~/nsidc0630_v1/F18_SSMIS/N/nc_cubes/cubes_%s\" % cubeName\n",
    "%cd $dir\n",
    "%ls"
   ]
  },
  {
   "cell_type": "code",
   "execution_count": null,
   "metadata": {},
   "outputs": [],
   "source": [
    "list19 = sorted(glob.glob(\"*19V*.nc\"))\n",
    "list19"
   ]
  },
  {
   "cell_type": "code",
   "execution_count": null,
   "metadata": {},
   "outputs": [],
   "source": [
    "list37 = sorted(glob.glob(\"*37V*.nc\"))\n",
    "list37"
   ]
  },
  {
   "cell_type": "code",
   "execution_count": null,
   "metadata": {},
   "outputs": [],
   "source": [
    "list19[0], list37[0]"
   ]
  },
  {
   "cell_type": "code",
   "execution_count": null,
   "metadata": {},
   "outputs": [],
   "source": [
    "f19 = Dataset(list19[0], 'r')\n",
    "f37 = Dataset(list37[0], 'r')"
   ]
  },
  {
   "cell_type": "markdown",
   "metadata": {},
   "source": [
    "## The lat/lon value that is stored in the subset cube files is the center of the cell\n",
    "## in this case, it's the center of the UL 25 km cell"
   ]
  },
  {
   "cell_type": "code",
   "execution_count": null,
   "metadata": {},
   "outputs": [],
   "source": [
    "lat19 = f19.variables['latitude'][:]\n",
    "lon19 = f19.variables['longitude'][:]\n",
    "\n",
    "lat37 = f37.variables['latitude'][:]\n",
    "lon37 = f37.variables['longitude'][:]"
   ]
  },
  {
   "cell_type": "code",
   "execution_count": null,
   "metadata": {},
   "outputs": [],
   "source": [
    "print(lat19[0,0], lon19[0,0])\n",
    "print(lat37[0,0], lon37[0,0])"
   ]
  },
  {
   "cell_type": "code",
   "execution_count": null,
   "metadata": {},
   "outputs": [],
   "source": [
    "# gridname one of : 'EASE2_N25km' or 'EASE2_N6.25km', 'EASE2_N3.125km'\n",
    "N19grid = ease2conv.Ease2Transform(gridname=f19.variables['crs'].long_name)\n",
    "N37grid = ease2conv.Ease2Transform(gridname=f37.variables['crs'].long_name)"
   ]
  },
  {
   "cell_type": "code",
   "execution_count": null,
   "metadata": {},
   "outputs": [],
   "source": [
    "N37grid.gridname"
   ]
  },
  {
   "cell_type": "markdown",
   "metadata": {},
   "source": [
    "### Now, convert the lat/lon of the center of the UL cell to row, col (in the EASE2_N25km grid)"
   ]
  },
  {
   "cell_type": "code",
   "execution_count": null,
   "metadata": {},
   "outputs": [],
   "source": [
    "row19, col19 = N19grid.geographic_to_grid(lat19[0,0], lon19[0,0])\n",
    "row19, col19"
   ]
  },
  {
   "cell_type": "code",
   "execution_count": null,
   "metadata": {},
   "outputs": [],
   "source": [
    "row37, col37 = N37grid.geographic_to_grid(lat37[0,0], lon37[0,0])\n",
    "row37, col37"
   ]
  },
  {
   "cell_type": "markdown",
   "metadata": {},
   "source": [
    "## Use the ease2conv routines to figure out what this row, col is in the 3.125 km grid"
   ]
  },
  {
   "cell_type": "code",
   "execution_count": null,
   "metadata": {},
   "outputs": [],
   "source": [
    "N6grid = ease2conv.Ease2Transform(gridname='EASE2_N6.25km')\n",
    "N3grid = ease2conv.Ease2Transform(gridname='EASE2_N3.125km')"
   ]
  },
  {
   "cell_type": "code",
   "execution_count": null,
   "metadata": {},
   "outputs": [],
   "source": [
    "row, col = N3grid.geographic_to_grid(lat19[0,0], lon19[0,0])\n",
    "row, col"
   ]
  }
 ],
 "metadata": {
  "kernelspec": {
   "display_name": "Python 3 (ipykernel)",
   "language": "python",
   "name": "python3"
  },
  "language_info": {
   "codemirror_mode": {
    "name": "ipython",
    "version": 3
   },
   "file_extension": ".py",
   "mimetype": "text/x-python",
   "name": "python",
   "nbconvert_exporter": "python",
   "pygments_lexer": "ipython3",
   "version": "3.12.5"
  }
 },
 "nbformat": 4,
 "nbformat_minor": 4
}
