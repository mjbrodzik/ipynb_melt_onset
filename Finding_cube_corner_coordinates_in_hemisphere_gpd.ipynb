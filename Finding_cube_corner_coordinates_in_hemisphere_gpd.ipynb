{
 "cells": [
  {
   "cell_type": "markdown",
   "metadata": {},
   "source": [
    "# Finding cube corner coordinates\n",
    "\n",
    "Given .nc CETB cube files for a specific region, \n",
    "this notebook demonstrates how to extract the geolocation (lat,lon)\n",
    "of the corners, and then finding the row,col coordinates of these locations\n",
    "in the full hemisphere grid\n",
    "\n"
   ]
  },
  {
   "cell_type": "code",
   "execution_count": null,
   "metadata": {},
   "outputs": [],
   "source": [
    "from cetbtools import ease2conv\n",
    "import glob\n",
    "from netCDF4 import Dataset"
   ]
  },
  {
   "cell_type": "code",
   "execution_count": null,
   "metadata": {},
   "outputs": [],
   "source": [
    "help(ease2conv)"
   ]
  },
  {
   "cell_type": "code",
   "execution_count": null,
   "metadata": {},
   "outputs": [],
   "source": [
    "cubeName = 'WesternCA'\n",
    "dir = \"~/ceph/jmr204group/CETB_cubes/F13_SSMI/N/nc_cubes/cubes_%s\" % cubeName\n",
    "%cd $dir\n",
    "%ls"
   ]
  },
  {
   "cell_type": "code",
   "execution_count": null,
   "metadata": {},
   "outputs": [],
   "source": [
    "list19 = sorted(glob.glob(\"*19V*.nc\"))\n",
    "list19"
   ]
  },
  {
   "cell_type": "code",
   "execution_count": null,
   "metadata": {},
   "outputs": [],
   "source": [
    "list37 = sorted(glob.glob(\"*37V*.nc\"))\n",
    "list37"
   ]
  },
  {
   "cell_type": "code",
   "execution_count": null,
   "metadata": {},
   "outputs": [],
   "source": [
    "list19[0], list37[0]"
   ]
  },
  {
   "cell_type": "code",
   "execution_count": null,
   "metadata": {},
   "outputs": [],
   "source": [
    "f19 = Dataset(list19[0], 'r')\n",
    "f37 = Dataset(list37[0], 'r')"
   ]
  },
  {
   "cell_type": "code",
   "execution_count": null,
   "metadata": {},
   "outputs": [],
   "source": [
    "lat19 = f19.variables['latitude'][:]\n",
    "lon19 = f19.variables['longitude'][:]\n",
    "\n",
    "lat37 = f37.variables['latitude'][:]\n",
    "lon37 = f37.variables['longitude'][:]"
   ]
  },
  {
   "cell_type": "markdown",
   "metadata": {},
   "source": [
    "Get UL corner coordinates in the 18 and 36 GHz data"
   ]
  },
  {
   "cell_type": "code",
   "execution_count": null,
   "metadata": {},
   "outputs": [],
   "source": [
    "print(lat19[0,0], lon19[0,0])\n",
    "print(lat37[0,0], lon37[0,0])"
   ]
  },
  {
   "cell_type": "code",
   "execution_count": null,
   "metadata": {},
   "outputs": [],
   "source": [
    "N19grid = ease2conv.Ease2Transform(gridname=f19.variables['crs'].long_name)\n",
    "N37grid = ease2conv.Ease2Transform(gridname=f37.variables['crs'].long_name)"
   ]
  },
  {
   "cell_type": "code",
   "execution_count": null,
   "metadata": {},
   "outputs": [],
   "source": [
    "N37grid.gridname"
   ]
  },
  {
   "cell_type": "code",
   "execution_count": null,
   "metadata": {},
   "outputs": [],
   "source": [
    "row19, col19 = N19grid.geographic_to_grid(lat19[0,0], lon19[0,0])\n",
    "row19, col19"
   ]
  },
  {
   "cell_type": "code",
   "execution_count": null,
   "metadata": {},
   "outputs": [],
   "source": [
    "row37, col37 = N37grid.geographic_to_grid(lat37[0,0], lon37[0,0])\n",
    "row37, col37"
   ]
  },
  {
   "cell_type": "code",
   "execution_count": null,
   "metadata": {},
   "outputs": [],
   "source": [
    "N3f = Dataset('EASE2_N3.125km.geolocation.v0.9.nc', 'r')\n",
    "N25f = Dataset('EASE2_N25km.geolocation.v0.9.nc', 'r')"
   ]
  },
  {
   "cell_type": "code",
   "execution_count": null,
   "metadata": {},
   "outputs": [],
   "source": [
    "N3_full_lats = N3f.variables['latitude'][:]\n",
    "N3_full_lons = N3f.variables['longitude'][:]"
   ]
  },
  {
   "cell_type": "code",
   "execution_count": null,
   "metadata": {},
   "outputs": [],
   "source": [
    "N3_full_lats.shape"
   ]
  },
  {
   "cell_type": "code",
   "execution_count": null,
   "metadata": {},
   "outputs": [],
   "source": [
    "col=2065\n",
    "row=2905\n"
   ]
  },
  {
   "cell_type": "code",
   "execution_count": null,
   "metadata": {},
   "outputs": [],
   "source": [
    "N3_full_lats[row,col], N3_full_lons[row,col]\n"
   ]
  },
  {
   "cell_type": "code",
   "execution_count": null,
   "metadata": {},
   "outputs": [],
   "source": [
    "from cetbtools import ease2conv\n"
   ]
  },
  {
   "cell_type": "code",
   "execution_count": null,
   "metadata": {},
   "outputs": [],
   "source": [
    "x[0], y[0]"
   ]
  },
  {
   "cell_type": "code",
   "execution_count": null,
   "metadata": {},
   "outputs": [],
   "source": [
    "f.variables['crs'].long_name"
   ]
  },
  {
   "cell_type": "code",
   "execution_count": null,
   "metadata": {},
   "outputs": [],
   "source": [
    "N3f.close()"
   ]
  },
  {
   "cell_type": "code",
   "execution_count": null,
   "metadata": {},
   "outputs": [],
   "source": [
    "N6f = Dataset('EASE2_N6.25km.geolocation.v0.9.nc', 'r')"
   ]
  },
  {
   "cell_type": "code",
   "execution_count": null,
   "metadata": {},
   "outputs": [],
   "source": [
    "N6f"
   ]
  },
  {
   "cell_type": "code",
   "execution_count": null,
   "metadata": {},
   "outputs": [],
   "source": [
    "N6_full_lats = N6f.variables['latitude'][:]\n",
    "N6_full_lons = N6f.variables['longitude'][:]"
   ]
  },
  {
   "cell_type": "code",
   "execution_count": null,
   "metadata": {},
   "outputs": [],
   "source": [
    "N6_full_lats[1452,1032], N6_full_lons[1452,1032]"
   ]
  },
  {
   "cell_type": "code",
   "execution_count": null,
   "metadata": {},
   "outputs": [],
   "source": []
  }
 ],
 "metadata": {
  "kernelspec": {
   "display_name": "Python 3 (ipykernel)",
   "language": "python",
   "name": "python3"
  },
  "language_info": {
   "codemirror_mode": {
    "name": "ipython",
    "version": 3
   },
   "file_extension": ".py",
   "mimetype": "text/x-python",
   "name": "python",
   "nbconvert_exporter": "python",
   "pygments_lexer": "ipython3",
   "version": "3.10.8"
  }
 },
 "nbformat": 4,
 "nbformat_minor": 4
}
