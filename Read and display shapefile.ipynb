{
 "cells": [
  {
   "cell_type": "code",
   "execution_count": 1,
   "id": "1d0e8978",
   "metadata": {},
   "outputs": [
    {
     "name": "stdout",
     "output_type": "stream",
     "text": [
      "Populating the interactive namespace from numpy and matplotlib\n"
     ]
    }
   ],
   "source": [
    "%pylab notebook\n",
    "import cartopy.crs as ccrs\n",
    "#import cartopy.io.shapereader as shpreader\n",
    "import shapely.geometry as sgeom\n",
    "from cartopy.io.shapereader import Reader\n",
    "from cartopy.feature import ShapelyFeature\n",
    "import matplotlib.pyplot as plt"
   ]
  },
  {
   "cell_type": "code",
   "execution_count": 2,
   "id": "da4ce40a",
   "metadata": {},
   "outputs": [],
   "source": [
    "e2n = ccrs.LambertAzimuthalEqualArea(central_latitude=90.0)"
   ]
  },
  {
   "cell_type": "code",
   "execution_count": 3,
   "id": "c9259d79",
   "metadata": {},
   "outputs": [],
   "source": [
    "GISDir = '/Users/mj/GIS_data'\n",
    "fname = '%s/wetlands/GLWD-level1/glwd_1.shp' % GISDir"
   ]
  },
  {
   "cell_type": "code",
   "execution_count": 4,
   "id": "8a3caf07",
   "metadata": {},
   "outputs": [],
   "source": [
    "#geometries = list(Reader(fname).geometries())\n",
    "#e2nGeometries = [e2n.project_geometry(x) for x in Reader(fname).geometries()]"
   ]
  },
  {
   "cell_type": "code",
   "execution_count": 5,
   "id": "ade36173",
   "metadata": {},
   "outputs": [],
   "source": [
    "wetlandFeatures = ShapelyFeature(Reader(fname).geometries(),\n",
    "                                 ccrs.PlateCarree())"
   ]
  },
  {
   "cell_type": "code",
   "execution_count": null,
   "id": "e524a0a8",
   "metadata": {},
   "outputs": [],
   "source": [
    "ax = plt.axes(projection=e2n)\n",
    "ax.set_extent([-3375000.0, -2550000.0, 725000.0, 2025000.0], crs=e2n)\n",
    "#shape_feature = ShapelyFeature(Reader(fname).geometries(), \n",
    "#                               ccrs.PlateCarree(), edgecolor='black')\n",
    "#shape_feature = ShapelyFeature(wetlandFeatures, ccrs.PlateCarree(), edgecolor='black')\n",
    "ax.add_feature(wetlandFeatures, facecolor='red', edgecolor='blue')\n",
    "plt.show()"
   ]
  }
 ],
 "metadata": {
  "kernelspec": {
   "display_name": "Python 3 (ipykernel)",
   "language": "python",
   "name": "python3"
  },
  "language_info": {
   "codemirror_mode": {
    "name": "ipython",
    "version": 3
   },
   "file_extension": ".py",
   "mimetype": "text/x-python",
   "name": "python",
   "nbconvert_exporter": "python",
   "pygments_lexer": "ipython3",
   "version": "3.7.12"
  }
 },
 "nbformat": 4,
 "nbformat_minor": 5
}
