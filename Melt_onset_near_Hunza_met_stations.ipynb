{
 "cells": [
  {
   "cell_type": "code",
   "execution_count": null,
   "metadata": {},
   "outputs": [],
   "source": [
    "%pylab notebook\n",
    "from __future__ import print_function \n",
    "import matplotlib.gridspec as gridspec\n",
    "import matplotlib.pyplot as plt\n",
    "import numpy as np\n",
    "import pandas as pd\n",
    "pd.set_option('display.max_rows', 720)\n",
    "pd.set_option('display.max_columns', 30)"
   ]
  },
  {
   "cell_type": "code",
   "execution_count": null,
   "metadata": {},
   "outputs": [],
   "source": [
    "%cd /Users/brodzik/2017/AGU_Hunza_melt_onset/\n",
    "%ls"
   ]
  },
  {
   "cell_type": "markdown",
   "metadata": {},
   "source": [
    "# Read spreadsheets and clean up headers"
   ]
  },
  {
   "cell_type": "code",
   "execution_count": null,
   "metadata": {
    "scrolled": true
   },
   "outputs": [],
   "source": [
    "station = \"Khunjerab\"\n",
    "#station = \"Ziarat\"\n",
    "if \"Khunjerab\" == station:\n",
    "    file = 'Khunjerabnear_uib50-263.working.xlsx'\n",
    "    station_elevation_m = 4440\n",
    "    df = pd.read_excel(open(file,'rb'), sheetname='pixelUIB50-263glnearKh')\n",
    "    melt_onset = '2003-04-12'\n",
    "    xpgr_range = [-0.05,0.4]\n",
    "elif \"Ziarat\" == station:\n",
    "    file = 'gl_near_ziaratandmet.working.xlsx'\n",
    "    station_elevation_m = 3020\n",
    "    df = pd.read_excel(open(file,'rb'), sheetname='pixel_near_ziaratTb36V2003SIR')\n",
    "    melt_onset = '2003-04-07'\n",
    "    xpgr_range = [-0.02,0.2]\n",
    "\n",
    "# Drop the 1st 2 rows, we don't need them\n",
    "df = df.drop([0,1])\n",
    "\n",
    "# Move the contents of data row 2 into the column headers\n",
    "# and then drop row 2\n",
    "df.columns = df.loc[2].values\n",
    "df = df.drop([2])\n",
    "\n",
    "# Move the df index to the Date_time_utc column\n",
    "df = df.set_index('Date_time_utc')\n",
    "df"
   ]
  },
  {
   "cell_type": "markdown",
   "metadata": {},
   "source": [
    "# Read the Hunza daily discharge data"
   ]
  },
  {
   "cell_type": "code",
   "execution_count": null,
   "metadata": {},
   "outputs": [],
   "source": [
    "dischargeFile = '/Users/brodzik/projects/CHARIS/streamflow/Pakistan/Hunza/hunza_at_dainyor_bridge_daily_timeseries_2003.txt'\n",
    "hunza = pd.read_csv(dischargeFile, header=None, sep='\\s+',\n",
    "                    names=['year', 'month', 'day', 'doy', 'Q', 'dummy'])\n",
    "\n",
    "hunza['Date'] = pd.to_datetime(hunza.year*10000 + hunza.month*100 + hunza.day,format='%Y%m%d')\n",
    "hunza.set_index('Date', drop=True, inplace=True)\n",
    "hunza.drop(['year','month','day', 'doy', 'dummy'], axis=1, inplace=True)\n",
    "hunza"
   ]
  },
  {
   "cell_type": "code",
   "execution_count": null,
   "metadata": {
    "scrolled": false
   },
   "outputs": [],
   "source": [
    "fig = plt.figure(figsize=(8,8))\n",
    "gs = gridspec.GridSpec(3, 1, height_ratios=[3,3,1])\n",
    "\n",
    "#fig, ax = plt.subplots(3, 1, figsize=(8,8))\n",
    "ax0 = plt.subplot(gs[0])\n",
    "ax1 = plt.subplot(gs[1])\n",
    "ax2 = plt.subplot(gs[2])\n",
    "line_36v = df[\"TB_36V_K\"].plot(ax=ax0, color='mediumslateblue', \n",
    "                               label='$T_B$ 36V',\n",
    "                               marker='.', linestyle=':')\n",
    "line_18h = df[\"TB_18H_K\"].plot(ax=ax0, color='peru',\n",
    "                               label='$T_B$ 18H',\n",
    "                               marker='.', linestyle=':')\n",
    "ax0.set_title('Glacier near %s (%d m): $T_B$ and XPGR (2003)' % (\n",
    "    station, station_elevation_m))\n",
    "ax0.set_ylim([150., 300.])\n",
    "ax0.set_xlabel(\"Date\")\n",
    "ax0.set_ylabel(\"$T_B$ ($K$)\")\n",
    "ax0.grid(True)\n",
    "\n",
    "gridlines = ax0.get_xgridlines() + ax0.get_ygridlines()\n",
    "for line in gridlines:\n",
    "    line.set_color('lightgray')\n",
    "    line.set_linestyle(':')\n",
    "\n",
    "# Use a different scale for xpgr trace\n",
    "ax0R = ax0.twinx()\n",
    "line_xpgr = df[\"XPGR\"].plot(ax=ax0R, color='gray', label='XPGR')\n",
    "ax0R.set_ylim(xpgr_range)\n",
    "ax0R.set_ylabel('XPGR', color='gray')\n",
    "ax0R.tick_params('y', colors='gray')\n",
    "\n",
    "# Plot likely melt onset date\n",
    "line_v = ax0R.axvline(pd.to_datetime(melt_onset), \n",
    "                      label='$T_{max} > 0^o C$',\n",
    "                      color='k', linestyle=':', linewidth=3.0)\n",
    "\n",
    "# Combine the legends\n",
    "leftlines, leftlabels = ax0.get_legend_handles_labels()\n",
    "rightlines, rightlabels = ax0R.get_legend_handles_labels()\n",
    "lines = leftlines + rightlines\n",
    "labels = leftlabels + rightlabels\n",
    "\n",
    "ax0.legend(lines, labels, loc='upper right')\n",
    "\n",
    "# Work on middle plot\n",
    "#line_36v = df[\"TB_36V_K\"].plot(ax=ax1, color='mediumslateblue', \n",
    "#                               label='$T_B$ 36V',\n",
    "#                               marker='.', linestyle=':')\n",
    "#line_18h = df[\"TB_18H_K\"].plot(ax=ax1, color='peru',\n",
    "#                               label='$T_B$ 18H',\n",
    "#                               marker='.', linestyle=':')\n",
    "ax1.set_title('Glacier near %s (%d m): DAV and Temperature' % (\n",
    "    station, station_elevation_m))\n",
    "ax1.set_ylim([-30, 60.])\n",
    "ax1.set_xlabel(\"Date\")\n",
    "ax1.set_ylabel(\"Degrees\")\n",
    "ax1.grid(True)\n",
    "\n",
    "gridlines = ax1.get_xgridlines() + ax1.get_ygridlines()\n",
    "for line in gridlines:\n",
    "    line.set_color('lightgray')\n",
    "    line.set_linestyle(':')\n",
    "    \n",
    "# Use degrees (C or K) for right hand axis\n",
    "#ax1R = ax1.twinx()\n",
    "#ax1R.set_ylim([-30., 100.])\n",
    "#ax1R.set_ylabel('Degrees', color='gray')\n",
    "#ax1R.tick_params('y', colors='gray')\n",
    "\n",
    "\n",
    "# Use right hand scale for |DAV|  ---OBE\n",
    "line_dav_36v = df[\"Abs_DAV_36V\"].plot(ax=ax1, \n",
    "                                      color='mediumslateblue',\n",
    "                                      label='|$DAV_{36V}$|')\n",
    "line_dav_18h = df[\"Abs_DAV_18H\"].plot(ax=ax1, \n",
    "                                      color='peru',\n",
    "                                      label='|$DAV_{18H}$|')\n",
    "\n",
    "line_tmax = ax1.plot(df.doy, df.T_max_C, color='r', label=\"T_max\")\n",
    "line_tmin = ax1.plot(df.doy, df.T_min_C, color='b', label=\"T_min\")\n",
    "\n",
    "# Add a line for freezing surface temperature\n",
    "ax1.axhline(color='r', linestyle=\":\")\n",
    "\n",
    "# Plot likely melt onset date\n",
    "line_v = ax1.axvline(pd.to_datetime(melt_onset), \n",
    "                      label='$T_{max} > 0^o C$',\n",
    "                      color='k', linestyle=':', linewidth=3.0)\n",
    "\n",
    "# Combine the legends\n",
    "#leftlines, leftlabels = ax1.get_legend_handles_labels()\n",
    "#rightlines, rightlabels = ax1R.get_legend_handles_labels()\n",
    "#lines = leftlines + rightlines\n",
    "#labels = leftlabels + rightlabels\n",
    "#ax1.legend(lines, labels, loc=\"upper right\")\n",
    "ax1.legend(loc=\"upper right\")\n",
    " \n",
    "# Third plot is Hunza discharge\n",
    "line_Q = hunza[\"Q\"].plot(ax=ax2, color='k', label='Hunza at Dainyor Bridge')\n",
    "ax2.set_title('Measured discharge, Hunza at Dainyor Bridge, 2003')\n",
    "ax2.set_ylabel('Q ($m^3 s^{-1}$)')\n",
    "              \n",
    "fig.tight_layout()\n",
    "outfile = \"/Users/brodzik/2018/EGU/%s_XPGR_DAV_2003_tseries.pdf\" % station\n",
    "plt.savefig(outfile)\n",
    "print(\"Image saved to %s\" % outfile)"
   ]
  },
  {
   "cell_type": "markdown",
   "metadata": {
    "collapsed": true
   },
   "source": [
    "# Now plot min/max station temperature vs. morning/evening CETB"
   ]
  },
  {
   "cell_type": "code",
   "execution_count": null,
   "metadata": {
    "collapsed": true,
    "scrolled": false
   },
   "outputs": [],
   "source": [
    "fig, ax = plt.subplots(1, 1, figsize=(8, 4))\n",
    "\n",
    "# v1.2 correction: M and E are mislabelled\n",
    "# if we repeat this with v1.3, these will be shifted\n",
    "#evening_TB_K = df.TB_36V_midday\n",
    "#morning_TB_K = df.TB_36V_night\n",
    "\n",
    "if 'Khunjerab' == station:\n",
    "    morning_TB_K = df['TB_36V_K'].values[1::2]\n",
    "    evening_TB_K = df['TB_36V_K'].values[::2]\n",
    "elif 'Ziarat' == station:\n",
    "    morning_TB_K = df['TB_36V_night'].values[:365]\n",
    "    evening_TB_K = df['TB_36V_midday'].values[:365]\n",
    "    \n",
    "morning_station_C = df['T_min_C'].values[:365]\n",
    "evening_station_C = df['T_max_C'].values[:365]\n",
    "\n",
    "# T_min_C compared to nighttime TB\n",
    "line_morning = plt.scatter(morning_station_C, morning_TB_K,\n",
    "                           color='b',\n",
    "                           label=\"Station $T_{min}$ vs. Morning $T_B$\")\n",
    "line_evening = plt.scatter(evening_station_C, evening_TB_K,\n",
    "                           color='r',\n",
    "                           label=\"Station $T_{max}$ vs. Evening $T_B$\")\n",
    "ax.set_title('Surface Temperature vs. AMSRE-E near %s (2003)' % station)\n",
    "ax.set_xlim([-30., 30.])\n",
    "ax.set_xlabel(\"Station Temperature ($^oC$)\")\n",
    "ax.set_ylabel(\"37 Vertically-Polarized $T_B$ ($K$)\")\n",
    "ax.grid(True)\n",
    "\n",
    "gridlines = ax.get_xgridlines() + ax.get_ygridlines()\n",
    "for line in gridlines:\n",
    "    line.set_color('lightgray')\n",
    "    line.set_linestyle(':')\n",
    "\n",
    "ax.legend(loc='lower right')\n",
    "\n",
    "   \n",
    "fig.tight_layout()\n",
    "outfile = \"/Users/brodzik/2018/EGU/%s_Surface_vs_TB_2003.pdf\" % station\n",
    "plt.savefig(outfile)\n",
    "print(\"Image saved to %s\" % outfile)"
   ]
  },
  {
   "cell_type": "code",
   "execution_count": null,
   "metadata": {
    "collapsed": true,
    "scrolled": true
   },
   "outputs": [],
   "source": [
    "df.T_min_C.values[:365]\n"
   ]
  },
  {
   "cell_type": "code",
   "execution_count": null,
   "metadata": {
    "collapsed": true
   },
   "outputs": [],
   "source": [
    "df['TB_36V_midday'].values[:365]"
   ]
  },
  {
   "cell_type": "code",
   "execution_count": null,
   "metadata": {
    "collapsed": true,
    "scrolled": true
   },
   "outputs": [],
   "source": [
    "morning"
   ]
  },
  {
   "cell_type": "code",
   "execution_count": null,
   "metadata": {
    "collapsed": true
   },
   "outputs": [],
   "source": [
    "evening"
   ]
  },
  {
   "cell_type": "code",
   "execution_count": null,
   "metadata": {
    "collapsed": true
   },
   "outputs": [],
   "source": [
    "df"
   ]
  },
  {
   "cell_type": "code",
   "execution_count": null,
   "metadata": {
    "collapsed": true
   },
   "outputs": [],
   "source": []
  }
 ],
 "metadata": {
  "kernelspec": {
   "display_name": "Python 2",
   "language": "python",
   "name": "python2"
  },
  "language_info": {
   "codemirror_mode": {
    "name": "ipython",
    "version": 2
   },
   "file_extension": ".py",
   "mimetype": "text/x-python",
   "name": "python",
   "nbconvert_exporter": "python",
   "pygments_lexer": "ipython2",
   "version": "2.7.13"
  }
 },
 "nbformat": 4,
 "nbformat_minor": 2
}
