{
 "cells": [
  {
   "cell_type": "markdown",
   "metadata": {},
   "source": [
    "# Calculate NxN kernel pixel stats on a SIR envi cube file\n",
    "\n",
    "Do this for avg, std, min and max.\n",
    "Currently uses the companion GRD .hdr file, but should really write its own headers."
   ]
  },
  {
   "cell_type": "code",
   "execution_count": 1,
   "metadata": {},
   "outputs": [
    {
     "name": "stdout",
     "output_type": "stream",
     "text": [
      "Populating the interactive namespace from numpy and matplotlib\n"
     ]
    }
   ],
   "source": [
    "%pylab notebook\n",
    "import cetbtools\n",
    "import matplotlib.pyplot as plt\n",
    "import os\n",
    "from osgeo import gdal, gdalconst\n",
    "from osgeo.gdalconst import * \n",
    "import re\n",
    "from shutil import copyfile"
   ]
  },
  {
   "cell_type": "code",
   "execution_count": 13,
   "metadata": {},
   "outputs": [
    {
     "name": "stdout",
     "output_type": "stream",
     "text": [
      "/gpfs/summit/scratch/brodzik/tmp\n",
      "CETB.cubefile.UIB.F13_SSMI-37V-GRD-CSU-v1.3.2009.TB.bin.hdr\n",
      "CETB.cubefile.UIB.F13_SSMI-37V-SIR-CSU-v1.3.2009.TB.bin\n",
      "CETB.cubefile.UIB.F13_SSMI-37V-SIR-CSU-v1.3.2009.TB.bin.hdr\n",
      "CETB.cubefile.WesternUS.AQUA_AMSRE-18V-GRD-RSS-v1.3.2007.TB.bin\n",
      "CETB.cubefile.WesternUS.AQUA_AMSRE-18V-GRD-RSS-v1.3.2007.TB.bin.hdr\n",
      "CETB.cubefile.WesternUS.AQUA_AMSRE-18V-SIR-RSS-v1.3.2007.TB.bin\n",
      "CETB.cubefile.WesternUS.AQUA_AMSRE-18V-SIR-RSS-v1.3.2007.TB.bin.hdr\n",
      "CETB.cubefile.WesternUS.AQUA_AMSRE-36V-GRD-RSS-v1.3.2007.TB.bin\n",
      "CETB.cubefile.WesternUS.AQUA_AMSRE-36V-GRD-RSS-v1.3.2007.TB.bin.hdr\n",
      "CETB.cubefile.WesternUS.AQUA_AMSRE-36V-SIR-RSS-v1.3.2007.TB.bin\n",
      "CETB.cubefile.WesternUS.AQUA_AMSRE-36V-SIR-RSS-v1.3.2007.TB.bin.hdr\n",
      "CETB.cubefile.WesternUS.F13_SSMI-19V-GRD-CSU-v1.3.2007.TB.bin\n",
      "CETB.cubefile.WesternUS.F13_SSMI-19V-GRD-CSU-v1.3.2007.TB.bin.hdr\n",
      "CETB.cubefile.WesternUS.F13_SSMI-19V-SIR-CSU-v1.3.2007.TB.bin\n",
      "CETB.cubefile.WesternUS.F13_SSMI-19V-SIR-CSU-v1.3.2007.TB.bin.hdr\n",
      "CETB.cubefile.WesternUS.F13_SSMI-37V-GRD-CSU-v1.3.2007.TB.bin\n",
      "CETB.cubefile.WesternUS.F13_SSMI-37V-GRD-CSU-v1.3.2007.TB.bin.hdr\n",
      "CETB.cubefile.WesternUS.F13_SSMI-37V-SIR-CSU-v1.3.2007.TB.bin\n",
      "CETB.cubefile.WesternUS.F13_SSMI-37V-SIR-CSU-v1.3.2007.TB.bin.hdr\n",
      "\u001b[0m\u001b[01;34mSIRstats\u001b[0m/\n",
      "\u001b[01;35mtest.SIR-avg-std-min-max.t200.png\u001b[0m\n",
      "\u001b[01;35mtest.SIR-avg-std.t200.png\u001b[0m\n"
     ]
    }
   ],
   "source": [
    "%cd /scratch/summit/brodzik/tmp\n",
    "%ls"
   ]
  },
  {
   "cell_type": "code",
   "execution_count": 3,
   "metadata": {},
   "outputs": [],
   "source": [
    "# Thanks to http://chris35wills.github.io/python-gdal-raster-io/\n",
    "# for inspiration here\n",
    "# The function can be called as follows:\n",
    "# inDs, geotransform = openEnviCube(file_name)\n",
    "def openEnviCube(file_name):\n",
    "    '''\n",
    "    Reads the ENVI cube and returns an object with its data and information\n",
    "    Lack of an ENVI .hdr file will cause this to crash.\n",
    "    '''\n",
    "\n",
    "    inDs = gdal.Open(file_name, GA_ReadOnly)\n",
    "    \n",
    "    if inDs is None:\n",
    "        raise IOError(\n",
    "            \"Could not open file=%s, possibly missing ENVI .hdr file?\" % file_name)\n",
    "    else:\n",
    "        print(\"%s opened successfully\" % file_name)\n",
    "        print('~~~~~~~~~~~~~~')\n",
    "        print('Get image size')\n",
    "        print('~~~~~~~~~~~~~~')\n",
    "        cols = inDs.RasterXSize\n",
    "        rows = inDs.RasterYSize\n",
    "        bands = inDs.RasterCount\n",
    "\n",
    "        print(\"columns: %i\" %cols)\n",
    "        print(\"rows: %i\" %rows)\n",
    "        print(\"bands: %i\" %bands)\n",
    "\n",
    "        print('~~~~~~~~~~~~~~')\n",
    "        print('Get georeference information')\n",
    "        print('~~~~~~~~~~~~~~')\n",
    "        geotransform = inDs.GetGeoTransform()\n",
    "        originX = geotransform[0]\n",
    "        originY = geotransform[3]\n",
    "        pixelWidth = geotransform[1]\n",
    "        pixelHeight = geotransform[5]\n",
    "\n",
    "        print(\"origin x: %i\" %originX)\n",
    "        print(\"origin y: %i\" %originY)\n",
    "        print(\"width: %2.2f\" %pixelWidth)\n",
    "        print(\"height: %2.2f\" %pixelHeight)\n",
    "\n",
    "        return inDs, geotransform"
   ]
  },
  {
   "cell_type": "code",
   "execution_count": 14,
   "metadata": {},
   "outputs": [],
   "source": [
    "#file = './CETB.cubefile.WesternUS.F13_SSMI-37V-SIR-CSU-v1.3.2007.TB.bin'\n",
    "file = './CETB.cubefile.WesternUS.AQUA_AMSRE-18V-SIR-RSS-v1.3.2007.TB.bin'"
   ]
  },
  {
   "cell_type": "code",
   "execution_count": 15,
   "metadata": {},
   "outputs": [
    {
     "name": "stdout",
     "output_type": "stream",
     "text": [
      "./CETB.cubefile.WesternUS.AQUA_AMSRE-18V-SIR-RSS-v1.3.2007.TB.bin opened successfully\n",
      "~~~~~~~~~~~~~~\n",
      "Get image size\n",
      "~~~~~~~~~~~~~~\n",
      "columns: 404\n",
      "rows: 328\n",
      "bands: 730\n",
      "~~~~~~~~~~~~~~\n",
      "Get georeference information\n",
      "~~~~~~~~~~~~~~\n",
      "origin x: 3075001\n",
      "origin y: -6075000\n",
      "width: 3075000.00\n",
      "height: -6250.00\n"
     ]
    }
   ],
   "source": [
    "inDs, geotransform = openEnviCube(file)"
   ]
  },
  {
   "cell_type": "code",
   "execution_count": null,
   "metadata": {},
   "outputs": [],
   "source": [
    "#data, post, geotransform, inDs = ENVI_raster_binary_to_2d_array(file, 2)"
   ]
  },
  {
   "cell_type": "code",
   "execution_count": null,
   "metadata": {},
   "outputs": [],
   "source": [
    "band = inDs.GetRasterBand(2)\n",
    "data = band.ReadAsArray(0, 0, 280, 360)"
   ]
  },
  {
   "cell_type": "code",
   "execution_count": null,
   "metadata": {},
   "outputs": [],
   "source": [
    "np.nanmean(data), np.nanstd(data), np.nanmin(data), np.nanmax(data)"
   ]
  },
  {
   "cell_type": "code",
   "execution_count": 5,
   "metadata": {},
   "outputs": [],
   "source": [
    "# Calculate blocked stats by ksize X ksize blocks\n",
    "# Will ignore values of zero or 60000\n",
    "def getLayerStatsByKernel(data, ksize):\n",
    "    \n",
    "    #print(\"Data min/max = %.2f/%.2f\" % (np.min(data), np.max(data)))\n",
    "    \n",
    "    rows, cols = data.shape\n",
    "    \n",
    "    # Confirm exact block size division\n",
    "    if ((0 != mod(rows, ksize)) or (0 != mod(cols, ksize))):\n",
    "        raise ValueError(\"Data shape must be divisible by ksize.\")\n",
    "\n",
    "    # Allocate arrays for stats\n",
    "    new_rows = int(rows / ksize)\n",
    "    new_cols = int(cols / ksize)\n",
    "    outAvg = np.zeros((new_rows, new_cols))\n",
    "    outStd = np.zeros((new_rows, new_cols))\n",
    "    outMin = np.zeros((new_rows, new_cols))\n",
    "    outMax = np.zeros((new_rows, new_cols))\n",
    "    \n",
    "    # Make a copy, and \n",
    "    # Set values of 0 or 60000 to nan so they get ignored\n",
    "    not_set = data == 0\n",
    "    missing = data == 60000\n",
    "    tmp = data.astype(np.float32)\n",
    "    tmp[not_set] = np.nan\n",
    "    tmp[missing] = np.nan\n",
    "    \n",
    "    # print(\"Temp min/max = %.2f/%.2f\" % (np.nanmin(tmp), np.nanmax(tmp)))\n",
    "    \n",
    "    # Step through the data in ksize X ksize blocks\n",
    "    for x in np.arange(0, cols, ksize):\n",
    "        for y in np.arange(0, rows, ksize):\n",
    "            #print(\"\\nNext block: (x, y)=(%d, %d)\" % (x, y))\n",
    "            view = tmp[y:y+ksize, x:x+ksize]\n",
    "            \n",
    "            new_row = int(y / ksize)\n",
    "            new_col = int(x / ksize)\n",
    "            outAvg[int(y / ksize), int(x / ksize)] = np.nanmean(view)\n",
    "            outStd[int(y / ksize), int(x / ksize)] = np.nanstd(view)\n",
    "            outMin[int(y / ksize), int(x / ksize)] = np.nanmin(view)\n",
    "            outMax[int(y / ksize), int(x / ksize)] = np.nanmax(view)\n",
    "            \n",
    "    return {'avg':outAvg, 'std':outStd, 'min':outMin, 'max':outMax}\n"
   ]
  },
  {
   "cell_type": "code",
   "execution_count": 6,
   "metadata": {},
   "outputs": [],
   "source": [
    "#out = getLayerStatsByKernel(data,8)"
   ]
  },
  {
   "cell_type": "code",
   "execution_count": 7,
   "metadata": {},
   "outputs": [],
   "source": [
    "def prepOutputDir(file):\n",
    "    \n",
    "    # Make an output directory one level down from working file\n",
    "    # Ignore errors if it already exists\n",
    "    outDir = \"%s/%s\" % (os.path.dirname(file), 'SIRstats')\n",
    "    try:                                                                                                                  \n",
    "        os.makedirs(outDir, exist_ok=True)                                                                                                  \n",
    "    except:\n",
    "        raise                                                                                                         \n",
    "\n",
    "    return outDir"
   ]
  },
  {
   "cell_type": "code",
   "execution_count": null,
   "metadata": {},
   "outputs": [],
   "source": [
    "#outDir = prepOutputDir(\"./%s\" % file)\n",
    "#outDir"
   ]
  },
  {
   "cell_type": "code",
   "execution_count": 8,
   "metadata": {},
   "outputs": [],
   "source": [
    "def copyCompanionGRDHdrFile(file, outDir):\n",
    "    \n",
    "    # Make sure there's a companion GRD cubefile hdr that will be used for output\n",
    "    # envi cubes\n",
    "    # This is a workaround for now, really I should just write the 25 km header\n",
    "    src = re.sub(r'-SIR-', '-GRD-', file)\n",
    "    src = re.sub(r'\\.bin', '.bin.hdr', src)\n",
    "    \n",
    "    for ext in ['TBavg25km.bin.hdr', 'TBstd25km.bin.hdr',\n",
    "                'TBmin25km.bin.hdr', 'TBmax25km.bin.hdr']:\n",
    "        dst = \"%s/%s\" % (outDir, os.path.basename(file))\n",
    "        dst = re.sub(r'TB\\.bin', ext, dst)\n",
    "        try:\n",
    "            copyfile(src, dst)\n",
    "        except:\n",
    "            print(\"Error with companion GRD envi header %s\" % outHdrFile)\n",
    "            raise\n",
    "        print(\"Made new envi hdr: %s to %s\" % (src, dst))\n",
    "    "
   ]
  },
  {
   "cell_type": "code",
   "execution_count": 9,
   "metadata": {},
   "outputs": [
    {
     "data": {
      "text/plain": [
       "'./CETB.cubefile.WesternUS.AQUA_AMSRE-36V-SIR-RSS-v1.3.2007.TB.bin'"
      ]
     },
     "execution_count": 9,
     "metadata": {},
     "output_type": "execute_result"
    }
   ],
   "source": [
    "file"
   ]
  },
  {
   "cell_type": "code",
   "execution_count": null,
   "metadata": {},
   "outputs": [],
   "source": [
    "outDir = prepOutputDir(file)\n",
    "copyCompanionGRDHdrFile(file, outDir)"
   ]
  },
  {
   "cell_type": "code",
   "execution_count": 10,
   "metadata": {},
   "outputs": [],
   "source": [
    "def saveCubeData(origFilename, outDir, dataCube, statType):\n",
    "    # statType : str, one of 'avg', 'std', 'min', 'max'\n",
    "    # Save the stats cubes to flat binary files of np.uint16\n",
    "    # which is ENVI data type 12\n",
    "    dataCube = (dataCube + 0.5).astype(np.uint16)\n",
    "    print(\"%s cube type is %s\" % (statType, dataCube.dtype))\n",
    "    print(\"%s cube min/max = %d, %d\" % (statType, \n",
    "                                        np.min(dataCube[dataCube > 0]), \n",
    "                                        np.max(dataCube[dataCube > 0])))\n",
    "    print(\"%s cube dims = %s\" % (statType, str(dataCube.shape)))\n",
    "    outfile = os.path.basename(origFilename)\n",
    "    outfile = re.sub(r'TB\\.bin', 'TB%s25km.bin' % statType, outfile)\n",
    "    outfile = \"%s/%s\" % (outDir, outfile)\n",
    "    dataCube.tofile(outfile)\n",
    "    print(\"Wrote %sCube to %s\" % (statType, outfile))"
   ]
  },
  {
   "cell_type": "code",
   "execution_count": 11,
   "metadata": {},
   "outputs": [],
   "source": [
    "def getCubeStats(file):\n",
    "    \n",
    "    print(\"File: %s\" % file)\n",
    "    \n",
    "    # Open the cubefile\n",
    "    inDs, geotransform = openEnviCube(file)\n",
    "    \n",
    "    # Prep the output directory\n",
    "    outDir = prepOutputDir(file)\n",
    "    \n",
    "    # Make 2 companion GRD Hdr files\n",
    "    copyCompanionGRDHdrFile(file, outDir)\n",
    "    \n",
    "    # stats cubes kernels will depend on scale\n",
    "    ksize = int(-1 * (25000. / geotransform[5]))\n",
    "    print(\"Kernel will be: %d x %d pixels\" % (ksize, ksize))\n",
    "    \n",
    "    # Allocate memory for stats cubes\n",
    "    cols = inDs.RasterXSize\n",
    "    rows = inDs.RasterYSize\n",
    "    bands = inDs.RasterCount\n",
    "    rows25km = int(rows / ksize)\n",
    "    cols25km = int(cols / ksize)\n",
    "    avgCube = np.zeros((bands, rows25km, cols25km))\n",
    "    stdCube = np.zeros((bands, rows25km, cols25km))\n",
    "    minCube = np.zeros((bands, rows25km, cols25km))\n",
    "    maxCube = np.zeros((bands, rows25km, cols25km))\n",
    "    \n",
    "    # Loop through each time slice and calculate stats\n",
    "    for bandnum in np.arange(inDs.RasterCount):\n",
    "    #for bandnum in np.arange(2):\n",
    "        if 0 == mod(bandnum, 100):\n",
    "            print(\"band = %d\" % bandnum)\n",
    "        band = inDs.GetRasterBand(int(bandnum + 1))\n",
    "        data = band.ReadAsArray(0, 0, cols, rows)\n",
    "        out = getLayerStatsByKernel(data, ksize)\n",
    "        avgCube[bandnum, :, :] = out['avg'].copy()\n",
    "        stdCube[bandnum, :, :] = out['std'].copy()\n",
    "        minCube[bandnum, :, :] = out['min'].copy()\n",
    "        maxCube[bandnum, :, :] = out['max'].copy()\n",
    "\n",
    "    saveCubeData(file, outDir, avgCube, 'avg')\n",
    "    saveCubeData(file, outDir, stdCube, 'std')\n",
    "    saveCubeData(file, outDir, minCube, 'min')\n",
    "    saveCubeData(file, outDir, maxCube, 'max')"
   ]
  },
  {
   "cell_type": "code",
   "execution_count": null,
   "metadata": {},
   "outputs": [],
   "source": [
    "%pwd\n",
    "%ls"
   ]
  },
  {
   "cell_type": "code",
   "execution_count": null,
   "metadata": {},
   "outputs": [],
   "source": [
    "file"
   ]
  },
  {
   "cell_type": "code",
   "execution_count": 16,
   "metadata": {
    "scrolled": false
   },
   "outputs": [
    {
     "name": "stdout",
     "output_type": "stream",
     "text": [
      "File: ./CETB.cubefile.WesternUS.AQUA_AMSRE-18V-SIR-RSS-v1.3.2007.TB.bin\n",
      "./CETB.cubefile.WesternUS.AQUA_AMSRE-18V-SIR-RSS-v1.3.2007.TB.bin opened successfully\n",
      "~~~~~~~~~~~~~~\n",
      "Get image size\n",
      "~~~~~~~~~~~~~~\n",
      "columns: 404\n",
      "rows: 328\n",
      "bands: 730\n",
      "~~~~~~~~~~~~~~\n",
      "Get georeference information\n",
      "~~~~~~~~~~~~~~\n",
      "origin x: 3075001\n",
      "origin y: -6075000\n",
      "width: 3075000.00\n",
      "height: -6250.00\n",
      "Made new envi hdr: ./CETB.cubefile.WesternUS.AQUA_AMSRE-18V-GRD-RSS-v1.3.2007.TB.bin.hdr to ./SIRstats/CETB.cubefile.WesternUS.AQUA_AMSRE-18V-SIR-RSS-v1.3.2007.TBavg25km.bin.hdr\n",
      "Made new envi hdr: ./CETB.cubefile.WesternUS.AQUA_AMSRE-18V-GRD-RSS-v1.3.2007.TB.bin.hdr to ./SIRstats/CETB.cubefile.WesternUS.AQUA_AMSRE-18V-SIR-RSS-v1.3.2007.TBstd25km.bin.hdr\n",
      "Made new envi hdr: ./CETB.cubefile.WesternUS.AQUA_AMSRE-18V-GRD-RSS-v1.3.2007.TB.bin.hdr to ./SIRstats/CETB.cubefile.WesternUS.AQUA_AMSRE-18V-SIR-RSS-v1.3.2007.TBmin25km.bin.hdr\n",
      "Made new envi hdr: ./CETB.cubefile.WesternUS.AQUA_AMSRE-18V-GRD-RSS-v1.3.2007.TB.bin.hdr to ./SIRstats/CETB.cubefile.WesternUS.AQUA_AMSRE-18V-SIR-RSS-v1.3.2007.TBmax25km.bin.hdr\n",
      "Kernel will be: 4 x 4 pixels\n",
      "band = 0\n"
     ]
    },
    {
     "name": "stderr",
     "output_type": "stream",
     "text": [
      "/projects/brodzik/miniconda3/envs/cetb/lib/python3.6/site-packages/ipykernel_launcher.py:39: RuntimeWarning: Mean of empty slice\n",
      "/projects/brodzik/miniconda3/envs/cetb/lib/python3.6/site-packages/numpy/lib/nanfunctions.py:1434: RuntimeWarning: Degrees of freedom <= 0 for slice.\n",
      "  keepdims=keepdims)\n",
      "/projects/brodzik/miniconda3/envs/cetb/lib/python3.6/site-packages/ipykernel_launcher.py:41: RuntimeWarning: All-NaN slice encountered\n",
      "/projects/brodzik/miniconda3/envs/cetb/lib/python3.6/site-packages/ipykernel_launcher.py:42: RuntimeWarning: All-NaN slice encountered\n"
     ]
    },
    {
     "name": "stdout",
     "output_type": "stream",
     "text": [
      "band = 100\n",
      "band = 200\n",
      "band = 300\n",
      "band = 400\n",
      "band = 500\n",
      "band = 600\n",
      "band = 700\n",
      "avg cube type is uint16\n",
      "avg cube min/max = 15400, 33876\n",
      "avg cube dims = (730, 82, 101)\n",
      "Wrote avgCube to ./SIRstats/CETB.cubefile.WesternUS.AQUA_AMSRE-18V-SIR-RSS-v1.3.2007.TBavg25km.bin\n",
      "std cube type is uint16\n",
      "std cube min/max = 1, 6580\n",
      "std cube dims = (730, 82, 101)\n",
      "Wrote stdCube to ./SIRstats/CETB.cubefile.WesternUS.AQUA_AMSRE-18V-SIR-RSS-v1.3.2007.TBstd25km.bin\n",
      "min cube type is uint16\n",
      "min cube min/max = 13958, 33876\n",
      "min cube dims = (730, 82, 101)\n",
      "Wrote minCube to ./SIRstats/CETB.cubefile.WesternUS.AQUA_AMSRE-18V-SIR-RSS-v1.3.2007.TBmin25km.bin\n",
      "max cube type is uint16\n",
      "max cube min/max = 15400, 34986\n",
      "max cube dims = (730, 82, 101)\n",
      "Wrote maxCube to ./SIRstats/CETB.cubefile.WesternUS.AQUA_AMSRE-18V-SIR-RSS-v1.3.2007.TBmax25km.bin\n"
     ]
    }
   ],
   "source": [
    "getCubeStats(file)"
   ]
  },
  {
   "cell_type": "code",
   "execution_count": null,
   "metadata": {},
   "outputs": [],
   "source": [
    "%ls -las"
   ]
  },
  {
   "cell_type": "code",
   "execution_count": null,
   "metadata": {},
   "outputs": [],
   "source": [
    "%pwd\n",
    "%ls -las"
   ]
  },
  {
   "cell_type": "code",
   "execution_count": null,
   "metadata": {},
   "outputs": [],
   "source": [
    "origFile = file\n",
    "avgFile = \"./SIRstats/CETB.cubefile.WesternUS.F13_SSMI-19V-SIR-CSU-v1.3.2007.TBavg25km.bin\"\n",
    "stdFile = \"./SIRstats/CETB.cubefile.WesternUS.F13_SSMI-19V-SIR-CSU-v1.3.2007.TBstd25km.bin\"\n",
    "minFile = \"./SIRstats/CETB.cubefile.WesternUS.F13_SSMI-19V-SIR-CSU-v1.3.2007.TBmin25km.bin\"\n",
    "maxFile = \"./SIRstats/CETB.cubefile.WesternUS.F13_SSMI-19V-SIR-CSU-v1.3.2007.TBmax25km.bin\""
   ]
  },
  {
   "cell_type": "code",
   "execution_count": null,
   "metadata": {},
   "outputs": [],
   "source": [
    "origDs, origGeotransform = openEnviCube(origFile)\n",
    "avgDs, avgGeotransform = openEnviCube(avgFile)\n",
    "stdDs, stdGeotransform = openEnviCube(stdFile)\n",
    "minDs, minGeotransform = openEnviCube(minFile)\n",
    "maxDs, maxGeotransform = openEnviCube(maxFile)\n"
   ]
  },
  {
   "cell_type": "code",
   "execution_count": null,
   "metadata": {},
   "outputs": [],
   "source": [
    "# UIB, 3->25\n",
    "#origrows = 280\n",
    "#origcols = 360\n",
    "#outrows = 45\n",
    "#outcols = 35\n",
    "# WesternUS 3->25\n",
    "#origrows = 656\n",
    "#origcols = 808\n",
    "# WesternUS 6->25\n",
    "origrows = 326\n",
    "origcols = 404\n",
    "outrows = 82\n",
    "outcols = 101\n",
    "bandnum = 101\n",
    "origBand = origDs.GetRasterBand(bandnum)\n",
    "origData = origBand.ReadAsArray(0, 0, origcols, origrows)\n",
    "avgBand = avgDs.GetRasterBand(bandnum)\n",
    "avgData = avgBand.ReadAsArray(0, 0, outcols, outrows)\n",
    "stdBand = stdDs.GetRasterBand(bandnum)\n",
    "stdData = stdBand.ReadAsArray(0, 0, outcols, outrows)\n",
    "minBand = minDs.GetRasterBand(bandnum)\n",
    "minData = minBand.ReadAsArray(0, 0, outcols, outrows)\n",
    "maxBand = maxDs.GetRasterBand(bandnum)\n",
    "maxData = maxBand.ReadAsArray(0, 0, outcols, outrows)"
   ]
  },
  {
   "cell_type": "code",
   "execution_count": null,
   "metadata": {
    "scrolled": false
   },
   "outputs": [],
   "source": [
    "ksize = 4\n",
    "fig, ax = plt.subplots(2,3, figsize=(8,6))\n",
    "ax[0,0].imshow(origData/100., cmap=plt.cm.gray, interpolation='None', vmin=np.min(50.), vmax=np.max(300.))\n",
    "ax[0,0].set_title(\"Orig (tidx=%d)\" % (bandnum-1))\n",
    "ax[0,1].imshow(avgData/100., cmap=plt.cm.gray, interpolation='None', vmin=np.min(50.), vmax=np.max(300.))\n",
    "ax[0,1].set_title(\"%dx%d Avg\" % (ksize, ksize))\n",
    "ax[0,2].imshow(stdData/100., cmap=plt.cm.gray, interpolation='None', vmin=np.min(0.), vmax=np.max(5.))\n",
    "ax[0,2].set_title(\"%dx%d Std\" % (ksize, ksize))\n",
    "ax[1,1].imshow(minData/100., cmap=plt.cm.gray, interpolation='None', vmin=np.min(50.), vmax=np.max(300.))\n",
    "ax[1,1].set_title(\"%dx%d Min\" % (ksize, ksize))\n",
    "ax[1,2].imshow(maxData/100., cmap=plt.cm.gray, interpolation='None', vmin=np.min(50.), vmax=np.max(300.))\n",
    "ax[1,2].set_title(\"%dx%d Max\" % (ksize, ksize))\n",
    "plt.tight_layout()\n",
    "fig.savefig(\"./test.SIR-avg-std-min-max.t%03d.png\" % (bandnum-1), dpi=300)\n",
    "\n"
   ]
  },
  {
   "cell_type": "code",
   "execution_count": null,
   "metadata": {},
   "outputs": [],
   "source": [
    "file\n"
   ]
  },
  {
   "cell_type": "code",
   "execution_count": null,
   "metadata": {},
   "outputs": [],
   "source": [
    "testfile = '/this/is/a/file.nc'\n",
    "os.path.basename(testfile)"
   ]
  },
  {
   "cell_type": "code",
   "execution_count": null,
   "metadata": {},
   "outputs": [],
   "source": [
    "outfile = re.sub(\"\", \"abcdef\")"
   ]
  },
  {
   "cell_type": "code",
   "execution_count": null,
   "metadata": {},
   "outputs": [],
   "source": [
    "# Figure out how to write out the cube with appropriate .hdr file \n",
    "# Or just copy the 25 km header?\n",
    "\n"
   ]
  },
  {
   "cell_type": "code",
   "execution_count": null,
   "metadata": {},
   "outputs": [],
   "source": [
    "data.shape"
   ]
  },
  {
   "cell_type": "code",
   "execution_count": null,
   "metadata": {},
   "outputs": [],
   "source": [
    "# Thanks to http://chris35wills.github.io/python-gdal-raster-io/\n",
    "# for inspiration here\n",
    "# The function can be called as follows:\n",
    "# image_array, post, envidata =  ENVI_raster_binary_to_2d_array(file_name, band_num) \n",
    "#\n",
    "# band_num = 0 for first time slice in the file\n",
    "# Notes:\n",
    "# Notice the tuple (geotransform, inDs) - this contains all of your map information \n",
    "# (xy tie points, postings and coordinate system information)\n",
    "# pixelWidth is assumed to be the same as pixelHeight in the above example, therefore \n",
    "# representing the surface posting - if this is not the case for your data then you \n",
    "# must change the returns to suit\n",
    "def ENVI_raster_binary_to_2d_array(file_name, band_num):\n",
    "    '''\n",
    "    Reads band_num layer of 3D cube of ENVI type to a numpy array.\n",
    "    Lack of an ENVI .hdr file will cause this to crash.\n",
    "    '''\n",
    "\n",
    "    inDs = gdal.Open(file_name, GA_ReadOnly)\n",
    "    \n",
    "    if inDs is None:\n",
    "        print(\"Couldn't open this file: %s\" % file_name)\n",
    "        print('\\nPerhaps you need an ENVI .hdr file?')\n",
    "        sys.exit(\"Try again!\")\n",
    "    else:\n",
    "        print(\"%s opened successfully\" % file_name)\n",
    "        print('~~~~~~~~~~~~~~')\n",
    "        print('Get image size')\n",
    "        print('~~~~~~~~~~~~~~')\n",
    "        cols = inDs.RasterXSize\n",
    "        rows = inDs.RasterYSize\n",
    "        bands = inDs.RasterCount\n",
    "\n",
    "        print(\"columns: %i\" %cols)\n",
    "        print(\"rows: %i\" %rows)\n",
    "        print(\"bands: %i\" %bands)\n",
    "\n",
    "        print('~~~~~~~~~~~~~~')\n",
    "        print('Get georeference information')\n",
    "        print('~~~~~~~~~~~~~~')\n",
    "        geotransform = inDs.GetGeoTransform()\n",
    "        originX = geotransform[0]\n",
    "        originY = geotransform[3]\n",
    "        pixelWidth = geotransform[1]\n",
    "        pixelHeight = geotransform[5]\n",
    "\n",
    "        print(\"origin x: %i\" %originX)\n",
    "        print(\"origin y: %i\" %originY)\n",
    "        print(\"width: %2.2f\" %pixelWidth)\n",
    "        print(\"height: %2.2f\" %pixelHeight)\n",
    "\n",
    "        # Set pixel offset.....\n",
    "        print('~~~~~~~~~~~~~~')\n",
    "        print('Convert image to 2D array')\n",
    "        print('~~~~~~~~~~~~~~')\n",
    "        band = inDs.GetRasterBand(band_num + 1)\n",
    "        image_array = band.ReadAsArray(0, 0, cols, rows)\n",
    "        image_array_name = file_name\n",
    "        print(\"image_array data type: %s\" % type(image_array))\n",
    "        print(\"image_array dims: %s\" % str(image_array.shape))\n",
    "        \n",
    "        return image_array, pixelWidth, geotransform, inDs\n"
   ]
  }
 ],
 "metadata": {
  "kernelspec": {
   "display_name": "Python 3",
   "language": "python",
   "name": "python3"
  },
  "language_info": {
   "codemirror_mode": {
    "name": "ipython",
    "version": 3
   },
   "file_extension": ".py",
   "mimetype": "text/x-python",
   "name": "python",
   "nbconvert_exporter": "python",
   "pygments_lexer": "ipython3",
   "version": "3.6.7"
  }
 },
 "nbformat": 4,
 "nbformat_minor": 2
}
