{
 "cells": [
  {
   "cell_type": "code",
   "execution_count": null,
   "metadata": {},
   "outputs": [],
   "source": [
    "%pylab notebook\n",
    "from __future__ import print_function \n",
    "import matplotlib.gridspec as gridspec\n",
    "import matplotlib.pyplot as plt\n",
    "import numpy as np\n",
    "import pandas as pd\n",
    "pd.set_option('display.max_rows', 720)\n",
    "pd.set_option('display.max_columns', 30)"
   ]
  },
  {
   "cell_type": "code",
   "execution_count": null,
   "metadata": {},
   "outputs": [],
   "source": [
    "%cd /Users/brodzik/2018/POLAR2018/\n",
    "%ls"
   ]
  },
  {
   "cell_type": "markdown",
   "metadata": {},
   "source": [
    "# Read spreadsheets and clean up headers"
   ]
  },
  {
   "cell_type": "code",
   "execution_count": null,
   "metadata": {
    "scrolled": true
   },
   "outputs": [],
   "source": [
    "station = \"Khunjerab\"\n",
    "file = 'TbQnew2018.working.xlsx'\n",
    "station_elevation_m = 4440\n",
    "df = pd.read_excel(open(file,'rb'), sheetname='AMSREV1.3_Near Kunjerab2003')\n",
    "melt_onset = '2003-04-12'\n",
    "\n",
    "# Make a new column with just the day fraction part of DOY\n",
    "df['day_fraction'] = [i - int(i) for i in df.DOY.values]\n",
    "\n",
    "# And then add the day fraction to the Date value\n",
    "df['Date'] = [pd.to_datetime(i) + pd.DateOffset(days=j) for i, j in zip(df.Date, df.day_fraction)]\n",
    "\n",
    "# And drop the day_fraction\n",
    "df.drop(['day_fraction'], axis=1, inplace=True)\n",
    "\n",
    "# Move the df index to the Date column\n",
    "df = df.set_index('Date')\n",
    "df = df[['TB: 36 GHZ V (K) 220,44', 'DAV: 36 GHZ V (K)220,44']]\n",
    "df.columns = ['TB_36V_K', 'DAV_36V_K']\n",
    "df"
   ]
  },
  {
   "cell_type": "markdown",
   "metadata": {},
   "source": [
    "# Read the original data from Joan for station min/max temperatures"
   ]
  },
  {
   "cell_type": "code",
   "execution_count": null,
   "metadata": {
    "scrolled": true
   },
   "outputs": [],
   "source": [
    "file = '/Users/brodzik/2017/AGU_Hunza_melt_onset/Khunjerabnear_uib50-263.working.xlsx'\n",
    "t_df = pd.read_excel(open(file,'rb'), sheetname='pixelUIB50-263glnearKh')\n",
    "\n",
    "# Drop the 1st 2 rows, we don't need them\n",
    "t_df = t_df.drop([0,1])\n",
    "\n",
    "# Move the contents of data row 2 into the column headers\n",
    "# and then drop row 2\n",
    "t_df.columns = t_df.loc[2].values\n",
    "t_df = t_df.drop([2])\n",
    "\n",
    "# Move the df index to the Date_time_utc column\n",
    "#df = df.set_index('Date_time_utc')\n",
    "\n",
    "# Just save the station temperatures\n",
    "t_df = t_df[['doy', 'T_min_C', 'T_max_C']]\n",
    "\n",
    "# Move the df index to the Date_time_utc column\n",
    "t_df = t_df.set_index('doy')\n",
    "t_df.T_max_C\n"
   ]
  },
  {
   "cell_type": "markdown",
   "metadata": {},
   "source": [
    "# Read the Hunza daily discharge data"
   ]
  },
  {
   "cell_type": "code",
   "execution_count": null,
   "metadata": {},
   "outputs": [],
   "source": [
    "dischargeFile = '/Users/brodzik/projects/CHARIS/streamflow/Pakistan/Hunza/hunza_at_dainyor_bridge_daily_timeseries_2003.txt'\n",
    "hunza = pd.read_csv(dischargeFile, header=None, sep='\\s+',\n",
    "                    names=['year', 'month', 'day', 'doy', 'Q', 'dummy'])\n",
    "\n",
    "hunza['Date'] = pd.to_datetime(hunza.year*10000 + hunza.month*100 + hunza.day,format='%Y%m%d')\n",
    "hunza.set_index('Date', drop=True, inplace=True)\n",
    "hunza.drop(['year','month','day', 'doy', 'dummy'], axis=1, inplace=True)\n",
    "hunza"
   ]
  },
  {
   "cell_type": "code",
   "execution_count": null,
   "metadata": {
    "collapsed": true
   },
   "outputs": [],
   "source": [
    "melt0 = ['2003-04-12', '2003-04-13']\n",
    "melt1 = ['2003-05-07', '2003-05-09']\n",
    "melt2 = ['2003-05-21', '2003-10-05']"
   ]
  },
  {
   "cell_type": "code",
   "execution_count": null,
   "metadata": {
    "scrolled": false
   },
   "outputs": [],
   "source": [
    "do_annotate = True\n",
    "fig = plt.figure(figsize=(11,8.5))\n",
    "gs = gridspec.GridSpec(3, 1, height_ratios=[3,3,1])\n",
    "\n",
    "ax0 = plt.subplot(gs[0])\n",
    "ax1 = plt.subplot(gs[1])\n",
    "ax2 = plt.subplot(gs[2])\n",
    "line_36v = df[\"TB_36V_K\"].plot(ax=ax0, color='mediumslateblue', \n",
    "                               label='$T_B$ 36V',\n",
    "                               marker='.', linestyle=':')\n",
    "ax0.set_title('Glacier near %s (%d m): $T_B$ (2003)' % (\n",
    "    station, station_elevation_m))\n",
    "ax0.set_ylim([165., 300.])\n",
    "ax0.set_xlabel(\"Date\")\n",
    "ax0.set_ylabel(\"$T_B$ ($K$)\")\n",
    "\n",
    "# Add a line for TB melt threshold\n",
    "ax0.axhline(y=254., color='mediumslateblue', \n",
    "            linestyle=\"-\", \n",
    "            label=\"$T_B$ threshold\")\n",
    "\n",
    "ax0.grid(linestyle=':', color='lightgray')\n",
    "    \n",
    "ax0.legend(loc='upper right')\n",
    "\n",
    "if do_annotate:\n",
    "    ax0.annotate('',\n",
    "                 xy=(pd.to_datetime(melt0[0]), 170.), \n",
    "                 xytext=(pd.to_datetime(melt0[0]), 140.),\n",
    "                 arrowprops=dict(facecolor='orangered', shrink=0.05))\n",
    "    ax0.annotate('',\n",
    "                 xy=(pd.to_datetime(melt1[0]), 170.), \n",
    "                 xytext=(pd.to_datetime(melt1[0]), 140.),\n",
    "                 arrowprops=dict(facecolor='orangered', shrink=0.05))\n",
    "\n",
    "\n",
    "# Work on middle plot\n",
    "line_dav_36v = df[\"DAV_36V_K\"].plot(ax=ax1, \n",
    "                                    color='gray',\n",
    "                                    label='|$DAV_{36V}$|')\n",
    "\n",
    "\n",
    "ax1.set_title('Glacier near %s (%d m): DAV and Station Temperatures' % (\n",
    "    station, station_elevation_m))\n",
    "ax1.set_ylim([-30., 110.])\n",
    "ax1.set_xlabel(\"Date\")\n",
    "ax1.set_ylabel(\"Degrees\")\n",
    "\n",
    "line_tmax = t_df[\"T_max_C\"].plot(ax=ax1,\n",
    "                                 color='green', \n",
    "                                 label=\"T_max\")\n",
    "line_tmin = t_df[\"T_min_C\"].plot(ax=ax1,\n",
    "                                 color='lawngreen', \n",
    "                                 label=\"T_min\")\n",
    "\n",
    "ax1.grid(linestyle=':', color='lightgray') \n",
    "\n",
    "# Add a line for DAV melt threshold\n",
    "ax1.axhline(y=40., color='gray',\n",
    "            linestyle=\"-\", \n",
    "            label=\"$DAV$ threshold\")\n",
    "\n",
    "# Add a line for freezing surface temperature\n",
    "ax1.axhline(color='g', linestyle=\":\", label=\"$T = 0^o C$\")\n",
    "\n",
    "\n",
    "if do_annotate:\n",
    "    ax1.annotate('Early Melt Events', \n",
    "                 xy=(pd.to_datetime(melt0[0]), 100.), \n",
    "                 xytext=(pd.to_datetime(melt0[0]), 130.),\n",
    "                 arrowprops=dict(facecolor='orangered', shrink=0.05),\n",
    "                 fontsize=16,\n",
    "                 color='orangered',\n",
    "                 horizontalalignment='center')\n",
    "    ax1.annotate('', \n",
    "                 xy=(pd.to_datetime(melt1[0]), 100.), \n",
    "                 xytext=(pd.to_datetime(melt1[0]), 130.),\n",
    "                 arrowprops=dict(facecolor='orangered', shrink=0.05),\n",
    "                 fontsize=16,\n",
    "                 color='orangered',\n",
    "                 horizontalalignment='center')\n",
    "\n",
    "\n",
    "\n",
    "# Plot likely melt onset date\n",
    "#line_v = ax1.axvline(pd.to_datetime(melt_onset), \n",
    "#                      label='$T_{max} > 0^o C$',\n",
    "#                      color='k', linestyle=':', linewidth=3.0)\n",
    "\n",
    "ax1.legend(loc=\"upper right\")\n",
    "\n",
    "# Shade grey area for intermittent and ongoing melt periods\n",
    "if do_annotate:\n",
    "    for ax in [ax0, ax1]:\n",
    "        ylim = ax.get_ylim()\n",
    "        for melt in [melt0, melt1, melt2]:\n",
    "            ax.fill_between([pd.to_datetime(melt[0]), pd.to_datetime(melt[1])],\n",
    "                            [ylim[0], ylim[0]], \n",
    "                            [ylim[1], ylim[1]], \n",
    "                            facecolor='lightgray', alpha=0.5)\n",
    "        \n",
    "    ax1.text(pd.to_datetime('2003-07-28'),\n",
    "             95.,\n",
    "             \"High DAV (Melt Season)\",\n",
    "             fontsize=14,\n",
    "             color='orangered',\n",
    "             horizontalalignment='center')\n",
    "    ax1.annotate(s='', \n",
    "                 xy=(pd.to_datetime(melt2[0]), 90.), \n",
    "                 xytext=(pd.to_datetime(melt2[1]), 90.), \n",
    "                 arrowprops=dict(arrowstyle='<->',\n",
    "                                 color='orangered',\n",
    "                                 linewidth=2))\n",
    " \n",
    "# Third plot is Hunza discharge\n",
    "line_Q = hunza[\"Q\"].plot(ax=ax2, color='k', label='Hunza at Dainyor Bridge')\n",
    "ax2.set_title('Measured discharge, Hunza at Dainyor Bridge (1370 m), 2003')\n",
    "ax2.set_ylabel('Q ($m^3 s^{-1}$)')\n",
    "ax2.grid(linestyle=':', color='lightgray')\n",
    "              \n",
    "fig.tight_layout()\n",
    "if do_annotate:\n",
    "    outfile = \"/Users/brodzik/2018/POLAR2018/%s_36V_DAV_2003_tseries.annotation.png\" % station\n",
    "else:\n",
    "    outfile = \"/Users/brodzik/2018/POLAR2018/%s_36V_DAV_2003_tseries.png\" % station\n",
    "#outfile = \"/Users/brodzik/2018/POLAR2018/%s_36V_DAV_2003_tseries.annotation.pdf\" % station\n",
    "plt.savefig(outfile)\n",
    "print(\"Image saved to %s\" % outfile)"
   ]
  },
  {
   "cell_type": "code",
   "execution_count": null,
   "metadata": {},
   "outputs": [],
   "source": [
    "ax1"
   ]
  },
  {
   "cell_type": "code",
   "execution_count": null,
   "metadata": {},
   "outputs": [],
   "source": [
    "ax1.get_ylim()\n"
   ]
  },
  {
   "cell_type": "code",
   "execution_count": null,
   "metadata": {
    "collapsed": true
   },
   "outputs": [],
   "source": []
  }
 ],
 "metadata": {
  "kernelspec": {
   "display_name": "Python 2",
   "language": "python",
   "name": "python2"
  },
  "language_info": {
   "codemirror_mode": {
    "name": "ipython",
    "version": 2
   },
   "file_extension": ".py",
   "mimetype": "text/x-python",
   "name": "python",
   "nbconvert_exporter": "python",
   "pygments_lexer": "ipython2",
   "version": "2.7.13"
  }
 },
 "nbformat": 4,
 "nbformat_minor": 2
}
