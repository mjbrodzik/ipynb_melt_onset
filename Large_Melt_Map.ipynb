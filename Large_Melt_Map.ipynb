{
 "cells": [
  {
   "cell_type": "markdown",
   "metadata": {},
   "source": [
    "this notebook creates two maps that show the Hunza watershed with ESRI imagery\n",
    "- first map overlays the algorithm calculated melt onset dates (MOD) for SIR pixels\n",
    "- second map overlays the algorithm calculated melt onset dates (MOD) for GRD pixels\n",
    "\n",
    "the pixel overlays are simply a scatter plot with rectangular markers and are not using EASE-grid projection"
   ]
  },
  {
   "cell_type": "markdown",
   "metadata": {},
   "source": [
    "## Load in all the modules needed"
   ]
  },
  {
   "cell_type": "code",
   "execution_count": null,
   "metadata": {},
   "outputs": [],
   "source": [
    "%pylab notebook\n",
    "import matplotlib.pyplot as plt\n",
    "from netCDF4 import Dataset, num2date\n",
    "import numpy as np\n",
    "import pandas as pd\n",
    "from cetbtools.ease2conv import Ease2Transform\n",
    "from mpl_toolkits.basemap import Basemap\n",
    "import glob"
   ]
  },
  {
   "cell_type": "code",
   "execution_count": null,
   "metadata": {},
   "outputs": [],
   "source": [
    "# navigate to where scripts are saved\n",
    "% cd /mnt/data3/cetb/ipynb_melt_onset/scripts/"
   ]
  },
  {
   "cell_type": "code",
   "execution_count": null,
   "metadata": {},
   "outputs": [],
   "source": [
    "# load the custom functions\n",
    "from CETB_read_functions import read_Tb\n",
    "from CETB_read_functions import coords\n",
    "from CETB_read_functions import calc_DAV\n",
    "from CETB_read_functions import find_cube_offset\n",
    "from CETB_read_functions import grid_locations_of_subset\n",
    "#from CETB_read_functions import find_UIB_cube_offset\n",
    "#from CETB_read_functions import find_GLaIL_cube_offset\n",
    "#from CETB_read_functions import grid_locations_of_UIB\n",
    "#from CETB_read_functions import grid_locations_of_GLaIL\n",
    "from CETB_algorithms import DAV_MOD\n",
    "from CETB_analysis import MOD_array\n",
    "from CETB_analysis import MOD_array_year"
   ]
  },
  {
   "cell_type": "markdown",
   "metadata": {},
   "source": [
    "## Specify inputs"
   ]
  },
  {
   "cell_type": "code",
   "execution_count": null,
   "metadata": {},
   "outputs": [],
   "source": [
    "#Specify region, satellite, sensor, channel, and image reconstruction algorithm of interest in file name\n",
    "# this notebook will read in 2 CETB datasets so that channels/algorithms/sensors can be compared\n",
    "region='GLaIL'  #make this the same syntax as cubefilenames and sub-directory\n",
    "sat_GRD='F18'   #'AQUA' for AMSRE, 'F13','F14','F15'... for SSMI\n",
    "sat_SIR= 'F18'\n",
    "sensor_GRD='SSMIS'  #'AMSRE', 'SSMI', etc.\n",
    "sensor_SIR='SSMIS'\n",
    "channel_GRD='37V'  #'36V','36H', '18V','18H', etc. '19V','19H' and '37V','37H' for SSMI)\n",
    "channel_SIR='37V'\n",
    "alg_GRD='GRD'   #SIR or GRD\n",
    "alg_SIR='SIR'\n",
    "\n",
    "if sensor_GRD=='SSMIS':\n",
    "    provider='CSU' \n",
    "    version='v1.*' #note need to check for different sensors v1.2, 1.3, 1.4\n",
    "elif sensor_GRD=='AMSRE':\n",
    "    provider='RSS'\n",
    "    version='v1.3'\n",
    "\n",
    "# either change to the directory where the data is or specify it\n",
    "datadir_GRD = '/mnt/data3/cetb/cubes/'+sat_GRD+'_'+sensor_GRD+'/'+region+'/' \n",
    "datadir_SIR = '/mnt/data3/cetb/cubes/'+sat_SIR+'_'+sensor_SIR+'/'+region+'/' \n",
    "\n",
    "# prefix filepath\n",
    "prefix_GRD='CETB.cubefile.'+region+'.'+sat_GRD+'_'+sensor_GRD+'-'+channel_GRD+'-'+alg_GRD+'-'+provider+'-'+version\n",
    "prefix_SIR='CETB.cubefile.'+region+'.'+sat_SIR+'_'+sensor_SIR+'-'+channel_SIR+'-'+alg_SIR+'-'+provider+'-'+version\n",
    "\n",
    "# years for each sensor\n",
    "if sat_GRD=='F13' or sat_SIR=='F13':\n",
    "    Years = [2002,2003,2004,2005,2006,2007,2008,2009]\n",
    "elif sat_GRD=='F14' or sat_SIR=='F14':\n",
    "    Years=[2002,2003,2004,2005,2006,2007,2008]\n",
    "elif sat_GRD=='F15' or sat_SIR=='F15':\n",
    "    Years=[2002,2003,2004,2005,2006,2007,2008,2009,2010,2011]\n",
    "elif sat_GRD=='F18' or sat_SIR=='F18':\n",
    "    Years=[2010,2011,2012,2013,2014,2015,2016,2017,2018,2019]\n",
    "elif sat_GRD=='AQUA' or sat_SIR=='AQUA':\n",
    "    Years=[2003,2004,2005,2006,2007,2008,2009,2010,2011]\n",
    "\n",
    "#Enter a site name for titles of plots\n",
    "Site='Vatnajokull, Iceland'"
   ]
  },
  {
   "cell_type": "code",
   "execution_count": null,
   "metadata": {},
   "outputs": [],
   "source": [
    "# SPECIFY latitude and longitude in decimal degrees, need to choose lat/lon corners so that we will load\n",
    "# in a rectangle of pixels within the corners of these coordinates\n",
    "lat_start=63.75  #35.9\n",
    "lat_end=64.88    #37.1\n",
    "lon_start=-20 #-20 includes katla -18.5vatna    #74\n",
    "lon_end=-15    #76"
   ]
  },
  {
   "cell_type": "code",
   "execution_count": null,
   "metadata": {},
   "outputs": [],
   "source": [
    "# get cube offset for finding row/col\n",
    "# function is region specific\n",
    "find_cube_offset(region,cubeType=None, verbose=False)"
   ]
  },
  {
   "cell_type": "code",
   "execution_count": null,
   "metadata": {},
   "outputs": [],
   "source": [
    "# get the GRD pixel IDs for the lat/lon rectangle chosen\n",
    "rows_cols_GRD=coords(datadir_GRD, prefix_GRD, lat_start, lat_end, lon_start, lon_end)\n",
    "rows_cols_GRD"
   ]
  },
  {
   "cell_type": "code",
   "execution_count": null,
   "metadata": {},
   "outputs": [],
   "source": [
    "# row and col numbers of all the SIR pixels contained by the GRD pixels\n",
    "rows_cols_env=[rows_cols_GRD[0]*8,rows_cols_GRD[1]*8, rows_cols_GRD[2]*8, rows_cols_GRD[3]*8]\n",
    "rows_cols_env"
   ]
  },
  {
   "cell_type": "code",
   "execution_count": null,
   "metadata": {},
   "outputs": [],
   "source": [
    "#testing syntax of subsetting years\n",
    "#Years,Years[9:10]"
   ]
  },
  {
   "cell_type": "code",
   "execution_count": null,
   "metadata": {},
   "outputs": [],
   "source": [
    "# load in SIR TB data\n",
    "subYears=Years\n",
    "#subYears=Years[9:10]\n",
    "#data_SIR=read_Tb(datadir_SIR, prefix_SIR, Years,rows_cols_env[0],rows_cols_env[1],rows_cols_env[2],rows_cols_env[3])\n",
    "CETB_SIR,cal_date,cal_year,cal_month=read_Tb(datadir_SIR, prefix_SIR, subYears,rows_cols_env[0],rows_cols_env[1],rows_cols_env[2],rows_cols_env[3])\n",
    "#CETB_SIR=data_SIR[0]   # 3-D Tb time-series array of TB\n",
    "#cal_date=data_SIR[1]    # 1-D array of dates, these will get passed to later functions\n",
    "#cal_year=data_SIR[2]    # 1-D array of years\n",
    "#cal_month=data_SIR[3]   # 1-D array of months\n",
    "\n",
    "# load GRD Tb data\n",
    "data_GRD=read_Tb(datadir_GRD, prefix_GRD, subYears,rows_cols_GRD[0],rows_cols_GRD[1],rows_cols_GRD[2],rows_cols_GRD[3])\n",
    "CETB_GRD=data_GRD[0]"
   ]
  },
  {
   "cell_type": "code",
   "execution_count": null,
   "metadata": {},
   "outputs": [],
   "source": [
    "# calculate DAV for the Tb data that was imported\n",
    "DAV_SIR=calc_DAV(CETB_SIR)\n",
    "DAV_GRD=calc_DAV(CETB_GRD)"
   ]
  },
  {
   "cell_type": "markdown",
   "metadata": {},
   "source": [
    "## get the latitudes and longitudes of each pixel for plotting"
   ]
  },
  {
   "cell_type": "code",
   "execution_count": null,
   "metadata": {},
   "outputs": [],
   "source": [
    "#Get lat/lon of each pixel in the subset of 64\n",
    "# these get used for plotting over basemap\n",
    "filename=datadir_SIR+prefix_SIR+'.'+str(2019)+'.TB.nc'\t\n",
    "vlist=glob.glob(filename)\n",
    "data=Dataset(vlist[-1], \"r\", format=\"NETCDF4\")\n",
    "\n",
    "lat=data.variables['latitude'] \n",
    "lat=lat[:]\n",
    "lon=data.variables['longitude']\n",
    "lon=lon[:]\n",
    "lat_lon=np.dstack((lat,lon))\n",
    "\n",
    "coordinates=lat_lon[rows_cols_env[0]:rows_cols_env[1],rows_cols_env[2]:rows_cols_env[3]]\n",
    "\n",
    "coordinates=coordinates.reshape(((rows_cols_env[1]-rows_cols_env[0])*(rows_cols_env[3]-rows_cols_env[2])),2)\n",
    "pixel_lats=coordinates[:,0]\n",
    "pixel_lons=coordinates[:,1]\n",
    "\n",
    "pixel_lats"
   ]
  },
  {
   "cell_type": "code",
   "execution_count": null,
   "metadata": {},
   "outputs": [],
   "source": [
    "#Get lat/lon for GRD pixels\n",
    "# similar to SIR above\n",
    "filename=datadir_GRD+prefix_GRD+'.'+str(2019)+'.TB.nc'\t\n",
    "vlist=glob.glob(filename)\n",
    "data=Dataset(vlist[-1], \"r\", format=\"NETCDF4\")\n",
    "\n",
    "lat=data.variables['latitude'] \n",
    "lat=lat[:]\n",
    "lon=data.variables['longitude']\n",
    "lon=lon[:]\n",
    "lat_lon=np.dstack((lat,lon))\n",
    "\n",
    "coordinates=lat_lon[rows_cols_GRD[0]:rows_cols_GRD[1],rows_cols_GRD[2]:rows_cols_GRD[3]]\n",
    "\n",
    "coordinates=coordinates.reshape(((rows_cols_GRD[1]-rows_cols_GRD[0])*(rows_cols_GRD[3]-rows_cols_GRD[2])),2)\n",
    "pixel_lats_GRD=coordinates[:,0]\n",
    "pixel_lons_GRD=coordinates[:,1]\n",
    "\n",
    "pixel_lats_GRD"
   ]
  },
  {
   "cell_type": "code",
   "execution_count": null,
   "metadata": {},
   "outputs": [],
   "source": [
    "#size of array\n",
    "shape(pixel_lats),shape(pixel_lats_GRD)"
   ]
  },
  {
   "cell_type": "markdown",
   "metadata": {},
   "source": [
    "## create arrays of MOD to be used for plotting"
   ]
  },
  {
   "cell_type": "code",
   "execution_count": null,
   "metadata": {
    "scrolled": false
   },
   "outputs": [],
   "source": [
    "# get array of average MODs for SIR pixels for all the years loaded\n",
    "#Colorado (Johnson et al 2020) used 5 times in 7 day window\n",
    "#Patagonia (Monahan and Ramage 2010) and Yukon (Semmens et al 2013?) used 3 times in 5 day window\n",
    "window=10   # window for MOD algorithm, '10' would be 5 days (2 measurements per day)\n",
    "count=3    # number of Tb/DAV exceedances to trigger MOD\n",
    "#From Johnson et al 2020 AMSRE rSIR Tb >= 249 DAV>=13 and AMSRE GRD Tb>=243 DAV>=14\n",
    "#From Johnson et al 2020 SSMI rSIR and GRD Tb>=247 DAV>=10\n",
    "DAV_threshold=10\n",
    "Tb_threshold=247\n",
    "\n",
    "# sir MOD array - MOD will be in day of year (DOY) #changeback to Years for all years\n",
    "MOD_DOY_array=MOD_array(datadir_SIR, prefix_SIR, CETB_SIR, DAV_SIR, rows_cols_env, cal_date, subYears, window, count, DAV_threshold, Tb_threshold)\n",
    "MOD_DOY_array"
   ]
  },
  {
   "cell_type": "code",
   "execution_count": null,
   "metadata": {},
   "outputs": [],
   "source": [
    "# get array of MOD for each pixel SIR - one year of interest\n",
    "#window=10\n",
    "#count=3\n",
    "#DAV_threshold=18\n",
    "#Tb_threshold=252\n",
    "year=2019\n",
    "\n",
    "\n",
    "MOD_DOY_array_year=MOD_array_year(datadir_SIR, prefix_SIR, CETB_SIR, DAV_SIR, rows_cols_env, cal_date, year, window, count, DAV_threshold, Tb_threshold)\n",
    "MOD_DOY_array_year"
   ]
  },
  {
   "cell_type": "code",
   "execution_count": null,
   "metadata": {},
   "outputs": [],
   "source": [
    "# MOD of the GRD pixel - avg all years\n",
    "#window=10\n",
    "#count=3\n",
    "#DAV_threshold=18\n",
    "#Tb_threshold=252\n",
    "\n",
    "MOD_DOY_array_GRD=MOD_array(datadir_GRD, prefix_GRD, CETB_GRD, DAV_GRD, rows_cols_GRD, cal_date, subYears, window, count, DAV_threshold, Tb_threshold)\n",
    "MOD_DOY_array_GRD"
   ]
  },
  {
   "cell_type": "code",
   "execution_count": null,
   "metadata": {},
   "outputs": [],
   "source": [
    "# get MOD for GRD pixel - one year of interest\n",
    "#window=10\n",
    "#count=3\n",
    "#DAV_threshold=18\n",
    "#Tb_threshold=252\n",
    "year=2019\n",
    "MOD_DOY_array_GRD_year=MOD_array_year(datadir_GRD, prefix_GRD, CETB_GRD, DAV_GRD, rows_cols_GRD, cal_date, year, window, count, DAV_threshold, Tb_threshold)\n",
    "MOD_DOY_array_GRD_year"
   ]
  },
  {
   "cell_type": "markdown",
   "metadata": {},
   "source": [
    "## create the maps"
   ]
  },
  {
   "cell_type": "code",
   "execution_count": null,
   "metadata": {},
   "outputs": [],
   "source": [
    "#how to create subplots with basemap (w maps) https://basemaptutorial.readthedocs.io/en/latest/subplots.html"
   ]
  },
  {
   "cell_type": "code",
   "execution_count": null,
   "metadata": {
    "scrolled": false
   },
   "outputs": [],
   "source": [
    "# PLOT the MOD MAP - avg of all years or one year of interest - SIR\n",
    "# Choose plot type - 'year' for one year of interest, 'all' for average of all years\n",
    "plot_type='year'  \n",
    "#plot_type='all'\n",
    "year=2019\n",
    "\n",
    "if plot_type=='all':\n",
    "    array=MOD_DOY_array\n",
    "    title=sensor_SIR+'-'+Site+' - MOD - (Avg DOY '+str(Years[0])+'-'+str(Years[-1])+')'\n",
    "elif plot_type=='year':\n",
    "    array=MOD_DOY_array_year\n",
    "    title=sensor_SIR+'-'+Site+' - MOD - ('+str(year)+' DOY)'\n",
    "\n",
    "fig = plt.figure(figsize=(8,8))\n",
    "# create figure and axes instances\n",
    "#fig = plt.figure()\n",
    "ax = fig.add_axes([0.1,0.1,0.8,0.8])\n",
    "#ax = fig.add_subplot(121)\n",
    "# create polar stereographic Basemap instance.\n",
    "m = Basemap(projection='stere',lon_0=(lon_start+lon_end)/2,lat_0=(lat_start+lat_end)/2,lat_ts=90.,\\\n",
    "            llcrnrlat=(lat_start-.3),urcrnrlat=(lat_end+.5),\\\n",
    "            llcrnrlon=(lon_start-.3),urcrnrlon=(lon_end+.3),\\\n",
    "            rsphere=6371200.,resolution='l',area_thresh=10000, epsg=3857)\n",
    "m.drawcoastlines()\n",
    "m.drawcountries()\n",
    "m.drawstates()\n",
    "#m.etopo(scale=5, alpha=0.7)\n",
    "#m.bluemarble(scale=1)\n",
    "parallels = np.arange(0.,90,0.5)\n",
    "m.drawparallels(parallels,labels=[1,0,0,0],fontsize=10)\n",
    "# draw meridians\n",
    "meridians = np.arange(0,360.,0.5)\n",
    "m.drawmeridians(meridians,labels=[0,0,0,1],fontsize=10)\n",
    "m.arcgisimage(service='World_Physical_Map', xpixels = 1500, verbose= True)\n",
    "\n",
    "#m.readshapefile('/home/mij216/ExploringCETB/IN_Hunza_at_DainyorBridge', 'Hunza', color='red', linewidth=1)\n",
    "m.readshapefile('/mnt/data3/rgi6.0/06_rgi60_Iceland', 'Iceland', color='red', linewidth=1)\n",
    "\n",
    "x,y=m(pixel_lons, pixel_lats)\n",
    "#m.scatter(x,y,c=array, s=30, marker='s',lw=0,cmap='RdBu', alpha=.6) #this line is what was here\n",
    "m.scatter(x,y,c=array, s=30, marker='s',lw=0,cmap='BuPu_r', alpha=.6) # this line is for testing PuOr, rainbow,binary good for Tb\n",
    "plt.title(title)\n",
    "\n",
    "plt.colorbar(label='DOY')\n",
    "plt.clim(75,175)  #color bar limits\n",
    "\n",
    "plt.show()\n",
    "\n",
    "\n",
    "# plot another blank map with no pixel overlay\n",
    "fig = plt.figure(figsize=(8,8))\n",
    "ax = fig.add_axes([0.1,0.1,0.8,0.8])\n",
    "\n",
    "# create polar stereographic Basemap instance.\n",
    "m = Basemap(projection='stere',lon_0=(lon_start+lon_end)/2,lat_0=(lat_start+lat_end)/2,lat_ts=90.,\\\n",
    "            llcrnrlat=(lat_start-.3),urcrnrlat=(lat_end+.5),\\\n",
    "            llcrnrlon=(lon_start-.3),urcrnrlon=(lon_end+.3),\\\n",
    "            rsphere=6371200.,resolution='l',area_thresh=10000, epsg=3857)\n",
    "m.drawcoastlines()\n",
    "m.drawcountries()\n",
    "m.drawstates()\n",
    "#m.etopo(scale=5, alpha=0.7)\n",
    "#m.bluemarble(scale=1)\n",
    "parallels = np.arange(0.,90,0.5)\n",
    "m.drawparallels(parallels,labels=[1,0,0,0],fontsize=10)\n",
    "# draw meridians\n",
    "meridians = np.arange(180.,360.,0.5)\n",
    "m.drawmeridians(meridians,labels=[0,0,0,1],fontsize=10)\n",
    "m.arcgisimage(service='World_Physical_Map', xpixels = 1500, verbose= True)\n",
    "\n",
    "\n",
    "plt.title(title)\n",
    "plt.show()\n"
   ]
  },
  {
   "cell_type": "code",
   "execution_count": null,
   "metadata": {},
   "outputs": [],
   "source": [
    "MOD_DOY_array_GRD"
   ]
  },
  {
   "cell_type": "code",
   "execution_count": null,
   "metadata": {},
   "outputs": [],
   "source": [
    "CETB_SIR"
   ]
  },
  {
   "cell_type": "code",
   "execution_count": null,
   "metadata": {},
   "outputs": [],
   "source": [
    "#color bars here https://matplotlib.org/stable/tutorials/colors/colormaps.html\n",
    "#documentation on basemap https://matplotlib.org/basemap/users/laea.html"
   ]
  },
  {
   "cell_type": "code",
   "execution_count": null,
   "metadata": {},
   "outputs": [],
   "source": [
    "#np.sqrt((1200)/8)^2\n",
    "sGRD=700\n",
    "sSIR=12"
   ]
  },
  {
   "cell_type": "code",
   "execution_count": null,
   "metadata": {},
   "outputs": [],
   "source": [
    "# 2plots left (GRD) and right (SIR)\n",
    "#how do I set up for year vs average all years?\n",
    "#redo basemap to be in easegrid projection EASE2.0\n",
    "fig,axes=plt.subplots(1,2, figsize=(14,5))\n",
    "#min day of year to plot\n",
    "minday=75\n",
    "#max day of year to plot\n",
    "maxday=175\n",
    "# create polar stereographic Basemap instance.\n",
    "axes[0].set_title(\"MOD GRD\")\n",
    "m = Basemap(ax=axes[0],projection='stere',lon_0=(lon_start+lon_end)/2,lat_0=(lat_start+lat_end)/2,lat_ts=90.,\\\n",
    "            llcrnrlat=(lat_start-.3),urcrnrlat=(lat_end+.5),\\\n",
    "            llcrnrlon=(lon_start-.3),urcrnrlon=(lon_end+.3),\\\n",
    "            rsphere=6371200.,resolution='l',area_thresh=10000, epsg=3857)\n",
    "m.drawcoastlines()\n",
    "m.drawcountries()\n",
    "#m.drawstates()\n",
    "#m.etopo(scale=3, alpha=0.7)\n",
    "#m.bluemarble(scale=1)\n",
    "parallels = np.arange(0.,90,0.5)\n",
    "m.drawparallels(parallels,labels=[1,0,0,0],fontsize=10)\n",
    "# draw meridians\n",
    "meridians = np.arange(0,360.,0.5)\n",
    "m.drawmeridians(meridians,labels=[0,0,0,1],fontsize=10)\n",
    "m.arcgisimage(service='World_Physical_Map', xpixels = 1500, verbose= True)\n",
    "\n",
    "#m.readshapefile('/home/mij216/ExploringCETB/IN_Hunza_at_DainyorBridge', 'Hunza', color='red', linewidth=1)\n",
    "m.readshapefile('/mnt/data3/rgi6.0/06_rgi60_Iceland', 'Vatnajokull', color='red', linewidth=1)\n",
    "\n",
    "x,y=m(pixel_lons_GRD, pixel_lats_GRD)\n",
    "im0=m.scatter(x,y,c=MOD_DOY_array_GRD, s=sGRD, marker='s',lw=0,cmap='BuPu_r', alpha=.6, vmin=minday, vmax=maxday) #RdBu, \n",
    "#im0=m.scatter(x,y,c=CETB_SIR, s=1200, marker='s',lw=0,cmap='BuPu_r', alpha=.6) #RdBu, #this didn't work\n",
    "fig.colorbar(im0, ax=axes[0],label='DOY')\n",
    "#plt.clim(75,175)  #color bar limits\n",
    "\n",
    "axes[1].set_title(\"MOD SIR\")\n",
    "m = Basemap(ax=axes[1],projection='stere',lon_0=(lon_start+lon_end)/2,lat_0=(lat_start+lat_end)/2,lat_ts=90.,\\\n",
    "            llcrnrlat=(lat_start-.3),urcrnrlat=(lat_end+.5),\\\n",
    "            llcrnrlon=(lon_start-.3),urcrnrlon=(lon_end+.3),\\\n",
    "            rsphere=6371200.,resolution='l',area_thresh=10000, epsg=3857)\n",
    "m.drawcoastlines()\n",
    "m.drawcountries()\n",
    "#m.drawstates()\n",
    "#m.etopo(scale=3, alpha=0.7)\n",
    "#m.bluemarble(scale=1)\n",
    "parallels = np.arange(0.,90,0.5)\n",
    "m.drawparallels(parallels,labels=[1,0,0,0],fontsize=10)\n",
    "# draw meridians\n",
    "meridians = np.arange(0,360.,0.5)\n",
    "m.drawmeridians(meridians,labels=[0,0,0,1],fontsize=10)\n",
    "m.arcgisimage(service='World_Physical_Map', xpixels = 1500, verbose= True)\n",
    "\n",
    "#m.readshapefile('/home/mij216/ExploringCETB/IN_Hunza_at_DainyorBridge', 'Hunza', color='red', linewidth=1)\n",
    "m.readshapefile('/mnt/data3/rgi6.0/06_rgi60_Iceland', 'Vatnajokull', color='red', linewidth=1)\n",
    "\n",
    "x,y=m(pixel_lons, pixel_lats)\n",
    "im1=m.scatter(x,y,c=MOD_DOY_array, s=sSIR, marker='s',lw=0,cmap='BuPu_r', alpha=.6,vmin=minday,vmax=maxday) #RdBu, \n",
    "fig.colorbar(im1, ax=axes[1],label='DOY')\n",
    "#plt.clim(75,175)  #color bar limits\n",
    "\n",
    "\n",
    "plt.show()"
   ]
  },
  {
   "cell_type": "code",
   "execution_count": null,
   "metadata": {
    "scrolled": false
   },
   "outputs": [],
   "source": [
    "# PLOT the MOD MAP - avg of all years or one year of interest - GRD\n",
    "# Choose plot type - 'year' for one year of interest, 'all' for average of all years\n",
    "plot_type='year'  \n",
    "#plot_type='all'\n",
    "year=2019\n",
    "\n",
    "if plot_type=='all':\n",
    "    array=MOD_DOY_array_GRD\n",
    "    title=sensor_SIR+'-'+Site+' - MOD - (Avg DOY '+str(Years[0])+'-'+str(Years[-1])+')'\n",
    "elif plot_type=='year':\n",
    "    array=MOD_DOY_array_GRD_year\n",
    "    title=sensor_SIR+'-'+Site+' - MOD - ('+str(year)+' DOY)'\n",
    "\n",
    "fig = plt.figure(figsize=(8,8))\n",
    "# create figure and axes instances\n",
    "#fig = plt.figure()\n",
    "ax = fig.add_axes([0.1,0.1,0.8,0.8])\n",
    "#ax = fig.add_subplot(121)\n",
    "# create polar stereographic Basemap instance.\n",
    "m = Basemap(projection='stere',lon_0=(lon_start+lon_end)/2,lat_0=(lat_start+lat_end)/2,lat_ts=90.,\\\n",
    "            llcrnrlat=(lat_start-.3),urcrnrlat=(lat_end+.5),\\\n",
    "            llcrnrlon=(lon_start-.3),urcrnrlon=(lon_end+.3),\\\n",
    "            rsphere=6371200.,resolution='l',area_thresh=10000, epsg=3857)\n",
    "m.drawcoastlines()\n",
    "m.drawcountries()\n",
    "#m.drawstates()\n",
    "#m.etopo(scale=3, alpha=0.7)\n",
    "#m.bluemarble(scale=1)\n",
    "parallels = np.arange(0.,90,0.5)\n",
    "m.drawparallels(parallels,labels=[1,0,0,0],fontsize=10)\n",
    "# draw meridians\n",
    "meridians = np.arange(0,360.,0.5)\n",
    "m.drawmeridians(meridians,labels=[0,0,0,1],fontsize=10)\n",
    "m.arcgisimage(service='World_Physical_Map', xpixels = 1500, verbose= True)\n",
    "\n",
    "#m.readshapefile('/home/mij216/ExploringCETB/IN_Hunza_at_DainyorBridge', 'Hunza', color='red', linewidth=1)\n",
    "m.readshapefile('/mnt/data3/rgi6.0/06_rgi60_Iceland', 'Vatnajokull', color='red', linewidth=1)\n",
    "\n",
    "x,y=m(pixel_lons_GRD, pixel_lats_GRD)\n",
    "m.scatter(x,y,c=array, s=1200, marker='s',lw=0,cmap='BuPu_r', alpha=.6) #RdBu, \n",
    "\n",
    "plt.title(title)\n",
    "\n",
    "plt.colorbar(label='DOY')\n",
    "plt.clim(75,175)  #color bar limits\n",
    "\n",
    "plt.show()\n",
    "\n",
    "\n",
    "# plot another blank map with no pixel overlay\n",
    "fig = plt.figure(figsize=(8,8))\n",
    "ax = fig.add_axes([0.1,0.1,0.8,0.8])\n",
    "\n",
    "# create polar stereographic Basemap instance.\n",
    "m = Basemap(projection='stere',lon_0=(lon_start+lon_end)/2,lat_0=(lat_start+lat_end)/2,lat_ts=90.,\\\n",
    "            llcrnrlat=(lat_start-.3),urcrnrlat=(lat_end+.5),\\\n",
    "            llcrnrlon=(lon_start-.3),urcrnrlon=(lon_end+.3),\\\n",
    "            rsphere=6371200.,resolution='l',area_thresh=10000, epsg=3857)\n",
    "m.drawcoastlines()\n",
    "m.drawcountries()\n",
    "m.drawstates()\n",
    "#m.etopo(scale=5, alpha=0.7)\n",
    "#m.bluemarble(scale=1)\n",
    "parallels = np.arange(0.,90,0.5)\n",
    "m.drawparallels(parallels,labels=[1,0,0,0],fontsize=10)\n",
    "# draw meridians\n",
    "meridians = np.arange(180.,360.,0.5)\n",
    "m.drawmeridians(meridians,labels=[0,0,0,1],fontsize=10)\n",
    "m.arcgisimage(service='World_Physical_Map', xpixels = 1500, verbose= True)\n",
    "#m.readshapefile('/home/mij216/ExploringCETB/IN_Hunza_at_DainyorBridge', 'Hunza', color='red', linewidth=1)\n",
    "m.readshapefile('/mnt/data3/rgi6.0/06_rgi60_Iceland', 'Vatnajokull', color='red', linewidth=1)\n",
    "\n",
    "plt.title(title)\n",
    "plt.show()"
   ]
  },
  {
   "cell_type": "code",
   "execution_count": null,
   "metadata": {},
   "outputs": [],
   "source": [
    "#setup a dataframe so that all the data from ssmi and ssmis are read into one array for long term average\n",
    "#need to decide which sensor has priority when there is overlap\n",
    "#can create a reader that loops through enough sensors to get a full time series \n",
    "#(skip F10- orbit very elliptical and F19 - short)\n",
    "#create that time series for the analysis, save for analysis"
   ]
  },
  {
   "cell_type": "code",
   "execution_count": null,
   "metadata": {},
   "outputs": [],
   "source": [
    "#Add to this\n",
    "#Plot of which pixels have melted as of a specific day"
   ]
  },
  {
   "cell_type": "code",
   "execution_count": null,
   "metadata": {},
   "outputs": [],
   "source": [
    "#figure out refreeze? then from MOD to Freeze, count # of dates with Tb>=threshold (with or without DAV? might depend on site)"
   ]
  },
  {
   "cell_type": "code",
   "execution_count": null,
   "metadata": {},
   "outputs": [],
   "source": [
    "#Add to this\n",
    "#Plot of how many days (or occurrences) experienced melt \n"
   ]
  },
  {
   "cell_type": "code",
   "execution_count": null,
   "metadata": {},
   "outputs": [],
   "source": [
    "#Add to this\n",
    "#Plot of how many short (1-2 occurrences) melt days EMEs prior to the first MOD\n",
    "#From Jan 1 - MOD, Number of days with Tb>= threshold and DAV>= threshold (same thresholds)"
   ]
  }
 ],
 "metadata": {
  "kernelspec": {
   "display_name": "Python 3",
   "language": "python",
   "name": "python3"
  },
  "language_info": {
   "codemirror_mode": {
    "name": "ipython",
    "version": 3
   },
   "file_extension": ".py",
   "mimetype": "text/x-python",
   "name": "python",
   "nbconvert_exporter": "python",
   "pygments_lexer": "ipython3",
   "version": "3.6.5"
  }
 },
 "nbformat": 4,
 "nbformat_minor": 2
}
