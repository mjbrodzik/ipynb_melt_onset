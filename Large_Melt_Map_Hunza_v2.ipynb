{
 "cells": [
  {
   "cell_type": "markdown",
   "metadata": {},
   "source": [
    "this notebook creates two maps that show the Hunza watershed with ESRI imagery\n",
    "- first map overlays the algorithm calculated melt onset dates (MOD) for SIR pixels\n",
    "- second map overlays the algorithm calculated melt onset dates (MOD) for GRD pixels\n",
    "\n",
    "the pixel overlays are simply a scatter plot with rectangular markers and are not using EASE-grid projection"
   ]
  },
  {
   "cell_type": "markdown",
   "metadata": {},
   "source": [
    "## Load in all the modules needed"
   ]
  },
  {
   "cell_type": "code",
   "execution_count": null,
   "metadata": {},
   "outputs": [],
   "source": [
    "%pylab notebook\n",
    "import matplotlib.pyplot as plt\n",
    "from netCDF4 import Dataset, num2date\n",
    "import numpy as np\n",
    "import pandas as pd\n",
    "from cetbtools.ease2conv import Ease2Transform\n",
    "from mpl_toolkits.basemap import Basemap\n",
    "import time"
   ]
  },
  {
   "cell_type": "code",
   "execution_count": null,
   "metadata": {},
   "outputs": [],
   "source": [
    "# navigate to where scripts are saved\n",
    "%cd /projects/brodzik/ipython_notebooks/melt_onset/scripts/\n",
    "%ls"
   ]
  },
  {
   "cell_type": "code",
   "execution_count": null,
   "metadata": {},
   "outputs": [],
   "source": [
    "# load the custom functions\n",
    "from CETB_read_functions import read_Tb\n",
    "from CETB_read_functions import coords\n",
    "from CETB_read_functions import calc_DAV\n",
    "from CETB_read_functions import find_UIB_cube_offset\n",
    "from CETB_read_functions import grid_locations_of_UIB\n",
    "from CETB_algorithms import DAV_MOD\n",
    "from CETB_analysis import MOD_array\n",
    "from CETB_analysis import MOD_array_year"
   ]
  },
  {
   "cell_type": "markdown",
   "metadata": {},
   "source": [
    "## Specify inputs"
   ]
  },
  {
   "cell_type": "code",
   "execution_count": null,
   "metadata": {},
   "outputs": [],
   "source": [
    "#Specify region, satellite, sensor, channel, and image reconstruction algorithm of interest in file name\n",
    "# this notebook will read in 2 CETB datasets so that channels/algorithms/sensors can be compared\n",
    "region='UIB'  #make this the same syntax as cubefilenames and sub-directory\n",
    "platform='AQUA'   #'AQUA' for AMSRE, 'F13','F14','F15'... for SSMI\n",
    "sensor='AMSRE'  #'AMSRE', 'SSMI', etc.\n",
    "channel='36V'  #'36V','36H', '18V','18H', etc. '19V','19H' and '37V','37H' for SSMI)\n",
    "version='v1.3'\n",
    "proj='N'\n",
    "\n",
    "if sensor=='SSMI':\n",
    "    provider='CSU' \n",
    "elif sensor=='AMSRE':\n",
    "    provider='RSS'\n",
    "\n",
    "cubeDir = '/work/PMESDR/CETB_v1.3/%s_%s/%s/cubes_%s/' % (platform, sensor, proj, region)    \n",
    "\n",
    "# prefix filepath\n",
    "prefix_GRD = 'CETB.cubefile.%s.%s_%s-%s-GRD-%s-%s' % (region, platform, sensor, channel, provider, version)\n",
    "prefix_SIR = 'CETB.cubefile.%s.%s_%s-%s-SIR-%s-%s' % (region, platform, sensor, channel, provider, version)\n",
    "\n",
    "# years for each sensor\n",
    "if platform=='F13':\n",
    "    Years = [2002,2003,2004,2005,2006,2007,2008,2009]\n",
    "elif platform=='F14':\n",
    "    Years=[2002,2003,2004,2005,2006,2007,2008]\n",
    "elif platform=='F15':\n",
    "    Years=[2002,2003,2004,2005,2006,2007,2008,2009,2010,2011]\n",
    "elif platform=='AQUA':\n",
    "    Years=[2003,2004,2005,2006,2007,2008,2009,2010,2011]\n",
    "\n",
    "#Enter a site name for titles of plots\n",
    "Site='Hunza'"
   ]
  },
  {
   "cell_type": "code",
   "execution_count": null,
   "metadata": {},
   "outputs": [],
   "source": [
    "# SPECIFY latitude and longitude in decimal degrees, need to choose lat/lon corners so that we will load\n",
    "# in a rectangle of pixels within the corners of these coordinates\n",
    "lat_start=35.9\n",
    "lat_end=37.1\n",
    "lon_start=74\n",
    "lon_end=76"
   ]
  },
  {
   "cell_type": "code",
   "execution_count": null,
   "metadata": {},
   "outputs": [],
   "source": [
    "# get cube offset for finding row/col\n",
    "# function is region specific\n",
    "find_UIB_cube_offset(cubeDir, cubeType=None, verbose=True)"
   ]
  },
  {
   "cell_type": "code",
   "execution_count": null,
   "metadata": {},
   "outputs": [],
   "source": [
    "# get the GRD pixel IDs for the lat/lon rectangle chosen\n",
    "rows_cols_GRD=coords(cubeDir, prefix_GRD, lat_start, lat_end, lon_start, lon_end)\n",
    "rows_cols_GRD"
   ]
  },
  {
   "cell_type": "code",
   "execution_count": null,
   "metadata": {},
   "outputs": [],
   "source": [
    "# row and col numbers of all the SIR pixels contained by the GRD pixels\n",
    "# FIXME: this assumes SIR is 3.125 km data\n",
    "rows_cols_env=[rows_cols_GRD[0]*8,rows_cols_GRD[1]*8, rows_cols_GRD[2]*8, rows_cols_GRD[3]*8]\n",
    "rows_cols_env"
   ]
  },
  {
   "cell_type": "code",
   "execution_count": null,
   "metadata": {},
   "outputs": [],
   "source": [
    "# load in SIR TB data\n",
    "data_SIR=read_Tb(cubeDir, prefix_SIR, Years,rows_cols_env[0],rows_cols_env[1],rows_cols_env[2],rows_cols_env[3])\n",
    "CETB_SIR=data_SIR[0]   # 3-D Tb time-series array of TB\n",
    "cal_date=data_SIR[1]    # 1-D array of dates, these will get passed to later functions\n",
    "cal_year=data_SIR[2]    # 1-D array of years\n",
    "cal_month=data_SIR[3]   # 1-D array of months\n",
    "\n",
    "# load GRD Tb data\n",
    "data_GRD=read_Tb(cubeDir, prefix_GRD, Years,rows_cols_GRD[0],rows_cols_GRD[1],rows_cols_GRD[2],rows_cols_GRD[3])\n",
    "CETB_GRD=data_GRD[0]"
   ]
  },
  {
   "cell_type": "code",
   "execution_count": null,
   "metadata": {},
   "outputs": [],
   "source": [
    "#CETB_SIR.shape, CETB_SIR.dtype, np.nanmin(CETB_SIR), np.nanmax(CETB_SIR)"
   ]
  },
  {
   "cell_type": "code",
   "execution_count": null,
   "metadata": {},
   "outputs": [],
   "source": [
    "# calculate DAV for the Tb data that was imported\n",
    "DAV_SIR=calc_DAV(CETB_SIR)\n",
    "DAV_GRD=calc_DAV(CETB_GRD)"
   ]
  },
  {
   "cell_type": "markdown",
   "metadata": {},
   "source": [
    "## get the latitudes and longitudes of each pixel for plotting"
   ]
  },
  {
   "cell_type": "code",
   "execution_count": null,
   "metadata": {},
   "outputs": [],
   "source": [
    "#Get lat/lon of each pixel in the subset of 64\n",
    "# these get used for plotting over basemap\n",
    "filename=\"%s%s.%4d.TB.nc\" % (cubeDir, prefix_SIR, 2003)\n",
    "data=Dataset(filename, \"r\", format=\"NETCDF4\")\n",
    "\n",
    "lat=data.variables['latitude'] \n",
    "lat=lat[:]\n",
    "lon=data.variables['longitude']\n",
    "lon=lon[:]\n",
    "lat_lon=np.dstack((lat,lon))\n",
    "\n",
    "coordinates=lat_lon[rows_cols_env[0]:rows_cols_env[1],rows_cols_env[2]:rows_cols_env[3]]\n",
    "\n",
    "coordinates=coordinates.reshape(((rows_cols_env[1]-rows_cols_env[0])*(rows_cols_env[3]-rows_cols_env[2])),2)\n",
    "pixel_lats=coordinates[:,0]\n",
    "pixel_lons=coordinates[:,1]\n",
    "\n",
    "pixel_lats"
   ]
  },
  {
   "cell_type": "code",
   "execution_count": null,
   "metadata": {},
   "outputs": [],
   "source": [
    "#Get lat/lon for GRD pixels\n",
    "# similar to SIR above\n",
    "filename=\"%s%s.%4d.TB.nc\" % (cubeDir, prefix_GRD, 2003)\n",
    "data=Dataset(filename, \"r\", format=\"NETCDF4\")\n",
    "\n",
    "lat=data.variables['latitude'] \n",
    "lat=lat[:]\n",
    "lon=data.variables['longitude']\n",
    "lon=lon[:]\n",
    "lat_lon=np.dstack((lat,lon))\n",
    "\n",
    "coordinates=lat_lon[rows_cols_GRD[0]:rows_cols_GRD[1],rows_cols_GRD[2]:rows_cols_GRD[3]]\n",
    "\n",
    "coordinates=coordinates.reshape(((rows_cols_GRD[1]-rows_cols_GRD[0])*(rows_cols_GRD[3]-rows_cols_GRD[2])),2)\n",
    "pixel_lats_GRD=coordinates[:,0]\n",
    "pixel_lons_GRD=coordinates[:,1]\n",
    "\n",
    "pixel_lats_GRD"
   ]
  },
  {
   "cell_type": "markdown",
   "metadata": {},
   "source": [
    "## create arrays of MOD to be used for plotting"
   ]
  },
  {
   "cell_type": "code",
   "execution_count": null,
   "metadata": {},
   "outputs": [],
   "source": [
    "# get array of average MODs for SIR pixels for all the years loaded\n",
    "window=10   # window for MOD algorithm, '10' would be 5 days (2 measurements per day)\n",
    "count=3    # number of Tb/DAV exceedances to trigger MOD\n",
    "DAV_threshold=40\n",
    "Tb_threshold=252\n",
    "year=2003"
   ]
  },
  {
   "cell_type": "code",
   "execution_count": null,
   "metadata": {},
   "outputs": [],
   "source": [
    "Years"
   ]
  },
  {
   "cell_type": "code",
   "execution_count": null,
   "metadata": {
    "scrolled": false
   },
   "outputs": [],
   "source": [
    "# sir MOD array - MOD will be in day of year (DOY)\n",
    "MOD_DOY_array=MOD_array(cubeDir, prefix_SIR, CETB_SIR, DAV_SIR, \n",
    "                        rows_cols_env, cal_date, Years, window, count, DAV_threshold, Tb_threshold)\n",
    "MOD_DOY_array"
   ]
  },
  {
   "cell_type": "code",
   "execution_count": null,
   "metadata": {},
   "outputs": [],
   "source": [
    "# get array of MOD for each pixel SIR - one year of interest\n",
    "#window=10\n",
    "#count=3\n",
    "#DAV_threshold=18\n",
    "#Tb_threshold=252\n",
    "#year=2003\n",
    "\n",
    "t = time.process_time()\n",
    "MOD_DOY_array_year=MOD_array_year(cubeDir, prefix_SIR, CETB_SIR, DAV_SIR, \n",
    "                                  rows_cols_env, cal_date, year, window, count, DAV_threshold, Tb_threshold)\n",
    "elapsed_time = time.process_time() - t\n",
    "MOD_DOY_array_year, elapsed_time"
   ]
  },
  {
   "cell_type": "code",
   "execution_count": null,
   "metadata": {
    "scrolled": false
   },
   "outputs": [],
   "source": [
    "# MOD of the GRD pixel - avg all years\n",
    "#window=10\n",
    "#count=3\n",
    "#DAV_threshold=18\n",
    "#Tb_threshold=252\n",
    "\n",
    "MOD_DOY_array_GRD=MOD_array(cubeDir, prefix_GRD, CETB_GRD, DAV_GRD, \n",
    "                            rows_cols_GRD, cal_date, Years, window, count, DAV_threshold, Tb_threshold)\n",
    "MOD_DOY_array_GRD"
   ]
  },
  {
   "cell_type": "code",
   "execution_count": null,
   "metadata": {},
   "outputs": [],
   "source": [
    "# get MOD for GRD pixel - one year of interest\n",
    "#window=10\n",
    "#count=3\n",
    "#DAV_threshold=18\n",
    "#Tb_threshold=252\n",
    "#year=2003\n",
    "\n",
    "t = time.process_time()\n",
    "\n",
    "MOD_DOY_array_GRD_year=MOD_array_year(cubeDir, prefix_GRD, CETB_GRD, DAV_GRD, \n",
    "                                      rows_cols_GRD, cal_date, year, window, count, DAV_threshold, Tb_threshold)\n",
    "elapsed_time = time.process_time() - t\n",
    "MOD_DOY_array_GRD_year, elapsed_time"
   ]
  },
  {
   "cell_type": "markdown",
   "metadata": {},
   "source": [
    "# Save the original data as produced by Mitch's version"
   ]
  },
  {
   "cell_type": "code",
   "execution_count": null,
   "metadata": {},
   "outputs": [],
   "source": [
    "# Save these arrays to numpy zip\n",
    "outfile = '/projects/brodzik/pmesdr_melt_onset/data/Hunza_MOD.npz'\n",
    "#np.savez(outfile, \n",
    "#         MOD_DOY_array=MOD_DOY_array, \n",
    "#         MOD_DOY_array_year=MOD_DOY_array_year, \n",
    "#         MOD_DOY_array_GRD=MOD_DOY_array_GRD, \n",
    "#         MOD_DOY_array_GRD_year=MOD_DOY_array_GRD_year)\n",
    "npzfile = np.load(outfile)\n",
    "npzfile.files\n",
    "# should return 4 variable names as a dict\n",
    "orig_MOD_DOY_array = npzfile['MOD_DOY_array']\n",
    "orig_MOD_DOY_array_year = npzfile['MOD_DOY_array_year']\n",
    "orig_MOD_DOY_array_GRD = npzfile['MOD_DOY_array_GRD']\n",
    "orig_MOD_DOY_array_GRD_year = npzfile['MOD_DOY_array_GRD_year']\n"
   ]
  },
  {
   "cell_type": "markdown",
   "metadata": {},
   "source": [
    "# Save the new data after my mods to make things fast \n",
    "# and removing the date shift of one day"
   ]
  },
  {
   "cell_type": "code",
   "execution_count": null,
   "metadata": {},
   "outputs": [],
   "source": [
    "# Save these arrays to numpy zip\n",
    "outfile = '/projects/brodzik/pmesdr_melt_onset/data/Hunza_MOD.fast_no_date_shift.npz'\n",
    "np.savez(outfile, \n",
    "         MOD_DOY_array=MOD_DOY_array, \n",
    "         MOD_DOY_array_year=MOD_DOY_array_year, \n",
    "         MOD_DOY_array_GRD=MOD_DOY_array_GRD, \n",
    "         MOD_DOY_array_GRD_year=MOD_DOY_array_GRD_year)\n",
    "#npzfile = np.load(outfile)\n",
    "#npzfile.files\n",
    "# should return 4 variable names as a dict\n",
    "#MOD_DOY_array = npzfile['MOD_DOY_array']\n",
    "#MOD_DOY_array_year = npzfile['MOD_DOY_array_year']\n",
    "#MOD_DOY_array_GRD = npzfile['MOD_DOY_array_GRD']\n",
    "#MOD_DOY_array_GRD_year = npzfile['MOD_DOY_array_GRD_year']\n"
   ]
  },
  {
   "cell_type": "code",
   "execution_count": null,
   "metadata": {},
   "outputs": [],
   "source": [
    "orig_MOD_DOY_array, MOD_DOY_array"
   ]
  },
  {
   "cell_type": "code",
   "execution_count": null,
   "metadata": {},
   "outputs": [],
   "source": [
    "diff = MOD_DOY_array - orig_MOD_DOY_array\n",
    "print(np.nanmin(diff), np.nanmax(diff))"
   ]
  },
  {
   "cell_type": "code",
   "execution_count": null,
   "metadata": {},
   "outputs": [],
   "source": [
    "orig_MOD_DOY_array_year, MOD_DOY_array_year"
   ]
  },
  {
   "cell_type": "code",
   "execution_count": null,
   "metadata": {},
   "outputs": [],
   "source": [
    "diff = MOD_DOY_array_year - orig_MOD_DOY_array_year\n",
    "print(np.nanmin(diff), np.nanmax(diff))"
   ]
  },
  {
   "cell_type": "code",
   "execution_count": null,
   "metadata": {},
   "outputs": [],
   "source": [
    "orig_MOD_DOY_array_GRD, MOD_DOY_array_GRD"
   ]
  },
  {
   "cell_type": "code",
   "execution_count": null,
   "metadata": {},
   "outputs": [],
   "source": [
    "diff = MOD_DOY_array_GRD - orig_MOD_DOY_array_GRD\n",
    "print(np.nanmin(diff), np.nanmax(diff))"
   ]
  },
  {
   "cell_type": "code",
   "execution_count": null,
   "metadata": {},
   "outputs": [],
   "source": [
    "orig_MOD_DOY_array_GRD_year, MOD_DOY_array_GRD_year"
   ]
  },
  {
   "cell_type": "code",
   "execution_count": null,
   "metadata": {},
   "outputs": [],
   "source": [
    "diff = MOD_DOY_array_GRD_year - orig_MOD_DOY_array_GRD_year\n",
    "print(np.nanmin(diff), np.nanmax(diff))"
   ]
  },
  {
   "cell_type": "code",
   "execution_count": null,
   "metadata": {},
   "outputs": [],
   "source": [
    "# Convert the MOD information back to an image for display\n",
    "MOD_DOY_array_GRD.shape, rows_cols_GRD"
   ]
  },
  {
   "cell_type": "code",
   "execution_count": null,
   "metadata": {},
   "outputs": [],
   "source": [
    "MOD_DOY = MOD_DOY_array.reshape((rows_cols_env[1] - rows_cols_env[0],\n",
    "                                 rows_cols_env[3] - rows_cols_env[2]))\n",
    "MOD_DOY_year = MOD_DOY_array_year.reshape((rows_cols_env[1] - rows_cols_env[0],\n",
    "                                           rows_cols_env[3] - rows_cols_env[2]))\n",
    "                                         \n",
    "MOD_DOY_GRD = MOD_DOY_array_GRD.reshape((rows_cols_GRD[1] - rows_cols_GRD[0],\n",
    "                                         rows_cols_GRD[3] - rows_cols_GRD[2]))\n",
    "MOD_DOY_GRD_year = MOD_DOY_array_GRD_year.reshape((rows_cols_GRD[1] - rows_cols_GRD[0],\n",
    "                                                   rows_cols_GRD[3] - rows_cols_GRD[2]))"
   ]
  },
  {
   "cell_type": "code",
   "execution_count": null,
   "metadata": {
    "scrolled": false
   },
   "outputs": [],
   "source": [
    "fig, ax = plt.subplots(2, 2, figsize=(10,6))\n",
    "\n",
    "label = \"SIR Avg MOD (%4d-%4d)\" % (Years[0], Years[-1])\n",
    "im0 = ax[0,0].imshow(np.rot90(MOD_DOY, -1), cmap='RdBu', \n",
    "                    interpolation='None', vmin=np.min(75), vmax=np.max(170), label=label)\n",
    "cbar0 = fig.colorbar(im0, ax=ax[0,0])\n",
    "cbar0.ax.set_ylabel('DOY')\n",
    "ax[0,0].axis('off')\n",
    "ax[0,0].set_title(label)\n",
    "\n",
    "label = \"SIR MOD (%s)\" % year\n",
    "im1 = ax[0,1].imshow(np.rot90(MOD_DOY_year, -1), cmap='RdBu', \n",
    "                    interpolation='None', vmin=np.min(75), vmax=np.max(170), label=label)\n",
    "fig.colorbar(im1, ax=ax[0,1])\n",
    "ax[0,1].axis('off')\n",
    "ax[0,1].set_title(label)\n",
    "\n",
    "label = \"GRD Avg MOD (%4d-%4d)\" % (Years[0], Years[-1])\n",
    "im2 = ax[1,0].imshow(np.rot90(MOD_DOY_GRD, -1), cmap='RdBu', \n",
    "                    interpolation='None', vmin=np.min(75), vmax=np.max(170), label=label)\n",
    "fig.colorbar(im2, ax=ax[1,0])\n",
    "ax[1,0].axis('off')\n",
    "ax[1,0].set_title(label)\n",
    "\n",
    "label = \"GRD MOD (%s)\" % year\n",
    "im3 = ax[1,1].imshow(np.rot90(MOD_DOY_GRD_year, -1), cmap='RdBu', \n",
    "                    interpolation='None', vmin=np.min(75), vmax=np.max(170), label=label)\n",
    "fig.colorbar(im3, ax=ax[1,1])\n",
    "ax[1,1].axis('off')\n",
    "ax[1,1].set_title(label)\n",
    "\n",
    "plt.tight_layout()\n",
    "#fig.savefig(\"./test.SIR-avg-std-min-max.t%03d.png\" % (bandnum-1), dpi=300)"
   ]
  },
  {
   "cell_type": "markdown",
   "metadata": {},
   "source": [
    "## create the maps"
   ]
  },
  {
   "cell_type": "code",
   "execution_count": null,
   "metadata": {
    "scrolled": false
   },
   "outputs": [],
   "source": [
    "# PLOT the MOD MAP - avg of all years or one year of interest - SIR\n",
    "\n",
    "# Choose plot type - 'year' for one year of interest, 'all' for average of all years\n",
    "#plot_type='year'  \n",
    "plot_type='all'\n",
    "\n",
    "#year=2003\n",
    "\n",
    "\n",
    "if plot_type=='all':\n",
    "    array=MOD_DOY_array\n",
    "    title = \"%s-%s - MOD - (Avg DOY %4d-%4d)\" % (platform, Site, Years[0], Years[-1])\n",
    "elif plot_type=='year':\n",
    "    array=MOD_DOY_array_year\n",
    "    title = \"%s-%s - MOD - (%4d DOY)\" % (platform, Site, year)\n",
    "\n",
    "fig = plt.figure(figsize=(8,8))\n",
    "# create figure and axes instances\n",
    "#fig = plt.figure()\n",
    "ax = fig.add_axes([0.1,0.1,0.8,0.8])\n",
    "#ax = fig.add_subplot(121)\n",
    "# create polar stereographic Basemap instance.\n",
    "# Why polar stereo???\n",
    "m = Basemap(projection='stere',lon_0=(lon_start+lon_end)/2,lat_0=(lat_start+lat_end)/2,lat_ts=90.,\\\n",
    "            llcrnrlat=(lat_start-.3),urcrnrlat=(lat_end+.5),\\\n",
    "            llcrnrlon=(lon_start-.3),urcrnrlon=(lon_end+.3),\\\n",
    "            rsphere=6371200.,resolution='l',area_thresh=10000, epsg=3857)\n",
    "m.drawcoastlines()\n",
    "m.drawcountries()\n",
    "m.drawstates()\n",
    "#m.etopo(scale=5, alpha=0.7)\n",
    "#m.bluemarble(scale=1)\n",
    "parallels = np.arange(0.,90,0.5)\n",
    "m.drawparallels(parallels,labels=[1,0,0,0],fontsize=10)\n",
    "# draw meridians\n",
    "meridians = np.arange(0,360.,0.5)\n",
    "m.drawmeridians(meridians,labels=[0,0,0,1],fontsize=10)\n",
    "m.arcgisimage(service='World_Physical_Map', xpixels = 1500, verbose= True)\n",
    "\n",
    "m.readshapefile('/work/charis/ti_model/basins/basin_outlines/IN_Hunza_at_DainyorBridge', 'Hunza', color='red', linewidth=1)\n",
    "\n",
    "x,y=m(pixel_lons, pixel_lats)\n",
    "m.scatter(x,y,c=array, s=30, marker='s',lw=0,cmap='RdBu', alpha=.6)\n",
    "plt.title(title)\n",
    "\n",
    "plt.colorbar(label='DOY')\n",
    "plt.clim(75,175)  #color bar limits\n",
    "\n",
    "plt.show()\n",
    "\n",
    "\n",
    "# plot another blank map with no pixel overlay\n",
    "fig = plt.figure(figsize=(8,8))\n",
    "ax = fig.add_axes([0.1,0.1,0.8,0.8])\n",
    "\n",
    "# create polar stereographic Basemap instance.\n",
    "m = Basemap(projection='stere',lon_0=(lon_start+lon_end)/2,lat_0=(lat_start+lat_end)/2,lat_ts=90.,\\\n",
    "            llcrnrlat=(lat_start-.3),urcrnrlat=(lat_end+.5),\\\n",
    "            llcrnrlon=(lon_start-.3),urcrnrlon=(lon_end+.3),\\\n",
    "            rsphere=6371200.,resolution='l',area_thresh=10000, epsg=3857)\n",
    "m.drawcoastlines()\n",
    "m.drawcountries()\n",
    "m.drawstates()\n",
    "#m.etopo(scale=5, alpha=0.7)\n",
    "#m.bluemarble(scale=1)\n",
    "parallels = np.arange(0.,90,0.5)\n",
    "m.drawparallels(parallels,labels=[1,0,0,0],fontsize=10)\n",
    "# draw meridians\n",
    "meridians = np.arange(180.,360.,0.5)\n",
    "m.drawmeridians(meridians,labels=[0,0,0,1],fontsize=10)\n",
    "m.arcgisimage(service='World_Physical_Map', xpixels = 1500, verbose= True)\n",
    "\n",
    "\n",
    "plt.title(title)\n",
    "plt.show()\n"
   ]
  },
  {
   "cell_type": "code",
   "execution_count": null,
   "metadata": {
    "scrolled": false
   },
   "outputs": [],
   "source": [
    "# PLOT the MOD MAP - avg of all years or one year of interest - GRD\n",
    "# Choose plot type - 'year' for one year of interest, 'all' for average of all years\n",
    "#plot_type='year'  \n",
    "plot_type='all'\n",
    "\n",
    "#year=2003\n",
    "\n",
    "\n",
    "if plot_type=='all':\n",
    "    array=MOD_DOY_array_GRD\n",
    "    title = \"%s-%s - MOD - (Avg DOY %4d-%4d)\" % (platform, Site, Years[0], Years[-1])\n",
    "elif plot_type=='year':\n",
    "    array=MOD_DOY_array_GRD_year\n",
    "    title = \"%s-%s - MOD - (%4d DOY)\" % (platform, Site, year)\n",
    "\n",
    "fig = plt.figure(figsize=(8,8))\n",
    "# create figure and axes instances\n",
    "#fig = plt.figure()\n",
    "ax = fig.add_axes([0.1,0.1,0.8,0.8])\n",
    "#ax = fig.add_subplot(121)\n",
    "# create polar stereographic Basemap instance.\n",
    "m = Basemap(projection='stere',lon_0=(lon_start+lon_end)/2,lat_0=(lat_start+lat_end)/2,lat_ts=90.,\\\n",
    "            llcrnrlat=(lat_start-.3),urcrnrlat=(lat_end+.5),\\\n",
    "            llcrnrlon=(lon_start-.3),urcrnrlon=(lon_end+.3),\\\n",
    "            rsphere=6371200.,resolution='l',area_thresh=10000, epsg=3857)\n",
    "m.drawcoastlines()\n",
    "m.drawcountries()\n",
    "#m.drawstates()\n",
    "#m.etopo(scale=3, alpha=0.7)\n",
    "#m.bluemarble(scale=1)\n",
    "parallels = np.arange(0.,90,0.5)\n",
    "m.drawparallels(parallels,labels=[1,0,0,0],fontsize=10)\n",
    "# draw meridians\n",
    "meridians = np.arange(0,360.,0.5)\n",
    "m.drawmeridians(meridians,labels=[0,0,0,1],fontsize=10)\n",
    "m.arcgisimage(service='World_Physical_Map', xpixels = 1500, verbose= True)\n",
    "\n",
    "m.readshapefile('/work/charis/ti_model/basins/basin_outlines/IN_Hunza_at_DainyorBridge', \n",
    "                'Hunza', color='red', linewidth=1)\n",
    "\n",
    "x,y=m(pixel_lons_GRD, pixel_lats_GRD)\n",
    "m.scatter(x,y,c=array, s=1200, marker='s',lw=0,cmap='RdBu', alpha=.6)\n",
    "\n",
    "plt.title(title)\n",
    "\n",
    "plt.colorbar(label='DOY')\n",
    "plt.clim(75,175)  #color bar limits\n",
    "\n",
    "plt.show()\n",
    "\n",
    "\n",
    "# plot another blank map with no pixel overlay\n",
    "fig = plt.figure(figsize=(8,8))\n",
    "ax = fig.add_axes([0.1,0.1,0.8,0.8])\n",
    "\n",
    "# create polar stereographic Basemap instance.\n",
    "m = Basemap(projection='stere',lon_0=(lon_start+lon_end)/2,lat_0=(lat_start+lat_end)/2,lat_ts=90.,\\\n",
    "            llcrnrlat=(lat_start-.3),urcrnrlat=(lat_end+.5),\\\n",
    "            llcrnrlon=(lon_start-.3),urcrnrlon=(lon_end+.3),\\\n",
    "            rsphere=6371200.,resolution='l',area_thresh=10000, epsg=3857)\n",
    "m.drawcoastlines()\n",
    "m.drawcountries()\n",
    "m.drawstates()\n",
    "#m.etopo(scale=5, alpha=0.7)\n",
    "#m.bluemarble(scale=1)\n",
    "parallels = np.arange(0.,90,0.5)\n",
    "m.drawparallels(parallels,labels=[1,0,0,0],fontsize=10)\n",
    "# draw meridians\n",
    "meridians = np.arange(180.,360.,0.5)\n",
    "m.drawmeridians(meridians,labels=[0,0,0,1],fontsize=10)\n",
    "m.arcgisimage(service='World_Physical_Map', xpixels = 1500, verbose= True)\n",
    "m.readshapefile('/work/charis/ti_model/basins/basin_outlines/IN_Hunza_at_DainyorBridge', \n",
    "                'Hunza', color='red', linewidth=1)\n",
    "\n",
    "plt.title(title)\n",
    "plt.show()"
   ]
  },
  {
   "cell_type": "code",
   "execution_count": null,
   "metadata": {},
   "outputs": [],
   "source": []
  }
 ],
 "metadata": {
  "kernelspec": {
   "display_name": "Python 3",
   "language": "python",
   "name": "python3"
  },
  "language_info": {
   "codemirror_mode": {
    "name": "ipython",
    "version": 3
   },
   "file_extension": ".py",
   "mimetype": "text/x-python",
   "name": "python",
   "nbconvert_exporter": "python",
   "pygments_lexer": "ipython3",
   "version": "3.6.7"
  }
 },
 "nbformat": 4,
 "nbformat_minor": 2
}
