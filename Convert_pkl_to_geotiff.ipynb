{
 "cells": [
  {
   "cell_type": "code",
   "execution_count": null,
   "id": "a6c6fd8f",
   "metadata": {},
   "outputs": [],
   "source": [
    "%pylab notebook\n",
    "# check if a windows machine, it needs special attention\n",
    "# this extra step will bypass an error from mpl_toolkits.basemap\n",
    "import os\n",
    "if os.name == 'nt':\n",
    "    os.environ[\"PROJ_LIB\"] = os.path.join(os.environ[\"CONDA_PREFIX\"], \"Library\", \"share\")\n",
    "    os.environ[\"GDAL_DATA\"] = os.path.join(os.environ[\"CONDA_PREFIX\"], \"Library\", \"share\", \"gdal\")\n",
    "import matplotlib.pyplot as plt\n",
    "from mpl_toolkits.axes_grid1 import make_axes_locatable\n",
    "from netCDF4 import Dataset, num2date\n",
    "import numpy as np\n",
    "from osgeo import gdal, osr   # noqa\n",
    "import pandas as pd\n",
    "from pathlib import Path\n",
    "import re\n",
    "from cetbtools.ease2conv import Ease2Transform\n",
    "from mpl_toolkits.basemap import Basemap\n",
    "import glob\n",
    "from pathlib import Path"
   ]
  },
  {
   "cell_type": "markdown",
   "id": "eed01587",
   "metadata": {},
   "source": [
    "# Read a GRD MOD pkl file with geolocation"
   ]
  },
  {
   "cell_type": "code",
   "execution_count": null,
   "id": "921d52ef",
   "metadata": {},
   "outputs": [],
   "source": [
    "dataDir = Path(Path.home(), 'nsidc0630_v1') # Mariah's PC or Mary Jo's Mac\n",
    "scriptDir = Path(Path.home(), 'ipynb_melt_onset', 'scripts')\n",
    "\n",
    "modsDir = \"%s/MODs\" % dataDir\n",
    "modsDir"
   ]
  },
  {
   "cell_type": "code",
   "execution_count": null,
   "id": "b19a7d12",
   "metadata": {},
   "outputs": [],
   "source": [
    "%cd $scriptDir"
   ]
  },
  {
   "cell_type": "code",
   "execution_count": null,
   "id": "00a626ec",
   "metadata": {},
   "outputs": [],
   "source": [
    "from CETB_write_functions import write_MOD_df_to_geotiff"
   ]
  },
  {
   "cell_type": "code",
   "execution_count": null,
   "id": "b54b30c2",
   "metadata": {},
   "outputs": [],
   "source": [
    "os.chdir(modsDir)\n",
    "gpd = \"EASE2_N3.125km\"\n",
    "modFiles = sort(glob.glob(\"%s-WesternCA*MOD.pkl\" % gpd))\n",
    "modFiles"
   ]
  },
  {
   "cell_type": "code",
   "execution_count": null,
   "id": "1edc041a",
   "metadata": {},
   "outputs": [],
   "source": [
    "fidx = 0\n",
    "MOD_df = pd.read_pickle(modFiles[fidx])"
   ]
  },
  {
   "cell_type": "code",
   "execution_count": null,
   "id": "e92c6c2c",
   "metadata": {},
   "outputs": [],
   "source": [
    "MOD_df"
   ]
  },
  {
   "cell_type": "code",
   "execution_count": null,
   "id": "15b1b792",
   "metadata": {},
   "outputs": [],
   "source": [
    "%pwd"
   ]
  },
  {
   "cell_type": "code",
   "execution_count": null,
   "id": "e60e82e6",
   "metadata": {},
   "outputs": [],
   "source": [
    "outbasename = 'test.bathurst_range'\n",
    "out = write_MOD_df_to_geotiff(MOD_df, gpd, outbasename, verbose=False)"
   ]
  },
  {
   "cell_type": "code",
   "execution_count": null,
   "id": "0bcc96ba",
   "metadata": {},
   "outputs": [],
   "source": [
    "out\n"
   ]
  },
  {
   "cell_type": "code",
   "execution_count": null,
   "id": "a2c3e9b2",
   "metadata": {},
   "outputs": [],
   "source": [
    "files.append('newname.tif')\n",
    "files"
   ]
  },
  {
   "cell_type": "markdown",
   "id": "ba57cedb",
   "metadata": {},
   "source": [
    "# Initialize a grid object for the transformations between lat/lon, row/col and x/y\n",
    "\n",
    "This will depend on whether data are GRD (25 km) or SIR (6.25 or 3.125)"
   ]
  },
  {
   "cell_type": "code",
   "execution_count": null,
   "id": "c5406a5b",
   "metadata": {},
   "outputs": [],
   "source": [
    "from cetbtools import ease2conv\n",
    "grid = ease2conv.Ease2Transform(gridname=gpd)\n"
   ]
  },
  {
   "cell_type": "markdown",
   "id": "cc9aadbf",
   "metadata": {},
   "source": [
    "# Function that takes a column of the original MOD df and reshapes it to a 2D array"
   ]
  },
  {
   "cell_type": "code",
   "execution_count": null,
   "id": "246e9a01",
   "metadata": {},
   "outputs": [],
   "source": [
    "def write_MOD_df_column_to_geotiff(df, column, outfilename, grid, dtype='int16', verbose=False):\n",
    "\n",
    "    nrows = int(df.iloc[-1].row - df.iloc[0].row + 1)\n",
    "    ncols = int(df.iloc[-1].column - df.iloc[0].column + 1)\n",
    "    \n",
    "    # Coerce array data to requested dtype\n",
    "    data = np.array(df[column].values.data).reshape(nrows, ncols)\n",
    "    data = data.astype(dtype)\n",
    "    if verbose:\n",
    "        print('data dtype = %s, nrows = %d, ncols = %d' % \n",
    "              (data.dtype, nrows, ncols),\n",
    "             file=sys.stderr,\n",
    "             flush=True)\n",
    "    \n",
    "    if (\"float32\" == data.dtype):                                                                    \n",
    "        gdal_data_type = gdal.GDT_Float32                                                       \n",
    "    elif (\"int8\" == data.dtype):                                                                  \n",
    "        gdal_data_type = gdal.GDT_Byte                                                          \n",
    "    elif (\"int16\" == data.dtype):                                                                  \n",
    "        gdal_data_type = gdal.GDT_Int16                                                         \n",
    "    else:                                                                                       \n",
    "        print(\"%s : Unrecognized type %s \" %                                                 \n",
    "              (my_name, str(data.dtype)),                                             \n",
    "              file=sys.stderr,                                                                  \n",
    "              flush=True)                                                                       \n",
    "        raise ValueError                                                                        \n",
    "\n",
    "    # Initialize the output driver\n",
    "    # Documentation for raster GTiff driver here: https://gdal.org/drivers/raster/gtiff.html#raster-gtiff\n",
    "    driver = gdal.GetDriverByName(\"GTiff\")                                                      \n",
    "                                                                                                \n",
    "    # use this to control block sizes:\n",
    "    # dest_ds_options = ['COMPRESS=LZW', 'TILED=YES', 'BLOCKXSIZE=256', 'BLOCKYSIZE=256']  \n",
    "    dest_ds_options = ['COMPRESS=LZW']\n",
    "    dest_ds = driver.Create(outfilename, ncols, nrows, 1, gdal_data_type, dest_ds_options)\n",
    "    \n",
    "    # Initialize the projection information                                                     \n",
    "    # The crs.proj4text attribute can also be used here,                                        \n",
    "    # but the srid attribute provides more complete PROJCRS metadata                            \n",
    "    proj = osr.SpatialReference()                                                                                                                   \n",
    "    proj.SetFromUserInput(grid.epsg)                                                             \n",
    "    dest_ds.SetProjection(proj.ExportToWkt())\n",
    "    \n",
    "    # Initialize the grid information (extent and scale)                                        \n",
    "    # Thanks to web page at:                                                                    \n",
    "    # http://geoexamples.blogspot.com/2012/01/                                                  \n",
    "    # creating-files-in-ogr-and-gdal-with.html                                                  \n",
    "    # The geotransform defines the relation between the                                         \n",
    "    # raster coordinates x, y and the                                                           \n",
    "    # geographic coordinates, using the following definition:                                   \n",
    "    # Xgeo = geotransform[0] + Xpixel*geotransform[1] + Yline*geotransform[2]                   \n",
    "    # Ygeo = geotransform[3] + Xpixel*geotransform[4] + Yline*geotransform[5]                   \n",
    "    # The first and fourth parameters define the origin of the upper left pixel                 \n",
    "    # The second and sixth parameters define the pixels size.                                   \n",
    "    # The third and fifth parameters define the rotation of the raster.                         \n",
    "    # Values are meters                                                                         \n",
    "    # The UL information is the center of the UL corner pixel in projected\n",
    "    # coordinates\n",
    "    ULrow, ULcol = grid.geographic_to_grid(df.iloc[0].latitude, df.iloc[0].longitude)\n",
    "    print(ULrow, ULcol)\n",
    "    ULrow = int(ULrow + 0.5)\n",
    "    ULcol = int(ULcol + 0.5)\n",
    "    \n",
    "    map_ULx, map_ULy = grid.grid_to_map(ULrow, ULcol)\n",
    "    print(\"UL: \", ULrow, ULcol, df.iloc[0].latitude, df.iloc[0].longitude, map_ULx, map_ULy)\n",
    "    \n",
    "    LRrow, LRcol = grid.geographic_to_grid(df.iloc[-1].latitude, df.iloc[-1].longitude)\n",
    "    LRrow = int(LRrow + 0.5)\n",
    "    LRcol = int(LRcol + 0.5)\n",
    "    map_LRx, map_LRy = grid.grid_to_map(LRrow, LRcol)\n",
    "    print(\"LR: \", LRrow, LRcol, df.iloc[-1].latitude, df.iloc[-1].longitude, map_LRx, map_LRy)\n",
    "    \n",
    "    # Get the projection scales by dividing the projected extents from UL and LR pixels\n",
    "    # by row/col dimensions\n",
    "    scale_x = (map_LRx - map_ULx) / double(ncols - 1)\n",
    "    scale_y = -1. * (map_ULy - map_LRy) / double(nrows - 1)\n",
    "    print('scale x, y = %f, %f' % (scale_x, scale_y))\n",
    "\n",
    "    cornerULx = map_ULx - (scale_x / 2.)\n",
    "    cornerULy = map_ULy - (scale_y / 2.)\n",
    "    print(\"cornerUL: \", cornerULx, cornerULy)\n",
    "    geotransform = (cornerULx, scale_x, 0., cornerULy, 0., scale_y)                               \n",
    "    dest_ds.SetGeoTransform(geotransform)                                                       \n",
    "    dest_ds.GetRasterBand(1).WriteArray(data) \n",
    "                                                     \n",
    "    dest_ds = None\n",
    "\n",
    "    if verbose:                                                                                 \n",
    "        print(\"\\n%s geotiff image saved to: %s\" %                                          \n",
    "              (str(column), outfilename),                                                 \n",
    "              file=sys.stderr,                                                                  \n",
    "              flush=True)  "
   ]
  },
  {
   "cell_type": "code",
   "execution_count": null,
   "id": "86129f8c",
   "metadata": {},
   "outputs": [],
   "source": [
    "column = 1995\n",
    "outfilename = 'test.tif'\n",
    "write_df_column_to_geotiff(MOD_df, column, outfilename, grid, verbose=True)"
   ]
  },
  {
   "cell_type": "code",
   "execution_count": null,
   "id": "fc86cf90",
   "metadata": {},
   "outputs": [],
   "source": [
    "%pwd\n"
   ]
  },
  {
   "cell_type": "code",
   "execution_count": null,
   "id": "84eba45e",
   "metadata": {},
   "outputs": [],
   "source": [
    "for column in MOD_df:\n",
    "    print('next array is %s' % column)\n",
    "    data = np.array(MOD_df[column].values.data).reshape(nrows, ncols)\n",
    "    print(vals.dtype)"
   ]
  },
  {
   "cell_type": "code",
   "execution_count": null,
   "id": "190ef8c1",
   "metadata": {},
   "outputs": [],
   "source": [
    "data = np.reshape()"
   ]
  }
 ],
 "metadata": {
  "kernelspec": {
   "display_name": "Python 3 (ipykernel)",
   "language": "python",
   "name": "python3"
  },
  "language_info": {
   "codemirror_mode": {
    "name": "ipython",
    "version": 3
   },
   "file_extension": ".py",
   "mimetype": "text/x-python",
   "name": "python",
   "nbconvert_exporter": "python",
   "pygments_lexer": "ipython3",
   "version": "3.7.12"
  }
 },
 "nbformat": 4,
 "nbformat_minor": 5
}
