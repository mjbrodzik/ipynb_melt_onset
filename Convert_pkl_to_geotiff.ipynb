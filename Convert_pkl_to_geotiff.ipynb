{
 "cells": [
  {
   "cell_type": "code",
   "execution_count": 1,
   "id": "a6c6fd8f",
   "metadata": {},
   "outputs": [
    {
     "name": "stdout",
     "output_type": "stream",
     "text": [
      "Populating the interactive namespace from numpy and matplotlib\n"
     ]
    }
   ],
   "source": [
    "%pylab notebook\n",
    "# check if a windows machine, it needs special attention\n",
    "# this extra step will bypass an error from mpl_toolkits.basemap\n",
    "import os\n",
    "if os.name == 'nt':\n",
    "    os.environ[\"PROJ_LIB\"] = os.path.join(os.environ[\"CONDA_PREFIX\"], \"Library\", \"share\")\n",
    "    os.environ[\"GDAL_DATA\"] = os.path.join(os.environ[\"CONDA_PREFIX\"], \"Library\", \"share\", \"gdal\")\n",
    "import matplotlib.pyplot as plt\n",
    "from mpl_toolkits.axes_grid1 import make_axes_locatable\n",
    "from netCDF4 import Dataset, num2date\n",
    "import numpy as np\n",
    "from osgeo import gdal, osr   # noqa\n",
    "import pandas as pd\n",
    "from pathlib import Path\n",
    "import re\n",
    "from cetbtools.ease2conv import Ease2Transform\n",
    "from mpl_toolkits.basemap import Basemap\n",
    "import glob\n",
    "from pathlib import Path"
   ]
  },
  {
   "cell_type": "markdown",
   "id": "eed01587",
   "metadata": {},
   "source": [
    "# Read a GRD MOD pkl file and corresponding lat/lons"
   ]
  },
  {
   "cell_type": "code",
   "execution_count": 2,
   "id": "921d52ef",
   "metadata": {},
   "outputs": [
    {
     "data": {
      "text/plain": [
       "'/Users/mj/nsidc0630_v1/MODs'"
      ]
     },
     "execution_count": 2,
     "metadata": {},
     "output_type": "execute_result"
    }
   ],
   "source": [
    "dataDir = Path(Path.home(), 'nsidc0630_v1') # Mariah's PC or Mary Jo's Mac\n",
    "scriptDir = Path(Path.home(), 'ipynb_melt_onset', 'scripts')\n",
    "\n",
    "modsDir = \"%s/MODs\" % dataDir\n",
    "modsDir"
   ]
  },
  {
   "cell_type": "code",
   "execution_count": 3,
   "id": "b54b30c2",
   "metadata": {},
   "outputs": [
    {
     "data": {
      "text/plain": [
       "array(['WesternCA.bathurst_range.F13.37V.GRD.MOD.pkl',\n",
       "       'WesternCA.bathurst_range.F13.37V.SIR.MOD.pkl'], dtype='<U44')"
      ]
     },
     "execution_count": 3,
     "metadata": {},
     "output_type": "execute_result"
    }
   ],
   "source": [
    "os.chdir(modsDir)\n",
    "modFiles = sort(glob.glob(\"WesternCA*MOD.pkl\"))\n",
    "modFiles"
   ]
  },
  {
   "cell_type": "code",
   "execution_count": 4,
   "id": "1db1e99e",
   "metadata": {},
   "outputs": [
    {
     "data": {
      "text/plain": [
       "array(['WesternCA.bathurst_range.F13.37V.GRD.geolocation.pkl',\n",
       "       'WesternCA.bathurst_range.F13.37V.SIR.geolocation.pkl'],\n",
       "      dtype='<U52')"
      ]
     },
     "execution_count": 4,
     "metadata": {},
     "output_type": "execute_result"
    }
   ],
   "source": [
    "geoFiles = sort(glob.glob(\"WesternCA*geolocation.pkl\"))\n",
    "geoFiles"
   ]
  },
  {
   "cell_type": "code",
   "execution_count": 87,
   "id": "1edc041a",
   "metadata": {},
   "outputs": [],
   "source": [
    "fidx = 0\n",
    "MOD_df = pd.read_pickle(modFiles[fidx])\n",
    "geo_df = pd.read_pickle(geoFiles[fidx])"
   ]
  },
  {
   "cell_type": "code",
   "execution_count": 88,
   "id": "e92c6c2c",
   "metadata": {},
   "outputs": [
    {
     "data": {
      "text/html": [
       "<div>\n",
       "<style scoped>\n",
       "    .dataframe tbody tr th:only-of-type {\n",
       "        vertical-align: middle;\n",
       "    }\n",
       "\n",
       "    .dataframe tbody tr th {\n",
       "        vertical-align: top;\n",
       "    }\n",
       "\n",
       "    .dataframe thead th {\n",
       "        text-align: right;\n",
       "    }\n",
       "</style>\n",
       "<table border=\"1\" class=\"dataframe\">\n",
       "  <thead>\n",
       "    <tr style=\"text-align: right;\">\n",
       "      <th></th>\n",
       "      <th>1995</th>\n",
       "      <th>1996</th>\n",
       "      <th>1997</th>\n",
       "      <th>Avg</th>\n",
       "    </tr>\n",
       "    <tr>\n",
       "      <th>(row,col)</th>\n",
       "      <th></th>\n",
       "      <th></th>\n",
       "      <th></th>\n",
       "      <th></th>\n",
       "    </tr>\n",
       "  </thead>\n",
       "  <tbody>\n",
       "    <tr>\n",
       "      <th>42,7</th>\n",
       "      <td>128.0</td>\n",
       "      <td>108.0</td>\n",
       "      <td>97.0</td>\n",
       "      <td>111.000000</td>\n",
       "    </tr>\n",
       "    <tr>\n",
       "      <th>42,8</th>\n",
       "      <td>129.0</td>\n",
       "      <td>73.0</td>\n",
       "      <td>97.0</td>\n",
       "      <td>99.666667</td>\n",
       "    </tr>\n",
       "    <tr>\n",
       "      <th>42,9</th>\n",
       "      <td>128.0</td>\n",
       "      <td>106.0</td>\n",
       "      <td>105.0</td>\n",
       "      <td>113.000000</td>\n",
       "    </tr>\n",
       "    <tr>\n",
       "      <th>42,10</th>\n",
       "      <td>127.0</td>\n",
       "      <td>73.0</td>\n",
       "      <td>97.0</td>\n",
       "      <td>99.000000</td>\n",
       "    </tr>\n",
       "    <tr>\n",
       "      <th>42,11</th>\n",
       "      <td>127.0</td>\n",
       "      <td>49.0</td>\n",
       "      <td>95.0</td>\n",
       "      <td>90.333333</td>\n",
       "    </tr>\n",
       "    <tr>\n",
       "      <th>...</th>\n",
       "      <td>...</td>\n",
       "      <td>...</td>\n",
       "      <td>...</td>\n",
       "      <td>...</td>\n",
       "    </tr>\n",
       "    <tr>\n",
       "      <th>93,35</th>\n",
       "      <td>NaN</td>\n",
       "      <td>143.0</td>\n",
       "      <td>140.0</td>\n",
       "      <td>141.500000</td>\n",
       "    </tr>\n",
       "    <tr>\n",
       "      <th>93,36</th>\n",
       "      <td>283.0</td>\n",
       "      <td>147.0</td>\n",
       "      <td>140.0</td>\n",
       "      <td>190.000000</td>\n",
       "    </tr>\n",
       "    <tr>\n",
       "      <th>93,37</th>\n",
       "      <td>NaN</td>\n",
       "      <td>142.0</td>\n",
       "      <td>NaN</td>\n",
       "      <td>142.000000</td>\n",
       "    </tr>\n",
       "    <tr>\n",
       "      <th>93,38</th>\n",
       "      <td>NaN</td>\n",
       "      <td>142.0</td>\n",
       "      <td>142.0</td>\n",
       "      <td>142.000000</td>\n",
       "    </tr>\n",
       "    <tr>\n",
       "      <th>93,39</th>\n",
       "      <td>NaN</td>\n",
       "      <td>143.0</td>\n",
       "      <td>141.0</td>\n",
       "      <td>142.000000</td>\n",
       "    </tr>\n",
       "  </tbody>\n",
       "</table>\n",
       "<p>1716 rows × 4 columns</p>\n",
       "</div>"
      ],
      "text/plain": [
       "            1995   1996   1997         Avg\n",
       "(row,col)                                 \n",
       "42,7       128.0  108.0   97.0  111.000000\n",
       "42,8       129.0   73.0   97.0   99.666667\n",
       "42,9       128.0  106.0  105.0  113.000000\n",
       "42,10      127.0   73.0   97.0   99.000000\n",
       "42,11      127.0   49.0   95.0   90.333333\n",
       "...          ...    ...    ...         ...\n",
       "93,35        NaN  143.0  140.0  141.500000\n",
       "93,36      283.0  147.0  140.0  190.000000\n",
       "93,37        NaN  142.0    NaN  142.000000\n",
       "93,38        NaN  142.0  142.0  142.000000\n",
       "93,39        NaN  143.0  141.0  142.000000\n",
       "\n",
       "[1716 rows x 4 columns]"
      ]
     },
     "execution_count": 88,
     "metadata": {},
     "output_type": "execute_result"
    }
   ],
   "source": [
    "MOD_df"
   ]
  },
  {
   "cell_type": "code",
   "execution_count": 89,
   "id": "780fda61",
   "metadata": {},
   "outputs": [
    {
     "data": {
      "text/html": [
       "<div>\n",
       "<style scoped>\n",
       "    .dataframe tbody tr th:only-of-type {\n",
       "        vertical-align: middle;\n",
       "    }\n",
       "\n",
       "    .dataframe tbody tr th {\n",
       "        vertical-align: top;\n",
       "    }\n",
       "\n",
       "    .dataframe thead th {\n",
       "        text-align: right;\n",
       "    }\n",
       "</style>\n",
       "<table border=\"1\" class=\"dataframe\">\n",
       "  <thead>\n",
       "    <tr style=\"text-align: right;\">\n",
       "      <th></th>\n",
       "      <th>42,7</th>\n",
       "      <th>42,8</th>\n",
       "      <th>42,9</th>\n",
       "      <th>42,10</th>\n",
       "      <th>42,11</th>\n",
       "      <th>42,12</th>\n",
       "      <th>42,13</th>\n",
       "      <th>42,14</th>\n",
       "      <th>42,15</th>\n",
       "      <th>42,16</th>\n",
       "      <th>...</th>\n",
       "      <th>93,30</th>\n",
       "      <th>93,31</th>\n",
       "      <th>93,32</th>\n",
       "      <th>93,33</th>\n",
       "      <th>93,34</th>\n",
       "      <th>93,35</th>\n",
       "      <th>93,36</th>\n",
       "      <th>93,37</th>\n",
       "      <th>93,38</th>\n",
       "      <th>93,39</th>\n",
       "    </tr>\n",
       "  </thead>\n",
       "  <tbody>\n",
       "    <tr>\n",
       "      <th>Latitude</th>\n",
       "      <td>54.298965</td>\n",
       "      <td>54.50116</td>\n",
       "      <td>54.702831</td>\n",
       "      <td>54.903973</td>\n",
       "      <td>55.104580</td>\n",
       "      <td>55.304648</td>\n",
       "      <td>55.504171</td>\n",
       "      <td>55.703143</td>\n",
       "      <td>55.901558</td>\n",
       "      <td>56.099410</td>\n",
       "      <td>...</td>\n",
       "      <td>63.943685</td>\n",
       "      <td>64.166094</td>\n",
       "      <td>64.388264</td>\n",
       "      <td>64.610192</td>\n",
       "      <td>64.831876</td>\n",
       "      <td>65.053314</td>\n",
       "      <td>65.274502</td>\n",
       "      <td>65.495438</td>\n",
       "      <td>65.716120</td>\n",
       "      <td>65.936544</td>\n",
       "    </tr>\n",
       "    <tr>\n",
       "      <th>Longitude</th>\n",
       "      <td>-120.901070</td>\n",
       "      <td>-121.08982</td>\n",
       "      <td>-121.280655</td>\n",
       "      <td>-121.473605</td>\n",
       "      <td>-121.668703</td>\n",
       "      <td>-121.865978</td>\n",
       "      <td>-122.065463</td>\n",
       "      <td>-122.267190</td>\n",
       "      <td>-122.471192</td>\n",
       "      <td>-122.677503</td>\n",
       "      <td>...</td>\n",
       "      <td>-104.819418</td>\n",
       "      <td>-104.947552</td>\n",
       "      <td>-105.077870</td>\n",
       "      <td>-105.210426</td>\n",
       "      <td>-105.345277</td>\n",
       "      <td>-105.482482</td>\n",
       "      <td>-105.622100</td>\n",
       "      <td>-105.764195</td>\n",
       "      <td>-105.908832</td>\n",
       "      <td>-106.056077</td>\n",
       "    </tr>\n",
       "  </tbody>\n",
       "</table>\n",
       "<p>2 rows × 1716 columns</p>\n",
       "</div>"
      ],
      "text/plain": [
       "                 42,7       42,8        42,9       42,10       42,11  \\\n",
       "Latitude    54.298965   54.50116   54.702831   54.903973   55.104580   \n",
       "Longitude -120.901070 -121.08982 -121.280655 -121.473605 -121.668703   \n",
       "\n",
       "                42,12       42,13       42,14       42,15       42,16  ...  \\\n",
       "Latitude    55.304648   55.504171   55.703143   55.901558   56.099410  ...   \n",
       "Longitude -121.865978 -122.065463 -122.267190 -122.471192 -122.677503  ...   \n",
       "\n",
       "                93,30       93,31       93,32       93,33       93,34  \\\n",
       "Latitude    63.943685   64.166094   64.388264   64.610192   64.831876   \n",
       "Longitude -104.819418 -104.947552 -105.077870 -105.210426 -105.345277   \n",
       "\n",
       "                93,35       93,36       93,37       93,38       93,39  \n",
       "Latitude    65.053314   65.274502   65.495438   65.716120   65.936544  \n",
       "Longitude -105.482482 -105.622100 -105.764195 -105.908832 -106.056077  \n",
       "\n",
       "[2 rows x 1716 columns]"
      ]
     },
     "execution_count": 89,
     "metadata": {},
     "output_type": "execute_result"
    }
   ],
   "source": [
    "geo_df"
   ]
  },
  {
   "cell_type": "markdown",
   "id": "adcf7440",
   "metadata": {},
   "source": [
    "# Merge the MOD df with the geolocation information df"
   ]
  },
  {
   "cell_type": "code",
   "execution_count": 71,
   "id": "d85fdd84",
   "metadata": {},
   "outputs": [],
   "source": [
    "def parse_row_col(s):\n",
    "    return [int(str) for str in s.split(',')]"
   ]
  },
  {
   "cell_type": "code",
   "execution_count": 90,
   "id": "aa597aa6",
   "metadata": {},
   "outputs": [],
   "source": [
    "def merge_MOD_and_geo_dfs(MOD_df, geo_df, verbose=False):\n",
    "\n",
    "    # Put lat/lon into new columns\n",
    "    tmp = geo_df.transpose()\n",
    "    df = tmp.join(MOD_df)\n",
    "    if (verbose):\n",
    "        print(\"with new lat/lon columns:\")\n",
    "        print(df)\n",
    "        \n",
    "    # Move row, column information from the index to their own columns               \n",
    "    df.reset_index(inplace=True)\n",
    "    df.rename(columns={'index':'pixel'}, inplace=True)\n",
    "    if (verbose):\n",
    "        print(\"with new pixel column:\")\n",
    "        print(df)\n",
    "    \n",
    "    df[\"Row\"] = df[\"Column\"] = \"\"\n",
    "    df[[\"Row\", \"Column\"]] = list(df.pixel.apply(parse_row_col))\n",
    "    if (verbose):\n",
    "        print(\"with new Row/Column columns:\")\n",
    "        print(df)\n",
    "    \n",
    "    return df"
   ]
  },
  {
   "cell_type": "code",
   "execution_count": 91,
   "id": "e5580054",
   "metadata": {},
   "outputs": [
    {
     "data": {
      "text/html": [
       "<div>\n",
       "<style scoped>\n",
       "    .dataframe tbody tr th:only-of-type {\n",
       "        vertical-align: middle;\n",
       "    }\n",
       "\n",
       "    .dataframe tbody tr th {\n",
       "        vertical-align: top;\n",
       "    }\n",
       "\n",
       "    .dataframe thead th {\n",
       "        text-align: right;\n",
       "    }\n",
       "</style>\n",
       "<table border=\"1\" class=\"dataframe\">\n",
       "  <thead>\n",
       "    <tr style=\"text-align: right;\">\n",
       "      <th></th>\n",
       "      <th>pixel</th>\n",
       "      <th>Latitude</th>\n",
       "      <th>Longitude</th>\n",
       "      <th>1995</th>\n",
       "      <th>1996</th>\n",
       "      <th>1997</th>\n",
       "      <th>Avg</th>\n",
       "      <th>Row</th>\n",
       "      <th>Column</th>\n",
       "    </tr>\n",
       "  </thead>\n",
       "  <tbody>\n",
       "    <tr>\n",
       "      <th>0</th>\n",
       "      <td>42,7</td>\n",
       "      <td>54.298965</td>\n",
       "      <td>-120.901070</td>\n",
       "      <td>128.0</td>\n",
       "      <td>108.0</td>\n",
       "      <td>97.0</td>\n",
       "      <td>111.000000</td>\n",
       "      <td>42</td>\n",
       "      <td>7</td>\n",
       "    </tr>\n",
       "    <tr>\n",
       "      <th>1</th>\n",
       "      <td>42,8</td>\n",
       "      <td>54.501160</td>\n",
       "      <td>-121.089820</td>\n",
       "      <td>129.0</td>\n",
       "      <td>73.0</td>\n",
       "      <td>97.0</td>\n",
       "      <td>99.666667</td>\n",
       "      <td>42</td>\n",
       "      <td>8</td>\n",
       "    </tr>\n",
       "    <tr>\n",
       "      <th>2</th>\n",
       "      <td>42,9</td>\n",
       "      <td>54.702831</td>\n",
       "      <td>-121.280655</td>\n",
       "      <td>128.0</td>\n",
       "      <td>106.0</td>\n",
       "      <td>105.0</td>\n",
       "      <td>113.000000</td>\n",
       "      <td>42</td>\n",
       "      <td>9</td>\n",
       "    </tr>\n",
       "    <tr>\n",
       "      <th>3</th>\n",
       "      <td>42,10</td>\n",
       "      <td>54.903973</td>\n",
       "      <td>-121.473605</td>\n",
       "      <td>127.0</td>\n",
       "      <td>73.0</td>\n",
       "      <td>97.0</td>\n",
       "      <td>99.000000</td>\n",
       "      <td>42</td>\n",
       "      <td>10</td>\n",
       "    </tr>\n",
       "    <tr>\n",
       "      <th>4</th>\n",
       "      <td>42,11</td>\n",
       "      <td>55.104580</td>\n",
       "      <td>-121.668703</td>\n",
       "      <td>127.0</td>\n",
       "      <td>49.0</td>\n",
       "      <td>95.0</td>\n",
       "      <td>90.333333</td>\n",
       "      <td>42</td>\n",
       "      <td>11</td>\n",
       "    </tr>\n",
       "    <tr>\n",
       "      <th>...</th>\n",
       "      <td>...</td>\n",
       "      <td>...</td>\n",
       "      <td>...</td>\n",
       "      <td>...</td>\n",
       "      <td>...</td>\n",
       "      <td>...</td>\n",
       "      <td>...</td>\n",
       "      <td>...</td>\n",
       "      <td>...</td>\n",
       "    </tr>\n",
       "    <tr>\n",
       "      <th>1711</th>\n",
       "      <td>93,35</td>\n",
       "      <td>65.053314</td>\n",
       "      <td>-105.482482</td>\n",
       "      <td>NaN</td>\n",
       "      <td>143.0</td>\n",
       "      <td>140.0</td>\n",
       "      <td>141.500000</td>\n",
       "      <td>93</td>\n",
       "      <td>35</td>\n",
       "    </tr>\n",
       "    <tr>\n",
       "      <th>1712</th>\n",
       "      <td>93,36</td>\n",
       "      <td>65.274502</td>\n",
       "      <td>-105.622100</td>\n",
       "      <td>283.0</td>\n",
       "      <td>147.0</td>\n",
       "      <td>140.0</td>\n",
       "      <td>190.000000</td>\n",
       "      <td>93</td>\n",
       "      <td>36</td>\n",
       "    </tr>\n",
       "    <tr>\n",
       "      <th>1713</th>\n",
       "      <td>93,37</td>\n",
       "      <td>65.495438</td>\n",
       "      <td>-105.764195</td>\n",
       "      <td>NaN</td>\n",
       "      <td>142.0</td>\n",
       "      <td>NaN</td>\n",
       "      <td>142.000000</td>\n",
       "      <td>93</td>\n",
       "      <td>37</td>\n",
       "    </tr>\n",
       "    <tr>\n",
       "      <th>1714</th>\n",
       "      <td>93,38</td>\n",
       "      <td>65.716120</td>\n",
       "      <td>-105.908832</td>\n",
       "      <td>NaN</td>\n",
       "      <td>142.0</td>\n",
       "      <td>142.0</td>\n",
       "      <td>142.000000</td>\n",
       "      <td>93</td>\n",
       "      <td>38</td>\n",
       "    </tr>\n",
       "    <tr>\n",
       "      <th>1715</th>\n",
       "      <td>93,39</td>\n",
       "      <td>65.936544</td>\n",
       "      <td>-106.056077</td>\n",
       "      <td>NaN</td>\n",
       "      <td>143.0</td>\n",
       "      <td>141.0</td>\n",
       "      <td>142.000000</td>\n",
       "      <td>93</td>\n",
       "      <td>39</td>\n",
       "    </tr>\n",
       "  </tbody>\n",
       "</table>\n",
       "<p>1716 rows × 9 columns</p>\n",
       "</div>"
      ],
      "text/plain": [
       "      pixel   Latitude   Longitude   1995   1996   1997         Avg  Row  \\\n",
       "0      42,7  54.298965 -120.901070  128.0  108.0   97.0  111.000000   42   \n",
       "1      42,8  54.501160 -121.089820  129.0   73.0   97.0   99.666667   42   \n",
       "2      42,9  54.702831 -121.280655  128.0  106.0  105.0  113.000000   42   \n",
       "3     42,10  54.903973 -121.473605  127.0   73.0   97.0   99.000000   42   \n",
       "4     42,11  55.104580 -121.668703  127.0   49.0   95.0   90.333333   42   \n",
       "...     ...        ...         ...    ...    ...    ...         ...  ...   \n",
       "1711  93,35  65.053314 -105.482482    NaN  143.0  140.0  141.500000   93   \n",
       "1712  93,36  65.274502 -105.622100  283.0  147.0  140.0  190.000000   93   \n",
       "1713  93,37  65.495438 -105.764195    NaN  142.0    NaN  142.000000   93   \n",
       "1714  93,38  65.716120 -105.908832    NaN  142.0  142.0  142.000000   93   \n",
       "1715  93,39  65.936544 -106.056077    NaN  143.0  141.0  142.000000   93   \n",
       "\n",
       "      Column  \n",
       "0          7  \n",
       "1          8  \n",
       "2          9  \n",
       "3         10  \n",
       "4         11  \n",
       "...      ...  \n",
       "1711      35  \n",
       "1712      36  \n",
       "1713      37  \n",
       "1714      38  \n",
       "1715      39  \n",
       "\n",
       "[1716 rows x 9 columns]"
      ]
     },
     "execution_count": 91,
     "metadata": {},
     "output_type": "execute_result"
    }
   ],
   "source": [
    "df = merge_MOD_and_geo_dfs(MOD_df, geo_df)\n",
    "df"
   ]
  },
  {
   "cell_type": "markdown",
   "id": "ba57cedb",
   "metadata": {},
   "source": [
    "# Initialize a grid object for the transformations between lat/lon, row/col and x/y\n",
    "\n",
    "This will depend on whether data are GRD (25 km) or SIR (6.25 or 3.125)"
   ]
  },
  {
   "cell_type": "code",
   "execution_count": 45,
   "id": "c5406a5b",
   "metadata": {},
   "outputs": [],
   "source": [
    "from cetbtools import ease2conv\n",
    "N25grid = ease2conv.Ease2Transform(gridname=\"EASE2_N25km\")\n",
    "N3grid = ease2conv.Ease2Transform(gridname=\"EASE2_N3.125km\")"
   ]
  },
  {
   "cell_type": "markdown",
   "id": "cc9aadbf",
   "metadata": {},
   "source": [
    "# Function that takes a column of the original MOD df and reshapes it to a 2D array"
   ]
  },
  {
   "cell_type": "code",
   "execution_count": 85,
   "id": "246e9a01",
   "metadata": {},
   "outputs": [],
   "source": [
    "def write_df_column_to_geotiff(df, column, outfilename, grid, dtype='int16', verbose=False):\n",
    "\n",
    "    nrows = int(df.iloc[-1].Row - df.iloc[0].Row + 1)\n",
    "    ncols = int(df.iloc[-1].Column - df.iloc[0].Column + 1)\n",
    "    \n",
    "    # Coerce array data to requested dtype\n",
    "    data = np.array(df[column].values.data).reshape(nrows, ncols)\n",
    "    data = data.astype(dtype)\n",
    "    if verbose:\n",
    "        print('data dtype = %s, nrows = %d, ncols = %d' % \n",
    "              (data.dtype, nrows, ncols),\n",
    "             file=sys.stderr,\n",
    "             flush=True)\n",
    "    \n",
    "    if (\"float32\" == data.dtype):                                                                    \n",
    "        gdal_data_type = gdal.GDT_Float32                                                       \n",
    "    elif (\"int8\" == data.dtype):                                                                  \n",
    "        gdal_data_type = gdal.GDT_Byte                                                          \n",
    "    elif (\"int16\" == data.dtype):                                                                  \n",
    "        gdal_data_type = gdal.GDT_Int16                                                         \n",
    "    else:                                                                                       \n",
    "        print(\"%s : Unrecognized type %s \" %                                                 \n",
    "              (my_name, str(data.dtype)),                                             \n",
    "              file=sys.stderr,                                                                  \n",
    "              flush=True)                                                                       \n",
    "        raise ValueError                                                                        \n",
    "\n",
    "    # Initialize the output driver\n",
    "    # Documentation for raster GTiff driver here: https://gdal.org/drivers/raster/gtiff.html#raster-gtiff\n",
    "    driver = gdal.GetDriverByName(\"GTiff\")                                                      \n",
    "                                                                                                \n",
    "    # use this to control block sizes:\n",
    "    # dest_ds_options = ['COMPRESS=LZW', 'TILED=YES', 'BLOCKXSIZE=256', 'BLOCKYSIZE=256']  \n",
    "    dest_ds_options = ['COMPRESS=LZW']\n",
    "    dest_ds = driver.Create(outfilename, ncols, nrows, 1, gdal_data_type, dest_ds_options)\n",
    "    \n",
    "    # Initialize the projection information                                                     \n",
    "    # The crs.proj4text attribute can also be used here,                                        \n",
    "    # but the srid attribute provides more complete PROJCRS metadata                            \n",
    "    proj = osr.SpatialReference()                                                                                                                   \n",
    "    proj.SetFromUserInput(grid.epsg)                                                             \n",
    "    dest_ds.SetProjection(proj.ExportToWkt())\n",
    "    \n",
    "    # Initialize the grid information (extent and scale)                                        \n",
    "    # Thanks to web page at:                                                                    \n",
    "    # http://geoexamples.blogspot.com/2012/01/                                                  \n",
    "    # creating-files-in-ogr-and-gdal-with.html                                                  \n",
    "    # The geotransform defines the relation between the                                         \n",
    "    # raster coordinates x, y and the                                                           \n",
    "    # geographic coordinates, using the following definition:                                   \n",
    "    # Xgeo = geotransform[0] + Xpixel*geotransform[1] + Yline*geotransform[2]                   \n",
    "    # Ygeo = geotransform[3] + Xpixel*geotransform[4] + Yline*geotransform[5]                   \n",
    "    # The first and fourth parameters define the origin of the upper left pixel                 \n",
    "    # The second and sixth parameters define the pixels size.                                   \n",
    "    # The third and fifth parameters define the rotation of the raster.                         \n",
    "    # Values are meters                                                                         \n",
    "    # The UL information is the center of the UL corner pixel in projected\n",
    "    # coordinates\n",
    "    ULrow, ULcol = grid.geographic_to_grid(df.iloc[0].Latitude, df.iloc[0].Longitude)\n",
    "    print(ULrow, ULcol)\n",
    "    ULrow = int(ULrow + 0.5)\n",
    "    ULcol = int(ULcol + 0.5)\n",
    "    \n",
    "    map_ULx, map_ULy = grid.grid_to_map(ULrow, ULcol)\n",
    "    print(\"UL: \", ULrow, ULcol, df.iloc[0].Latitude, df.iloc[0].Longitude, map_ULx, map_ULy)\n",
    "    \n",
    "    LRrow, LRcol = grid.geographic_to_grid(df.iloc[-1].Latitude, df.iloc[-1].Longitude)\n",
    "    LRrow = int(LRrow + 0.5)\n",
    "    LRcol = int(LRcol + 0.5)\n",
    "    map_LRx, map_LRy = grid.grid_to_map(LRrow, LRcol)\n",
    "    print(\"LR: \", LRrow, LRcol, df.iloc[-1].Latitude, df.iloc[-1].Longitude, map_LRx, map_LRy)\n",
    "    \n",
    "    # Get the projection scales by dividing the projected extents from UL and LR pixels\n",
    "    # by row/col dimensions\n",
    "    scale_x = (map_LRx - map_ULx) / double(ncols - 1)\n",
    "    scale_y = -1. * (map_ULy - map_LRy) / double(nrows - 1)\n",
    "    print('scale x, y = %f, %f' % (scale_x, scale_y))\n",
    "\n",
    "    cornerULx = map_ULx - (scale_x / 2.)\n",
    "    cornerULy = map_ULy - (scale_y / 2.)\n",
    "    print(\"cornerUL: \", cornerULx, cornerULy)\n",
    "    geotransform = (cornerULx, scale_x, 0., cornerULy, 0., scale_y)                               \n",
    "    dest_ds.SetGeoTransform(geotransform)                                                       \n",
    "    dest_ds.GetRasterBand(1).WriteArray(data) \n",
    "                                                     \n",
    "    dest_ds = None\n",
    "\n",
    "    if verbose:                                                                                 \n",
    "        print(\"\\n%s geotiff image saved to: %s\" %                                          \n",
    "              (str(column), outfilename),                                                 \n",
    "              file=sys.stderr,                                                                  \n",
    "              flush=True)  "
   ]
  },
  {
   "cell_type": "code",
   "execution_count": 29,
   "id": "82d468da",
   "metadata": {},
   "outputs": [
    {
     "name": "stdout",
     "output_type": "stream",
     "text": [
      "278.9999999952083 224.99999999199392\n",
      "279 225\n",
      "-3362500.0 2012500.0\n"
     ]
    }
   ],
   "source": [
    "ULrow, ULcol = N25grid.geographic_to_grid(df.iloc[0].Latitude, df.iloc[0].Longitude)\n",
    "print(ULrow, ULcol)\n",
    "ULrow = int(ULrow + 0.5)\n",
    "ULcol = int(ULcol + 0.5)\n",
    "print(ULrow, ULcol)\n",
    "ULx, ULy = N25grid.grid_to_map(ULrow, ULcol)\n",
    "print(ULx, ULy)"
   ]
  },
  {
   "cell_type": "code",
   "execution_count": 93,
   "id": "86129f8c",
   "metadata": {},
   "outputs": [
    {
     "name": "stderr",
     "output_type": "stream",
     "text": [
      "data dtype = int16, nrows = 52, ncols = 33\n",
      "\n",
      "1995 geotiff image saved to: test.tif\n"
     ]
    },
    {
     "name": "stdout",
     "output_type": "stream",
     "text": [
      "278.9999999952083 224.99999999199392\n",
      "UL:  279 225 54.29896460555291 -120.9010697086037 -3362500.0 2012500.0\n",
      "LR:  330 257 65.93654385712269 -106.05607659939838 -2562500.0 737500.0\n",
      "scale x, y = 25000.000000, -25000.000000\n",
      "cornerUL:  -3375000.0 2025000.0\n"
     ]
    }
   ],
   "source": [
    "column = 1995\n",
    "outfilename = 'test.tif'\n",
    "grid = N25grid\n",
    "write_df_column_to_geotiff(df, column, outfilename, grid, verbose=True)"
   ]
  },
  {
   "cell_type": "code",
   "execution_count": 65,
   "id": "2169322f",
   "metadata": {},
   "outputs": [
    {
     "data": {
      "text/plain": [
       "2025000.0"
      ]
     },
     "execution_count": 65,
     "metadata": {},
     "output_type": "execute_result"
    }
   ],
   "source": [
    "2012500 + 12500."
   ]
  },
  {
   "cell_type": "code",
   "execution_count": 40,
   "id": "fc86cf90",
   "metadata": {},
   "outputs": [
    {
     "data": {
      "text/plain": [
       "'/Users/mj/nsidc0630_v1/MODs'"
      ]
     },
     "execution_count": 40,
     "metadata": {},
     "output_type": "execute_result"
    }
   ],
   "source": [
    "%pwd\n"
   ]
  },
  {
   "cell_type": "code",
   "execution_count": null,
   "id": "84eba45e",
   "metadata": {},
   "outputs": [],
   "source": [
    "for column in MOD_df:\n",
    "    print('next array is %s' % column)\n",
    "    data = np.array(MOD_df[column].values.data).reshape(nrows, ncols)\n",
    "    print(vals.dtype)"
   ]
  },
  {
   "cell_type": "code",
   "execution_count": null,
   "id": "190ef8c1",
   "metadata": {},
   "outputs": [],
   "source": [
    "data = np.reshape()"
   ]
  },
  {
   "cell_type": "markdown",
   "id": "8c40a3c2",
   "metadata": {},
   "source": [
    "# Figure out if (42,7) is relative to EASE-Grid 2.0 or WesternCA subset"
   ]
  },
  {
   "cell_type": "code",
   "execution_count": null,
   "id": "c0dc8b94",
   "metadata": {},
   "outputs": [],
   "source": [
    "from cetbtools import ease2conv\n",
    "Ngrid = ease2conv.Ease2Transform(gridname=\"EASE2_N25km\")"
   ]
  },
  {
   "cell_type": "code",
   "execution_count": null,
   "id": "63db9541",
   "metadata": {},
   "outputs": [],
   "source": [
    "geo_df['42,7']"
   ]
  },
  {
   "cell_type": "code",
   "execution_count": null,
   "id": "a6c86ab8",
   "metadata": {},
   "outputs": [],
   "source": [
    "geo_df.iloc[:,0].Latitude, geo_df.iloc[:,0].Longitude"
   ]
  },
  {
   "cell_type": "code",
   "execution_count": null,
   "id": "6abf28ae",
   "metadata": {},
   "outputs": [],
   "source": [
    "ULrow, ULcol = Ngrid.geographic_to_grid(geo_df.iloc[:,0].Latitude, geo_df.iloc[:,0].Longitude)\n",
    "ULrow, ULcol"
   ]
  },
  {
   "cell_type": "code",
   "execution_count": null,
   "id": "f5ef7aa8",
   "metadata": {},
   "outputs": [],
   "source": [
    "Ngrid.grid_to_geographic(279, 225)"
   ]
  },
  {
   "cell_type": "code",
   "execution_count": null,
   "id": "28f93532",
   "metadata": {
    "scrolled": false
   },
   "outputs": [],
   "source": [
    "#help(Ngrid)"
   ]
  },
  {
   "cell_type": "code",
   "execution_count": null,
   "id": "33f63f2d",
   "metadata": {},
   "outputs": [],
   "source": [
    "(x, y) Ngrid.grid_to_map(279, 225)"
   ]
  },
  {
   "cell_type": "code",
   "execution_count": null,
   "id": "4cdcccf6",
   "metadata": {},
   "outputs": [],
   "source": [
    "np.floor(np.array([-2.5, -1.5, -0.5, 0.0, 0.5, 1.5]) + 0.5)"
   ]
  },
  {
   "cell_type": "markdown",
   "id": "154ba368",
   "metadata": {},
   "source": [
    "# Function that takes a column of the original MOD df and reshapes it to a 2D array"
   ]
  }
 ],
 "metadata": {
  "kernelspec": {
   "display_name": "Python 3 (ipykernel)",
   "language": "python",
   "name": "python3"
  },
  "language_info": {
   "codemirror_mode": {
    "name": "ipython",
    "version": 3
   },
   "file_extension": ".py",
   "mimetype": "text/x-python",
   "name": "python",
   "nbconvert_exporter": "python",
   "pygments_lexer": "ipython3",
   "version": "3.7.12"
  }
 },
 "nbformat": 4,
 "nbformat_minor": 5
}
