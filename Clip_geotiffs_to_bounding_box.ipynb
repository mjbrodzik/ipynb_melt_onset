{
 "cells": [
  {
   "cell_type": "markdown",
   "metadata": {},
   "source": [
    "# Clip_geotiffs_to_bounding_box\n",
    "\n",
    "Uses geopandas to clip image geotiffs to a specified bounding box\n",
    "\n",
    "This notebook requires a few special packages"
   ]
  },
  {
   "cell_type": "markdown",
   "metadata": {},
   "source": [
    "## Load in all the modules needed"
   ]
  },
  {
   "cell_type": "code",
   "execution_count": null,
   "metadata": {},
   "outputs": [],
   "source": [
    "%matplotlib inline\n",
    "# check if a windows machine, it needs special attention\n",
    "# this extra step will bypass an error from mpl_toolkits.basemap\n",
    "import os\n",
    "if os.name == 'nt':\n",
    "    os.environ[\"PROJ_LIB\"] = os.path.join(os.environ[\"CONDA_PREFIX\"], \"Library\", \"share\")\n",
    "    os.environ[\"GDAL_DATA\"] = os.path.join(os.environ[\"CONDA_PREFIX\"], \"Library\", \"share\", \"gdal\")\n",
    "import matplotlib.pyplot as plt\n",
    "import glob\n",
    "from pathlib import Path\n",
    "\n",
    "import rasterio\n",
    "from rasterio.plot import show\n",
    "from rasterio.mask import mask\n",
    "from shapely.geometry import box\n",
    "import geopandas as geopd\n",
    "from fiona.crs import from_epsg\n",
    "import pycrs\n",
    "import re"
   ]
  },
  {
   "cell_type": "code",
   "execution_count": null,
   "metadata": {},
   "outputs": [],
   "source": [
    "# Define the local machine location of CETB data cubes\n",
    "# This directory is expected to contain subdirectories in the following hierarchy\n",
    "# that duplicates the hierarchy on the Google Shared Drive NSIDC-SD-CETB/v1/, \n",
    "# for example:\n",
    "# dataDir/F13_SSMI/N/nc_cubes/cubes_<regionName>\n",
    "#\n",
    "# outDir is the location where pkl files with the MOD data frames and geotiffs\n",
    "# will be stored. We are keeping it separate from the large cubefile data store\n",
    "# so that individual people can keep track of their own output files separately\n",
    "user = 'MJMac' #Mariah #MJWindows\n",
    "if ('Joan' == user):\n",
    "    #dataDir = '/mnt/data3/cetb/nsidc0630_v1/' #jmr machine fringe \n",
    "    dataDir = Path(Path.home(), 'ceph', 'jmr204group','CETB_cubes')\n",
    "    scriptDir = Path(Path.home(), 'ipynb_melt_onset', 'scripts')\n",
    "#    outDir = Path(Path.home(), 'cetb/ipynb_melt__onset_plots')  #may need a spot for derived data\n",
    "elif ('Mariah' == user):\n",
    "    dataDir = Path('R:\\\\jmr204group\\CETB_cubes')  # Mariah's PC\n",
    "    scriptDir = Path(Path.home(), 'ipynb_melt_onset', 'scripts')\n",
    "    outDir = Path(Path.home(), 'ipynb_melt_onset_plots') # may want to update this to a geotiff output directory\n",
    "elif ('MJWindows' == user):\n",
    "    dataDir = Path('Z:/mj On My Mac/nsidc0630_v1') # Mary Jo's Windows machine\n",
    "    scriptDir = Path(Path.home(), 'ipynb_melt_onset', 'scripts')\n",
    "    outDir = Path(Path.home(), 'ipynb_melt_onset_plots') # may want to update this to a geotiff output directory\n",
    "elif ('MJMac' == user):\n",
    "    dataDir = Path(Path.home(), 'nsidc0630_v1') # Mary Jo's Mac\n",
    "    scriptDir = Path(Path.home(), 'ipynb_melt_onset', 'scripts')  \n",
    "    outDir = Path(Path.home(), 'nsidc0630_v1')\n",
    "else:\n",
    "    raise ValueError(\"unknown user= %s\\n\" % (user) )\n",
    "    \n",
    "%cd $scriptDir\n",
    "outDir, dataDir, user"
   ]
  },
  {
   "cell_type": "markdown",
   "metadata": {},
   "source": [
    "## Specify inputs"
   ]
  },
  {
   "cell_type": "code",
   "execution_count": null,
   "metadata": {},
   "outputs": [],
   "source": [
    "# SPECIFY latitude and longitude in decimal degrees, need to choose lat/lon corners so that we will load\n",
    "# in a rectangle of pixels within the corners of these coordinates\n",
    "areaname='fairbanks' #'gsl' #'hunza' #'vatna' etc\n",
    "\n",
    "if ('vatna' == areaname):\n",
    "    lat_start=63.75  \n",
    "    lat_end=64.88    \n",
    "    lon_start=-20 \n",
    "    lon_end=-15  \n",
    "    #Enter a site name for titles of plots\n",
    "    Site='Vatnajokull, Iceland'\n",
    "elif 'hunza' == areaname:\n",
    "    lat_start=35.9  \n",
    "    lat_end=37.1   \n",
    "    lon_start=74 \n",
    "    lon_end=76 \n",
    "    #Enter a site name for titles of plots\n",
    "    Site='Hunza Basin'\n",
    "elif 'gsl' == areaname:\n",
    "    lat_start=59.00  \n",
    "    lat_end=67.00   \n",
    "    lon_start=-119.00 \n",
    "    lon_end=-107.00\n",
    "    #Enter a site name for titles of plots\n",
    "    Site='Great Slave Lake, Canada'\n",
    "elif 'bathurst_range' == areaname:\n",
    "    lat_start=60.00  \n",
    "    lat_end=67.25   \n",
    "    lon_start=-119.00 \n",
    "    lon_end=-107.50\n",
    "    #Enter a site name for titles of plots\n",
    "    Site='Bathurst Caribou Range, NWT'\n",
    "elif 'bathurst_range2' == areaname:\n",
    "    lat_start=63.00  \n",
    "    lat_end=65.500   \n",
    "    lon_start=-117.500 \n",
    "    lon_end=-112.00\n",
    "    #Enter a site name for titles of plots\n",
    "    Site='Bathurst Caribou Range subset, NWT'\n",
    "elif ('barrow' == areaname):\n",
    "    lat_start=69.50  \n",
    "    lat_end=71.50    \n",
    "    lon_start=-158 \n",
    "    lon_end=-152  \n",
    "    #Enter a site name for titles of plots\n",
    "    Site='Barrow/Utkiagvik, AK'  \n",
    "elif ('fairbanks' == areaname):\n",
    "    lat_start=63.0  \n",
    "    lat_end=66.7    \n",
    "    lon_start=-151.8\n",
    "    lon_end=-143.4  \n",
    "    #Enter a site name for titles of plots\n",
    "    Site='Fairbanks, AK'\n",
    "else: \n",
    "    raise ValueError(\"Unknown area name=%s\" % (areaname)) "
   ]
  },
  {
   "cell_type": "markdown",
   "metadata": {},
   "source": [
    "# Save the MOD by year data frames for SIR and GRD to pickle files (with lat/lon geolocation)\n",
    "\n",
    "Also saving geolocation and melt onset flag data frames"
   ]
  },
  {
   "cell_type": "code",
   "execution_count": null,
   "metadata": {},
   "outputs": [],
   "source": [
    "modsDir = \"%s/MODs\" % outDir\n",
    "list = sorted(glob.glob(\"%s/EASE2_N3.125km*-%s.*.MOD.*tif\" % (modsDir, areaname)))\n",
    "list\n"
   ]
  },
  {
   "cell_type": "markdown",
   "metadata": {},
   "source": [
    "## Clip the tif area to the lat/lon bounding box\n",
    "\n",
    "The default behavior for the .tif image is the EASE2-projected box that encloses\n",
    "the original bounding box.  This procedure will clip the .tif image to just the\n",
    "lat/lon box (even it's rotated in EASE2).\n",
    "\n",
    "The following uses this web page as an example:\n",
    "\n",
    "https://automating-gis-processes.github.io/CSC18/lessons/L6/clipping-raster.html"
   ]
  },
  {
   "cell_type": "code",
   "execution_count": null,
   "metadata": {},
   "outputs": [],
   "source": [
    "def getFeatures(gdf):\n",
    "    \"\"\"Function to parse features from GeoDataFrame to the format that rasterio wants\"\"\"\n",
    "    import json\n",
    "    return[json.loads(gdf.to_json())['features'][0]['geometry']]"
   ]
  },
  {
   "cell_type": "code",
   "execution_count": null,
   "metadata": {},
   "outputs": [],
   "source": [
    "def clip_tif_to_bbox(outFileName, fileName, lat_start, lat_end, lon_start, lon_end):\n",
    "    # Open the input geotiff\n",
    "    data = rasterio.open(fileName)\n",
    "    \n",
    "    # Make a shapely bounding box using the input lat/lon bounds\n",
    "    bbox = box(lon_start, lat_start, lon_end, lat_end)\n",
    "    \n",
    "    # Insert the bounding box into a GeoDataFrame (4326 is lat/lon)\n",
    "    # and reproject into the projection from the input geotiff (e.g. EASE2_N)\n",
    "    geo = geopd.GeoDataFrame({'geometry': bbox}, index=[0], crs=from_epsg(4326))\n",
    "    geo = geo.to_crs(crs=data.crs.data)\n",
    "    \n",
    "    # Get the geometry coordinates in format that rasterio wants \n",
    "    coords = getFeatures(geo)\n",
    "    \n",
    "    # Clip to the bbox\n",
    "    out_img, out_transform = mask(data, shapes=coords, crop=True)\n",
    "    \n",
    "    # Set up metadata (not sure if height/width will always be different, but\n",
    "    # set them to the clipped size just to be sure)\n",
    "    out_meta = data.meta.copy()\n",
    "    out_meta.update({\"height\": out_img.shape[1],\n",
    "                     \"width\": out_img.shape[2]})\n",
    "    \n",
    "    with rasterio.open(outFileName, \"w\", **out_meta) as dest:\n",
    "        dest.write(out_img)\n",
    "        \n",
    "    print(\"Wrote clipped image to %s\\n\" % outFileName)\n",
    "        "
   ]
  },
  {
   "cell_type": "code",
   "execution_count": null,
   "metadata": {},
   "outputs": [],
   "source": [
    "clipStr = \"%s-clip\" % areaname\n",
    "for f in list:\n",
    "    print(\"Next file = %s\" % f)\n",
    "    outFile = re.sub(areaname, clipStr, f)\n",
    "    clip_tif_to_bbox(outFile, f, lat_start, lat_end, lon_start, lon_end)"
   ]
  },
  {
   "cell_type": "code",
   "execution_count": null,
   "metadata": {},
   "outputs": [],
   "source": [
    "data = rasterio.open(list[0])\n",
    "data.meta"
   ]
  },
  {
   "cell_type": "code",
   "execution_count": null,
   "metadata": {},
   "outputs": [],
   "source": [
    "show((data, 1))"
   ]
  },
  {
   "cell_type": "code",
   "execution_count": null,
   "metadata": {},
   "outputs": [],
   "source": [
    "clipped = rasterio.open(outFileName)\n",
    "clipped"
   ]
  },
  {
   "cell_type": "code",
   "execution_count": null,
   "metadata": {},
   "outputs": [],
   "source": [
    "show((clipped, 1))"
   ]
  }
 ],
 "metadata": {
  "kernelspec": {
   "display_name": "Python 3 (ipykernel)",
   "language": "python",
   "name": "python3"
  },
  "language_info": {
   "codemirror_mode": {
    "name": "ipython",
    "version": 3
   },
   "file_extension": ".py",
   "mimetype": "text/x-python",
   "name": "python",
   "nbconvert_exporter": "python",
   "pygments_lexer": "ipython3",
   "version": "3.10.8"
  }
 },
 "nbformat": 4,
 "nbformat_minor": 2
}
