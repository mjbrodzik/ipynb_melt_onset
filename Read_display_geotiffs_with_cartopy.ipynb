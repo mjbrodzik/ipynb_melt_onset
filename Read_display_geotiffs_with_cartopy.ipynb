{
 "cells": [
  {
   "cell_type": "markdown",
   "metadata": {},
   "source": [
    "# This notebook reads MOD data from geotiffs and displays with cartopy\n",
    "\n",
    "## Spatial data from rSIR and GRD are displayed using cartopy, with some overlays\n"
   ]
  },
  {
   "cell_type": "markdown",
   "metadata": {},
   "source": [
    "## Load in all the modules needed\n",
    "\n",
    "No longer requires Basemap, now using cartopy for projection information, and shapely for basin outlines."
   ]
  },
  {
   "cell_type": "code",
   "execution_count": null,
   "metadata": {},
   "outputs": [],
   "source": [
    "%pylab notebook\n",
    "import cartopy.crs as ccrs\n",
    "from cartopy.io.shapereader import Reader\n",
    "from cartopy.feature import ShapelyFeature\n",
    "from osgeo import gdal, gdal_array  ## to read geotiff array as numpy\n",
    "import shapely.geometry as sgeom\n",
    "import glob\n",
    "import matplotlib.pyplot as plt\n",
    "from netCDF4 import Dataset, num2date\n",
    "import numpy as np\n",
    "import os\n",
    "if os.name == 'nt':\n",
    "    os.environ[\"PROJ_LIB\"] = os.path.join(os.environ[\"CONDA_PREFIX\"], \"Library\", \"share\")\n",
    "    os.environ[\"GDAL_DATA\"] = os.path.join(os.environ[\"CONDA_PREFIX\"], \"Library\", \"share\", \"gdal\")\n",
    "import pandas as pd\n",
    "from cetbtools.ease2conv import Ease2Transform\n",
    "#from mpl_toolkits.basemap import Basemap\n",
    "from pathlib import Path\n",
    "import time"
   ]
  },
  {
   "cell_type": "code",
   "execution_count": null,
   "metadata": {},
   "outputs": [],
   "source": [
    "pd.set_option('display.max_rows', 999)\n",
    "pd.set_option('display.min_rows', 200)\n",
    "pd.set_option('display.max_columns', 10)\n",
    "pd.set_option('display.width', 120)\n",
    "pd.set_option('display.max_colwidth', 10)"
   ]
  },
  {
   "cell_type": "code",
   "execution_count": null,
   "metadata": {},
   "outputs": [],
   "source": [
    "# Define the local machine location of CETB data cubes\n",
    "# This directory is expected to contain subdirectories in the following hierarchy\n",
    "# that duplicates the hierarchy on the Google Shared Drive NSIDC-SD-CETB/v1/, \n",
    "# for example:\n",
    "# dataDir/F13_SSMI/N/nc_cubes/cubes_<regionName>\n",
    "user = 'MJMac' #Mariah #MJWindows\n",
    "if ('Joan' == user):\n",
    "    dataDir = '/mnt/data3/cetb/nsidc0630_v1/' #jmr machine fringe \n",
    "    scriptDir = '/mnt/data3/cetb/ipynb_melt_onset/scripts'\n",
    "    GISDir = ''\n",
    "elif ('Mariah' == user):\n",
    "    dataDir = Path(Path.home(), 'nsidc0630_v1') # Mariah's PC or Mary Jo's Mac\n",
    "    scriptDir = Path(Path.home(), 'ipynb_melt_onset', 'scripts')\n",
    "    GISDir = Path(Path.home(), 'GIS_data')\n",
    "elif ('MJWindows' == user):\n",
    "    dataDir = Path('Z:/mj On My Mac/nsidc0630_v1') # Mary Jo's Windows machine\n",
    "    scriptDir = Path(Path.home(), 'ipynb_melt_onset', 'scripts')\n",
    "    GISDir = Path(Path.home(), 'GIS_data')\n",
    "elif ('MJMac' == user):\n",
    "    dataDir = Path(Path.home(), 'nsidc0630_v1') # Mary Jo's Mac\n",
    "    scriptDir = Path(Path.home(), 'ipynb_melt_onset', 'scripts')  \n",
    "    outDir = Path(Path.home(), 'ipynb_melt_onset_plots') \n",
    "else:\n",
    "    raise ValueError(\"unknown user= %s\\n\" % (user) )\n",
    "    \n",
    "%cd $scriptDir\n",
    "dataDir, user"
   ]
  },
  {
   "cell_type": "code",
   "execution_count": null,
   "metadata": {},
   "outputs": [],
   "source": [
    "# Load CETB package custom functions now\n",
    "\n",
    "# load the custom functions\n",
    "from CETB_IO import read_cetb_geotiff\n",
    "#from CETB_read_functions import coords\n",
    "#from CETB_read_functions import calc_DAV\n",
    "#from CETB_read_functions import find_UIB_cube_offset\n",
    "#from CETB_read_functions import grid_locations_of_UIB\n",
    "#from CETB_algorithms import DAV_MOD\n",
    "#from CETB_analysis import MOD_array\n",
    "#from CETB_analysis import MOD_array_year"
   ]
  },
  {
   "cell_type": "markdown",
   "metadata": {},
   "source": [
    "## Read some previously created MOD geotiff images"
   ]
  },
  {
   "cell_type": "code",
   "execution_count": null,
   "metadata": {},
   "outputs": [],
   "source": [
    "modsDir = \"%s/MODs\" % dataDir\n",
    "os.chdir(modsDir)\n",
    "#gpd = \"EASE2_N3.125km\"\n",
    "modFiles = sort(glob.glob(\"*.tif\"))\n",
    "modFiles"
   ]
  },
  {
   "cell_type": "markdown",
   "metadata": {},
   "source": [
    "## Info on reading a tif file with GDAL:\n",
    "https://automating-gis-processes.github.io/2016/Lesson7-read-raster-array.html\n",
    "\n",
    "from osgeo import gdal\n",
    "raster = gdal.Open(modFiles[1])\n",
    "type(raster)\n",
    "\n",
    "##Get Projection:\n",
    "\n",
    "raster.GetProjection()\n",
    "\n",
    "##Get number of band, dimensions of bands\n",
    "\n",
    "raster.RasterCount, raster.RasterXSize, raster.RasterYSize\n",
    "\n",
    "##Read the raster band as separate variable\n",
    "\n",
    "band = raster.GetRasterBand(1)\n",
    "\n",
    "##Check type of the variable 'band' and the data type of the contents\n",
    "\n",
    "type(band), gdal.GetDataTypeName(band.DataType)\n",
    "\n",
    "##Read raster data as numeric array from GDAL Dataset\n",
    "\n",
    "rasterArray = raster.ReadAsArray()"
   ]
  },
  {
   "cell_type": "code",
   "execution_count": null,
   "metadata": {},
   "outputs": [],
   "source": [
    "Years = [1995, 1996, 1997]"
   ]
  },
  {
   "cell_type": "code",
   "execution_count": null,
   "metadata": {},
   "outputs": [],
   "source": [
    "modFiles[3]"
   ]
  },
  {
   "cell_type": "code",
   "execution_count": null,
   "metadata": {},
   "outputs": [],
   "source": [
    "# Read raster data as numeric array from file\n",
    "MOD1995 = read_cetb_geotiff(modFiles[0], verbose=True)\n",
    "MOD1996 = read_cetb_geotiff(modFiles[1], verbose=True)\n",
    "MOD1997 = read_cetb_geotiff(modFiles[2], verbose=True)\n",
    "MODAVG = read_cetb_geotiff(modFiles[3], verbose=True)"
   ]
  },
  {
   "cell_type": "code",
   "execution_count": null,
   "metadata": {},
   "outputs": [],
   "source": [
    "MOD1995"
   ]
  },
  {
   "cell_type": "code",
   "execution_count": null,
   "metadata": {},
   "outputs": [],
   "source": [
    "type(MOD1995['img']), MOD1995['img'].shape"
   ]
  },
  {
   "cell_type": "code",
   "execution_count": null,
   "metadata": {},
   "outputs": [],
   "source": [
    "# For later: initialize the cartopy object according to the epsg code\n",
    "#new = ccrs.epsg('6931')\n",
    "#new"
   ]
  },
  {
   "cell_type": "code",
   "execution_count": null,
   "metadata": {},
   "outputs": [],
   "source": [
    "# Use cartopy to be able to geolocate the maps\n",
    "# Do a quick sanity check check the UL corner of EASE-Grid 2.0 N should be:\n",
    "# Answer should be lon=-135. lat=-84.634050\n",
    "geod = ccrs.Geodetic()\n",
    "e2n = ccrs.LambertAzimuthalEqualArea(central_latitude=90.0)\n",
    "lon, lat = geod.transform_point(\n",
    "    x = -9000000.,\n",
    "    y = 9000000.,\n",
    "    src_crs=e2n)\n",
    "print(lon, lat)"
   ]
  },
  {
   "cell_type": "markdown",
   "metadata": {},
   "source": [
    "# To get the pixel (row, col) and (x, y) values closest to a (lat, lon) location\n",
    "\n",
    "This operation can be done with the cartopy stuff in general cases, but the Ease2Transform object\n",
    "is custom-built for the EASE2 projections"
   ]
  },
  {
   "cell_type": "code",
   "execution_count": null,
   "metadata": {},
   "outputs": [],
   "source": [
    "from CETB_IO import get_nearest_ease2_coordinates\n",
    "\n",
    "# To get EASE2_N3.125km pixel closests to Great Slave Lake\n",
    "lat = 62.\n",
    "lon = -115.\n",
    "easegrid = Ease2Transform('EASE2_N25km')\n",
    "nn = get_nearest_ease2_coordinates(easegrid, lat, lon)\n",
    "nn"
   ]
  },
  {
   "cell_type": "code",
   "execution_count": null,
   "metadata": {},
   "outputs": [],
   "source": [
    "# For UIB cubes, I rotated 90 degrees clockwise, we can do this for our subsets, too\n",
    "# e2nRotate = ccrs.LambertAzimuthalEqualArea(central_latitude=90.0, central_longitude=90.0)"
   ]
  },
  {
   "cell_type": "markdown",
   "metadata": {},
   "source": [
    "## Read some shapefiles for overlays\n",
    "\n",
    "1) Use shapely to read the .shp files.  This works for lonlat shapefiles, \n",
    "it doesn't seem to work for projected ones, there must be an option that I'm just missing.\n"
   ]
  },
  {
   "cell_type": "code",
   "execution_count": null,
   "metadata": {},
   "outputs": [],
   "source": [
    "wetlandfile = '%s/wetlands/GLWD-level1/glwd_1.shp' % GISDir\n",
    "wetlandFeatures = ShapelyFeature(Reader(wetlandfile).geometries(),\n",
    "                                 ccrs.PlateCarree())"
   ]
  },
  {
   "cell_type": "code",
   "execution_count": null,
   "metadata": {},
   "outputs": [],
   "source": [
    "fishnetfile = '%s/cetb_fishnets/EASE2_N25_fishnet.shp' % GISDir\n",
    "fishnetFeatures = ShapelyFeature(Reader(fishnetfile).geometries(), e2n)\n"
   ]
  },
  {
   "cell_type": "code",
   "execution_count": null,
   "metadata": {},
   "outputs": [],
   "source": [
    "mindoy = np.min([np.min(MODAVG['img']), np.min(MOD1995['img']), \n",
    "                 np.min(MOD1996['img']), np.min(MOD1997['img'])])\n",
    "mindoy"
   ]
  },
  {
   "cell_type": "code",
   "execution_count": null,
   "metadata": {},
   "outputs": [],
   "source": [
    "maxdoy = np.max([np.max(MODAVG['img']), np.max(MOD1995['img']), \n",
    "                 np.max(MOD1996['img']), np.max(MOD1997['img'])])\n",
    "maxdoy"
   ]
  },
  {
   "cell_type": "code",
   "execution_count": null,
   "metadata": {},
   "outputs": [],
   "source": [
    "extent = list((MODAVG['extent']['minX'], MODAVG['extent']['maxX'], \n",
    "              MODAVG['extent']['minY'], MODAVG['extent']['maxY']))\n",
    "extent"
   ]
  },
  {
   "cell_type": "markdown",
   "metadata": {},
   "source": [
    "# This example is just displaying each array in turn, as an image (no geolocation information)"
   ]
  },
  {
   "cell_type": "code",
   "execution_count": null,
   "metadata": {
    "scrolled": true
   },
   "outputs": [],
   "source": [
    "fig, ax = plt.subplots(2, 2, figsize=(6,6))\n",
    "\n",
    "#mindoy = 50\n",
    "#maxdoy = 180\n",
    "\n",
    "label = \"SIR Avg MOD (%4d-%4d)\" % (Years[0], Years[-1])\n",
    "im0 = ax[0,0].imshow(MODAVG['img'], cmap='RdBu', interpolation='None', vmin=mindoy, vmax=maxdoy, label=label)\n",
    "cbar0 = fig.colorbar(im0, ax=ax[0,0])\n",
    "cbar0.ax.set_ylabel('DOY')\n",
    "ax[0,0].axis('off')\n",
    "ax[0,0].set_title(label)\n",
    "\n",
    "label = \"SIR MOD (%s)\" % Years[0]\n",
    "im1 = ax[0,1].imshow(MOD1995['img'], cmap='RdBu', interpolation='None', vmin=mindoy, vmax=maxdoy, label=label)\n",
    "fig.colorbar(im1, ax=ax[0,1])\n",
    "ax[0,1].axis('off')\n",
    "ax[0,1].set_title(label)\n",
    "\n",
    "label = \"SIR MOD (%s)\" % Years[1]\n",
    "im2 = ax[1,0].imshow(MOD1996['img'], cmap='RdBu', interpolation='None', vmin=mindoy, vmax=maxdoy, label=label)\n",
    "fig.colorbar(im2, ax=ax[1,0])\n",
    "ax[1,0].axis('off')\n",
    "ax[1,0].set_title(label)\n",
    "\n",
    "label = \"SIR MOD (%s)\" % Years[2]\n",
    "im3 = ax[1,1].imshow(MOD1997['img'], cmap='RdBu', interpolation='None', vmin=mindoy, vmax=maxdoy, label=label)\n",
    "fig.colorbar(im3, ax=ax[1,1])\n",
    "ax[1,1].axis('off')\n",
    "ax[1,1].set_title(label)\n",
    "\n",
    "plt.tight_layout()\n",
    "#fig.savefig(\"./test.SIR-avg-std-min-max.t%03d.png\" % (bandnum-1), dpi=300)"
   ]
  },
  {
   "cell_type": "markdown",
   "metadata": {},
   "source": [
    "# This next example makes the same plots, but with geolocation information so we can add overlays"
   ]
  },
  {
   "cell_type": "code",
   "execution_count": null,
   "metadata": {
    "scrolled": false
   },
   "outputs": [],
   "source": [
    "fig = plt.figure(figsize=(10,10))\n",
    "\n",
    "# Placeholders for the various elements of each subplot\n",
    "axes = []\n",
    "images = []\n",
    "\n",
    "numrows = 2\n",
    "numcols = 2\n",
    "numplots = 4\n",
    "\n",
    "labels = [\"SIR Avg MOD (%4d-%4d)\" % (Years[0], Years[-1]),\n",
    "          \"SIR MOD (%d)\" % Years[0],\n",
    "          \"SIR MOD (%d)\" % Years[1],\n",
    "          \"SIR MOD (%d)\" % Years[2]]\n",
    "\n",
    "# Set the projection and extent for each subplot\n",
    "for i in np.arange(numplots):\n",
    "    axes.append(fig.add_subplot(numrows, numcols, i+1, projection=e2n))\n",
    "    axes[i].set_extent(extent, crs=e2n)\n",
    "\n",
    "images.append(axes[0].imshow(MODAVG['img'], \n",
    "              extent=extent, \n",
    "              transform=e2n,\n",
    "              origin='upper', cmap='RdBu', \n",
    "              interpolation='None', vmin=mindoy, vmax=maxdoy, label=labels[0]))\n",
    "\n",
    "images.append(axes[1].imshow(MOD1995['img'],\n",
    "              extent=extent, \n",
    "              transform=e2n,\n",
    "              origin='upper', cmap='RdBu', \n",
    "              interpolation='None', vmin=mindoy, vmax=maxdoy, label=labels[1]))\n",
    "\n",
    "images.append(axes[2].imshow(MOD1996['img'],\n",
    "              extent=extent,\n",
    "              transform=e2n,\n",
    "              origin='upper', cmap='RdBu', \n",
    "              interpolation='None', vmin=mindoy, vmax=maxdoy, label=labels[2]))\n",
    "\n",
    "images.append(axes[3].imshow(MOD1997['img'],\n",
    "              extent=extent, \n",
    "              transform=e2n,\n",
    "              origin='upper', cmap='RdBu', \n",
    "              interpolation='None', vmin=mindoy, vmax=maxdoy, label=labels[3]))\n",
    "\n",
    "# Identify the location we have for pixel closest to our lat, lon for Great Slave Lake\n",
    "axes[0].plot(nn['x'], nn['y'], marker = '.', color='black', markersize=10)\n",
    "\n",
    "# Do common display stuff for each subplot\n",
    "for i in np.arange(numplots):\n",
    "    axes[i].axis('off')\n",
    "    axes[i].gridlines(color='gray', linestyle='--')\n",
    "    axes[i].coastlines()\n",
    "    axes[i].add_feature(wetlandFeatures, \n",
    "                        edgecolors='grey', facecolor='none', linewidth=0.5)\n",
    "    axes[i].add_feature(fishnetFeatures,\n",
    "                       edgecolors='white', facecolor='none', linewidth=0.5)\n",
    "#    axes[i].add_geometries([e2nRotateHunzaBasin], e2nRotate,\n",
    "#                      edgecolors='red', facecolor='none', lw=2)\n",
    "    #For separate colorbars:\n",
    "    cbar = fig.colorbar(images[i], ax=axes[i])\n",
    "    cbar.ax.set_ylabel('DOY')\n",
    "    axes[i].set_title(labels[i])\n",
    "\n",
    "plt.tight_layout()\n",
    "plt.show()\n",
    "#fig.savefig(\"./test.SIR-avg-std-min-max.t%03d.png\" % (bandnum-1), dpi=300)"
   ]
  },
  {
   "cell_type": "markdown",
   "metadata": {},
   "source": []
  },
  {
   "cell_type": "code",
   "execution_count": null,
   "metadata": {},
   "outputs": [],
   "source": []
  }
 ],
 "metadata": {
  "kernelspec": {
   "display_name": "Python 3 (ipykernel)",
   "language": "python",
   "name": "python3"
  },
  "language_info": {
   "codemirror_mode": {
    "name": "ipython",
    "version": 3
   },
   "file_extension": ".py",
   "mimetype": "text/x-python",
   "name": "python",
   "nbconvert_exporter": "python",
   "pygments_lexer": "ipython3",
   "version": "3.7.12"
  }
 },
 "nbformat": 4,
 "nbformat_minor": 2
}
